{
 "cells": [
  {
   "cell_type": "markdown",
   "id": "2063fea1",
   "metadata": {},
   "source": [
    "<!--NAVIGATION-->\n",
    "< [Indice](indice.ipynb)  |  [to be defined]>"
   ]
  },
  {
   "cell_type": "markdown",
   "id": "db308b7c",
   "metadata": {},
   "source": [
    "# Benvenuto al Corso AI with Python.\n",
    "Iniziamo a conoscere Python e a prendere confidenza con il notebook Jupyter"
   ]
  },
  {
   "cell_type": "markdown",
   "id": "eb9a0eff",
   "metadata": {},
   "source": [
    "Scriviamo la prima riga di codice utilizzando il comando PRINT\n"
   ]
  },
  {
   "cell_type": "code",
   "execution_count": 1,
   "id": "7f033f3d",
   "metadata": {},
   "outputs": [
    {
     "name": "stdout",
     "output_type": "stream",
     "text": [
      "Hello World\n"
     ]
    }
   ],
   "source": [
    "print(\"Hello World\")     "
   ]
  },
  {
   "cell_type": "markdown",
   "id": "c161a57b",
   "metadata": {},
   "source": [
    "Se la cella è di tipo \"CODE\", quando facciamo il \"Run\" di una cella, l'interprete python esegue l'istruzione in esso contenuta."
   ]
  },
  {
   "cell_type": "code",
   "execution_count": 2,
   "id": "c0bbf34f",
   "metadata": {},
   "outputs": [
    {
     "name": "stdout",
     "output_type": "stream",
     "text": [
      "10\n"
     ]
    }
   ],
   "source": [
    "# assegnamo un numero INTERO ad una variabile\n",
    "a = 10  \n",
    "\n",
    "# il fatto che vado a capo dopo a=10 dice all'interprete che l'istruzione è finita\n",
    "\n",
    "# ora stampo la variabile a\n",
    "print(a)"
   ]
  },
  {
   "cell_type": "markdown",
   "id": "e5d0c921",
   "metadata": {},
   "source": [
    "posso anche scrivere un'unica riga con il punto e virgola\n"
   ]
  },
  {
   "cell_type": "code",
   "execution_count": 3,
   "id": "a2fff962",
   "metadata": {},
   "outputs": [
    {
     "name": "stdout",
     "output_type": "stream",
     "text": [
      "10\n"
     ]
    }
   ],
   "source": [
    "a = 10 ; print(a)"
   ]
  },
  {
   "cell_type": "code",
   "execution_count": 2,
   "id": "926e4053",
   "metadata": {},
   "outputs": [
    {
     "name": "stdout",
     "output_type": "stream",
     "text": [
      "Artificial Intelligence\n"
     ]
    }
   ],
   "source": [
    " # ORA assegno alla variabile b una STRINGA (STRINGA = insieme di caratteri)\n",
    "b = \"Artificial Intelligence\"   \n",
    "print (b)"
   ]
  },
  {
   "cell_type": "code",
   "execution_count": 3,
   "id": "8448b555",
   "metadata": {},
   "outputs": [],
   "source": [
    "# ora abbiamo creato due variabili: a e b.\n",
    "# Notiamo che sono due \"oggetti\" DIVERSI: una è un numero intero, l'altra è una STRINGA\n",
    "a = 10\n",
    "b = \"Artificial Intelligence\"\n",
    "\n",
    "# diciamo che le due variabili sono di TIPO diverso (in inglese TYPE) \n"
   ]
  },
  {
   "cell_type": "markdown",
   "id": "c7b4e349",
   "metadata": {},
   "source": [
    "## IMPORTANTE: in Python ogni variabile ha uno specifico **TYPE**\n",
    "\n",
    "Come facciamo a sapere il Type di una variabile?\n",
    "Semplice con la funzione **type()**"
   ]
  },
  {
   "cell_type": "code",
   "execution_count": 5,
   "id": "3ebfde1a",
   "metadata": {},
   "outputs": [
    {
     "data": {
      "text/plain": [
       "int"
      ]
     },
     "execution_count": 5,
     "metadata": {},
     "output_type": "execute_result"
    }
   ],
   "source": [
    "type(a)           # la variabile a è di TIPO INT"
   ]
  },
  {
   "cell_type": "code",
   "execution_count": 6,
   "id": "7f53e006",
   "metadata": {},
   "outputs": [
    {
     "data": {
      "text/plain": [
       "str"
      ]
     },
     "execution_count": 6,
     "metadata": {},
     "output_type": "execute_result"
    }
   ],
   "source": [
    "type(b)           # la variabile b è di TIPO STR"
   ]
  },
  {
   "cell_type": "markdown",
   "id": "a5c281e7",
   "metadata": {},
   "source": [
    "proviamo un altra assegnazione"
   ]
  },
  {
   "cell_type": "code",
   "execution_count": 8,
   "id": "c7c79d97",
   "metadata": {},
   "outputs": [
    {
     "name": "stdout",
     "output_type": "stream",
     "text": [
      "3.2\n"
     ]
    }
   ],
   "source": [
    "c = 3.2\n",
    "print(c)"
   ]
  },
  {
   "cell_type": "code",
   "execution_count": 10,
   "id": "4bd0564c",
   "metadata": {},
   "outputs": [
    {
     "data": {
      "text/plain": [
       "float"
      ]
     },
     "execution_count": 10,
     "metadata": {},
     "output_type": "execute_result"
    }
   ],
   "source": [
    "type(c)"
   ]
  },
  {
   "cell_type": "markdown",
   "id": "d0b2060f",
   "metadata": {},
   "source": [
    "abbiamo scoperto un altro tipo! il tipo **FLOAT** (numero con la virgola)\n",
    "\n",
    "MA QUANTI TIPI CI CONO IN PYTHON?????\n",
    "\n",
    "....molti.... ma la cosa è più sottile è presto ne capiremo un po' di più...."
   ]
  },
  {
   "cell_type": "markdown",
   "id": "7f741198",
   "metadata": {},
   "source": [
    "facciamo qualche ulteriore considerazione"
   ]
  },
  {
   "cell_type": "code",
   "execution_count": 35,
   "id": "d942d93a",
   "metadata": {},
   "outputs": [],
   "source": [
    "a = 10\n",
    "c = 20"
   ]
  },
  {
   "cell_type": "code",
   "execution_count": 15,
   "id": "f3fae8b0",
   "metadata": {},
   "outputs": [],
   "source": [
    "# proviamo a fare la somma di a + c "
   ]
  },
  {
   "cell_type": "code",
   "execution_count": 36,
   "id": "7b05970a",
   "metadata": {},
   "outputs": [
    {
     "name": "stdout",
     "output_type": "stream",
     "text": [
      "30\n"
     ]
    }
   ],
   "source": [
    "d = a+c\n",
    "print(d)"
   ]
  },
  {
   "cell_type": "markdown",
   "id": "e010019d",
   "metadata": {},
   "source": [
    "# bene! Proprio come ci aspettavamo!"
   ]
  },
  {
   "cell_type": "markdown",
   "id": "7684a060",
   "metadata": {},
   "source": [
    "# ORA PROVA TU: DEFINISCI QUALCHE VARIABILE E FAI QUALCHE SOMMA E SOTTRAZIONE"
   ]
  },
  {
   "cell_type": "code",
   "execution_count": null,
   "id": "9b790e9c",
   "metadata": {},
   "outputs": [],
   "source": []
  },
  {
   "cell_type": "markdown",
   "id": "52498179",
   "metadata": {},
   "source": [
    "proviamo ora a fare una somma tra due tipi diversi"
   ]
  },
  {
   "cell_type": "code",
   "execution_count": 37,
   "id": "42465e7c",
   "metadata": {},
   "outputs": [],
   "source": [
    "a = 10\n",
    "b = \"Artificial Intelligence\""
   ]
  },
  {
   "cell_type": "code",
   "execution_count": 38,
   "id": "086f9e03",
   "metadata": {},
   "outputs": [
    {
     "ename": "TypeError",
     "evalue": "unsupported operand type(s) for +: 'int' and 'str'",
     "output_type": "error",
     "traceback": [
      "\u001b[0;31m---------------------------------------------------------------------------\u001b[0m",
      "\u001b[0;31mTypeError\u001b[0m                                 Traceback (most recent call last)",
      "Input \u001b[0;32mIn [38]\u001b[0m, in \u001b[0;36m<cell line: 1>\u001b[0;34m()\u001b[0m\n\u001b[0;32m----> 1\u001b[0m d \u001b[38;5;241m=\u001b[39m \u001b[43ma\u001b[49m\u001b[43m \u001b[49m\u001b[38;5;241;43m+\u001b[39;49m\u001b[43mb\u001b[49m\n",
      "\u001b[0;31mTypeError\u001b[0m: unsupported operand type(s) for +: 'int' and 'str'"
     ]
    }
   ],
   "source": [
    "d = a +b"
   ]
  },
  {
   "cell_type": "markdown",
   "id": "81ec9b5f",
   "metadata": {},
   "source": [
    "# OPS ABBIAMO GENERATO UN ERRORE!!!!\n",
    "LEGGIAMO: **TypeError: unsupported operand type(s) for +: 'int' and 'str'**\n",
    "\n",
    "Cosa è successo? Abbiamo un typeerror (un errore di tipo). Unsupported operand type for \n",
    "+....l'interprete python ci dice che abbiamo sommato due OGGETTI DIVERSI: int e str.\n",
    "\n",
    "OVVIO NON POSSO SOMMARE UN INT E UNA STRINGA"
   ]
  },
  {
   "cell_type": "markdown",
   "id": "6b8ab507",
   "metadata": {},
   "source": [
    "continuiamo con le somme con tipi DIVERSI"
   ]
  },
  {
   "cell_type": "code",
   "execution_count": 39,
   "id": "6b189920",
   "metadata": {},
   "outputs": [
    {
     "name": "stdout",
     "output_type": "stream",
     "text": [
      "13.2\n"
     ]
    }
   ],
   "source": [
    "a = 10\n",
    "b = 3.2\n",
    "print(a+b)"
   ]
  },
  {
   "cell_type": "markdown",
   "id": "0cf54181",
   "metadata": {},
   "source": [
    "#  QUESTA VOLTA HA FUNZIONATO!! \n",
    "\n",
    "Ho sommato un INT e un FLOAT ma NON ho generato un errore.\n",
    "\n",
    "E' come se per certi **TIPI** posso fare la somma, mentre per altri no.\n",
    "\n",
    "QUINDI L'OPERATORE **+** è in grado di RICONOSCERE QUALI OGGETTI sta sommando e comportarsi di conseguenza\n"
   ]
  },
  {
   "cell_type": "markdown",
   "id": "95cb6f9d",
   "metadata": {},
   "source": [
    "facciamo un ulteriore prova per vedere se abbiamo capito...."
   ]
  },
  {
   "cell_type": "code",
   "execution_count": 40,
   "id": "f69867df",
   "metadata": {},
   "outputs": [
    {
     "name": "stdout",
     "output_type": "stream",
     "text": [
      "IIS GUIDONIA via roma 298\n"
     ]
    }
   ],
   "source": [
    "a = \"IIS GUIDONIA\"\n",
    "b = \" via roma 298\"\n",
    "c = a + b        # sommiamo due STRINGHE \n",
    "print (a+b)"
   ]
  },
  {
   "cell_type": "markdown",
   "id": "dfeb9344",
   "metadata": {},
   "source": [
    "# Caspita!\n",
    "Con due stringhe l'operatore + NON fa la somma algebrica, ma CONCATENA le stringhe"
   ]
  },
  {
   "cell_type": "markdown",
   "id": "7991b2f9",
   "metadata": {},
   "source": [
    "# RICAPITOLIAMO\n",
    "- Ogni variabile in Python ha uno specifico TIPO\n",
    "- Sono definite delle operazioni sulle variabili (+,- etc.) che però DIPENDONO dal TYPE delle variabili.  "
   ]
  },
  {
   "cell_type": "code",
   "execution_count": null,
   "id": "24816358",
   "metadata": {},
   "outputs": [],
   "source": []
  },
  {
   "cell_type": "markdown",
   "id": "6bd9be80",
   "metadata": {},
   "source": [
    "# ORA PROVA TU\n",
    "Date le seguenti assegnazioni, individua quelle che possono generare errore. Poi verifica la tua risposta con l'interprete python utilizzando il comando type()\n",
    "\n",
    "a1 = 20 \n",
    "\n",
    "a2 = \"20\"\n",
    "\n",
    "b = 3.141592\n",
    "\n",
    "d = \"Artificial Intelligence\"\n",
    "\n",
    "c1 = a1 + b\n",
    "\n",
    "c2 = a1 + a2 \n",
    "\n",
    "h = a1*a1-(b/2)\n",
    "\n",
    "g = a2 + d\n",
    "\n",
    "l = a2 - d"
   ]
  },
  {
   "cell_type": "code",
   "execution_count": 47,
   "id": "5112a200",
   "metadata": {},
   "outputs": [
    {
     "ename": "TypeError",
     "evalue": "type() takes 1 or 3 arguments",
     "output_type": "error",
     "traceback": [
      "\u001b[0;31m---------------------------------------------------------------------------\u001b[0m",
      "\u001b[0;31mTypeError\u001b[0m                                 Traceback (most recent call last)",
      "Input \u001b[0;32mIn [47]\u001b[0m, in \u001b[0;36m<cell line: 1>\u001b[0;34m()\u001b[0m\n\u001b[0;32m----> 1\u001b[0m \u001b[38;5;28;43mtype\u001b[39;49m\u001b[43m(\u001b[49m\u001b[43m)\u001b[49m\n",
      "\u001b[0;31mTypeError\u001b[0m: type() takes 1 or 3 arguments"
     ]
    }
   ],
   "source": [
    "type()"
   ]
  },
  {
   "cell_type": "code",
   "execution_count": null,
   "id": "7d804816",
   "metadata": {},
   "outputs": [],
   "source": []
  },
  {
   "cell_type": "markdown",
   "id": "20a026de",
   "metadata": {},
   "source": [
    "Quindi in Python esistono molti TIPI diversi... \n",
    "Ma quanti tipi ci sono ?\n",
    "Per ora abbiamo visto \n",
    "\n",
    "INT, FLOAT e STR\n",
    "\n",
    "Questi sono tipi base (predefiniti in Python)\n",
    "\n",
    "... vediamo altri importanti\n"
   ]
  },
  {
   "cell_type": "code",
   "execution_count": 54,
   "id": "5da3ab02",
   "metadata": {},
   "outputs": [
    {
     "data": {
      "text/plain": [
       "bool"
      ]
     },
     "execution_count": 54,
     "metadata": {},
     "output_type": "execute_result"
    }
   ],
   "source": [
    "a = True  \n",
    "type(a)"
   ]
  },
  {
   "cell_type": "markdown",
   "id": "3121bdb5",
   "metadata": {},
   "source": [
    "Abbiamo creato una variabile di tipo BOOLEAN.\n",
    "\n",
    "Il tipo BOOLEAN può assumere solo due valori True e False\n",
    "\n",
    "Per i tipi BOOLEAN sono definiti gli operatori logici **and, or, not** etc.\n"
   ]
  },
  {
   "cell_type": "code",
   "execution_count": 61,
   "id": "8eab40df",
   "metadata": {},
   "outputs": [
    {
     "name": "stdout",
     "output_type": "stream",
     "text": [
      "False\n"
     ]
    }
   ],
   "source": [
    "a = True  \n",
    "b = False\n",
    "c = a and b\n",
    "d = not (a)\n",
    "e = a or b\n",
    "print(c)"
   ]
  },
  {
   "cell_type": "markdown",
   "id": "35363203",
   "metadata": {},
   "source": [
    "Vediamo ora le operazioni principali che possiamo fare tra le variabili, a seconda del tipo"
   ]
  },
  {
   "cell_type": "markdown",
   "id": "2833eb9c",
   "metadata": {},
   "source": [
    "## OPERATORI ARITMETICI\n",
    "\n",
    "| Operator     | Name           | Description                                            |\n",
    "|--------------|----------------|--------------------------------------------------------|\n",
    "| ``a + b``    | Addition       | Sum of ``a`` and ``b``                                 |\n",
    "| ``a - b``    | Subtraction    | Difference of ``a`` and ``b``                          |\n",
    "| ``a * b``    | Multiplication | Product of ``a`` and ``b``                             |\n",
    "| ``a / b``    | True division  | Quotient of ``a`` and ``b``                            |\n",
    "| ``a // b``   | Floor division | Quotient of ``a`` and ``b``, removing fractional parts |\n",
    "| ``a % b``    | Modulus        | Integer remainder after division of ``a`` by ``b``     |\n",
    "| ``a ** b``   | Exponentiation | ``a`` raised to the power of ``b``                     |\n",
    "| ``-a``       | Negation       | The negative of ``a``                                  |"
   ]
  },
  {
   "cell_type": "markdown",
   "id": "c51e9de4",
   "metadata": {},
   "source": [
    "## ORA PROVA TU: fai qualche operazione aritmetica tra variabili numeriche"
   ]
  },
  {
   "cell_type": "code",
   "execution_count": null,
   "id": "d7172a21",
   "metadata": {},
   "outputs": [],
   "source": []
  },
  {
   "cell_type": "markdown",
   "id": "d22cbabf",
   "metadata": {},
   "source": [
    "Sono inoltre definiti gli operatori comparativi"
   ]
  },
  {
   "cell_type": "markdown",
   "id": "bf0b2f66",
   "metadata": {},
   "source": [
    "## OPERATORI COMPARATIVI\n",
    "Questi operatori restituiscono un valore booleano ``True`` o ``False``.\n",
    "\n",
    "| Operation     | Description                       || Operation     | Description                          |\n",
    "|---------------|-----------------------------------||---------------|--------------------------------------|\n",
    "| ``a == b``    | ``a`` equal to ``b``              || ``a != b``    | ``a`` not equal to ``b``             |\n",
    "| ``a < b``     | ``a`` less than ``b``             || ``a > b``     | ``a`` greater than ``b``             |\n",
    "| ``a <= b``    | ``a`` less than or equal to ``b`` || ``a >= b``    | ``a`` greater than or equal to ``b`` |\n"
   ]
  },
  {
   "cell_type": "code",
   "execution_count": 69,
   "id": "e878d71a",
   "metadata": {},
   "outputs": [
    {
     "data": {
      "text/plain": [
       "False"
      ]
     },
     "execution_count": 69,
     "metadata": {},
     "output_type": "execute_result"
    }
   ],
   "source": [
    "# per esempio\n",
    "a = 10;b = 20\n",
    "a == 20 \n",
    "# a <b\n",
    "# b < a"
   ]
  },
  {
   "cell_type": "code",
   "execution_count": 68,
   "id": "a8e8fb8a",
   "metadata": {},
   "outputs": [
    {
     "data": {
      "text/plain": [
       "False"
      ]
     },
     "execution_count": 68,
     "metadata": {},
     "output_type": "execute_result"
    }
   ],
   "source": [
    "# oppure\n",
    "a = 10; b = 20\n",
    "(a<10) and (b==20)\n"
   ]
  },
  {
   "cell_type": "markdown",
   "id": "814c550a",
   "metadata": {},
   "source": [
    "# LA LISTA: IL TIPO CONTENITORE "
   ]
  },
  {
   "cell_type": "markdown",
   "id": "b651e7e5",
   "metadata": {},
   "source": [
    " Una lista è un contenitore sequenziale di oggetti. In una lista possono essere inseriti oggetti DIVERSI"
   ]
  },
  {
   "cell_type": "code",
   "execution_count": 35,
   "id": "8fd2be72",
   "metadata": {},
   "outputs": [],
   "source": [
    "# come creo una lista?\n",
    "a = 10;b=\"Hello\"\n",
    "a = [1,2, a, 3.2, True, b, \"Ciao\"]"
   ]
  },
  {
   "cell_type": "code",
   "execution_count": 40,
   "id": "17c79732",
   "metadata": {},
   "outputs": [
    {
     "name": "stdout",
     "output_type": "stream",
     "text": [
      "[1, 2, 10, 3.2, True, 'Hello', 'Ciao']\n"
     ]
    }
   ],
   "source": [
    "print(a)"
   ]
  },
  {
   "cell_type": "code",
   "execution_count": 41,
   "id": "55b3ba42",
   "metadata": {},
   "outputs": [
    {
     "data": {
      "text/plain": [
       "list"
      ]
     },
     "execution_count": 41,
     "metadata": {},
     "output_type": "execute_result"
    }
   ],
   "source": [
    "# vediamo il tipo di a\n",
    "type(a)"
   ]
  },
  {
   "cell_type": "code",
   "execution_count": null,
   "id": "18d49fa2",
   "metadata": {},
   "outputs": [],
   "source": []
  },
  {
   "cell_type": "markdown",
   "id": "5c1b84eb",
   "metadata": {},
   "source": [
    "# Data una lista a come faccio ad estrarre un oggetto?\n",
    "uso le parentesi quadre **[ ]**"
   ]
  },
  {
   "cell_type": "code",
   "execution_count": 45,
   "id": "5d81c503",
   "metadata": {},
   "outputs": [
    {
     "name": "stdout",
     "output_type": "stream",
     "text": [
      "1 True\n"
     ]
    }
   ],
   "source": [
    "# ogni elemento della lista corrisponde ad una specifica posizione nella lista. \n",
    "# E' indicizzato\n",
    "print(a[0], a[4])"
   ]
  },
  {
   "cell_type": "code",
   "execution_count": null,
   "id": "6e1ecd75",
   "metadata": {},
   "outputs": [],
   "source": []
  },
  {
   "cell_type": "markdown",
   "id": "92ec8c80",
   "metadata": {},
   "source": [
    "## LE FUNZIONI"
   ]
  },
  {
   "cell_type": "markdown",
   "id": "3980b743",
   "metadata": {},
   "source": [
    "Iniziamo a vedere alcune funzioni PREDEFINITE di Python"
   ]
  },
  {
   "cell_type": "code",
   "execution_count": 47,
   "id": "2a8bdfeb",
   "metadata": {},
   "outputs": [
    {
     "data": {
      "text/plain": [
       "7"
      ]
     },
     "execution_count": 47,
     "metadata": {},
     "output_type": "execute_result"
    }
   ],
   "source": [
    "# creo una lista \n",
    "a = [7,2,3,4,1]\n",
    "max(a) # utilizzo la funzione \"max\" che estrae il massimo dalla lista"
   ]
  },
  {
   "cell_type": "code",
   "execution_count": 8,
   "id": "e8c9db85",
   "metadata": {},
   "outputs": [],
   "source": [
    "b = \"precipitevolissimevolmente\""
   ]
  },
  {
   "cell_type": "code",
   "execution_count": 9,
   "id": "056c03ff",
   "metadata": {},
   "outputs": [
    {
     "data": {
      "text/plain": [
       "26"
      ]
     },
     "execution_count": 9,
     "metadata": {},
     "output_type": "execute_result"
    }
   ],
   "source": [
    "len(b) # estrae il numero di caratteri"
   ]
  },
  {
   "cell_type": "code",
   "execution_count": 10,
   "id": "09090f07",
   "metadata": {},
   "outputs": [
    {
     "data": {
      "text/plain": [
       "8"
      ]
     },
     "execution_count": 10,
     "metadata": {},
     "output_type": "execute_result"
    }
   ],
   "source": [
    "# le funzioni si possono comporre \n",
    "max(len(\"ciao zio\"), 3)"
   ]
  },
  {
   "cell_type": "code",
   "execution_count": null,
   "id": "f2dd4e62",
   "metadata": {},
   "outputs": [],
   "source": []
  },
  {
   "cell_type": "markdown",
   "id": "84972db6",
   "metadata": {},
   "source": [
    "# Vediamo la funzione INPUT: inserimento da tastiera"
   ]
  },
  {
   "cell_type": "code",
   "execution_count": 3,
   "id": "892fd017",
   "metadata": {},
   "outputs": [
    {
     "name": "stdout",
     "output_type": "stream",
     "text": [
      "Inserisci una parola:dfsd\n",
      "Hai inserito  dfsd\n"
     ]
    }
   ],
   "source": [
    "a = input(\"Inserisci una parola:\")  # inseriamo qualcosa da tastiera\n",
    "\n",
    "print(\"Hai inserito \",a)"
   ]
  },
  {
   "cell_type": "code",
   "execution_count": 4,
   "id": "fd30c809",
   "metadata": {},
   "outputs": [
    {
     "name": "stdout",
     "output_type": "stream",
     "text": [
      "Inserisci la massa in kg20\n",
      "20.0 kg = 196.20000000000002 Newton\n"
     ]
    }
   ],
   "source": [
    "# calcoliamo la forza peso data la massa\n",
    "g = 9.81\n",
    "massa = input(\"Inserisci la massa in kg\") \n",
    "# poichè input riceve sempre una STRINGA, per fare dei calcoli\n",
    "# devo prima trasformarla in un numero. Uso la funzione float\n",
    "massa = float(massa) \n",
    "peso = massa * g\n",
    "\n",
    "print(massa, \"kg =\", peso, \"Newton\")"
   ]
  },
  {
   "cell_type": "markdown",
   "id": "dcf10812",
   "metadata": {},
   "source": [
    "## ORA PROVA TU\n",
    "Osservando lo script che calcola la forza peso, scrivi uno script che riceve come primo input la base e come secondo input l'altezza di un triangolo, e che quindi restituisca l'area del triangolo scrivendo per es. \"Data l'altezza 10m e la base 5m, l'area è 25m\""
   ]
  },
  {
   "cell_type": "code",
   "execution_count": null,
   "id": "796a1be2",
   "metadata": {},
   "outputs": [],
   "source": []
  },
  {
   "cell_type": "markdown",
   "id": "25695b67",
   "metadata": {},
   "source": [
    "# COME SI DEFINISCE UNA FUNZIONE"
   ]
  },
  {
   "cell_type": "code",
   "execution_count": 46,
   "id": "a8a758a9",
   "metadata": {},
   "outputs": [],
   "source": [
    "# proviamo a definire una nostra funzione f(x) = 2 * x\n",
    "def f(x):\n",
    "    y = 2 * x  # ATTENZIONE. notate che da qui le istruzioni non sono sotto la def ma \n",
    "                # all'interno. Si dice che sono \"indentata\". Questo fa parte della sintassi \n",
    "                # di python perchè crea un blocco di codice\n",
    "    return y"
   ]
  },
  {
   "cell_type": "code",
   "execution_count": 22,
   "id": "1e80e48b",
   "metadata": {},
   "outputs": [
    {
     "data": {
      "text/plain": [
       "14"
      ]
     },
     "execution_count": 22,
     "metadata": {},
     "output_type": "execute_result"
    }
   ],
   "source": [
    "f(7)"
   ]
  },
  {
   "cell_type": "code",
   "execution_count": 14,
   "id": "9dad475b",
   "metadata": {},
   "outputs": [],
   "source": [
    "# definiamo una funzioni in più variabili\n",
    "def g(x,y):\n",
    "    z = 2 * x-3 *y\n",
    "    return z"
   ]
  },
  {
   "cell_type": "code",
   "execution_count": 15,
   "id": "62c0f9cc",
   "metadata": {},
   "outputs": [
    {
     "data": {
      "text/plain": [
       "-5"
      ]
     },
     "execution_count": 15,
     "metadata": {},
     "output_type": "execute_result"
    }
   ],
   "source": [
    "g(2,3)"
   ]
  },
  {
   "cell_type": "code",
   "execution_count": null,
   "id": "50f4ac55",
   "metadata": {},
   "outputs": [],
   "source": []
  },
  {
   "cell_type": "code",
   "execution_count": 30,
   "id": "cf5e6c38",
   "metadata": {},
   "outputs": [
    {
     "name": "stdout",
     "output_type": "stream",
     "text": [
      "-400\n"
     ]
    }
   ],
   "source": [
    "# possiamo utilizzare le funzioni per calcoli più complessi\n",
    "x=10;y=20;z=5\n",
    "c=g(x,y)*f(z)\n",
    "print(c)"
   ]
  },
  {
   "cell_type": "code",
   "execution_count": 16,
   "id": "c9213d2d",
   "metadata": {},
   "outputs": [],
   "source": [
    "# costruiamo la funzione fattoriale n!\n",
    "# ricordiamo che per es 4! = 4*3*2*1 e che 0! = 1\n",
    "def fattoriale1 (n):     # ANCORA NOTATE IL BLOCCO DI CODICE\n",
    "    fact = 1\n",
    "    for i in range(1,n): # genera un iteratore da 1 a n-1\n",
    "        #print(i)\n",
    "        fact = fact*(i+1)\n",
    "    return fact"
   ]
  },
  {
   "cell_type": "code",
   "execution_count": 17,
   "id": "96c99052",
   "metadata": {},
   "outputs": [
    {
     "data": {
      "text/plain": [
       "24"
      ]
     },
     "execution_count": 17,
     "metadata": {},
     "output_type": "execute_result"
    }
   ],
   "source": [
    "fattoriale1(4)"
   ]
  },
  {
   "cell_type": "markdown",
   "id": "7695addb",
   "metadata": {},
   "source": [
    "# ORA PROVA TU"
   ]
  },
  {
   "cell_type": "markdown",
   "id": "41b333b8",
   "metadata": {},
   "source": [
    "1) crea la funzione $f(x)=2*x^2$ e la funzione $g(x) = 2*x-3$ e poi calcola f(3), g(4)"
   ]
  },
  {
   "cell_type": "markdown",
   "id": "5a95dcc9",
   "metadata": {},
   "source": [
    "2) crea la funzione sum(n) che dato un numero n, calcola la somma dei numeri da 1 a n.\n",
    "per es. sum(4) = 10 (4+3+2+1+0)"
   ]
  },
  {
   "cell_type": "code",
   "execution_count": null,
   "id": "5e70ce9d",
   "metadata": {},
   "outputs": [],
   "source": []
  },
  {
   "cell_type": "markdown",
   "id": "50eaf80e",
   "metadata": {},
   "source": [
    "## IL TIPO VETTORE: la libreria NUMPY"
   ]
  },
  {
   "cell_type": "code",
   "execution_count": 3,
   "id": "d0ec3ab3",
   "metadata": {},
   "outputs": [],
   "source": [
    "import numpy as np"
   ]
  },
  {
   "cell_type": "code",
   "execution_count": 4,
   "id": "5a662e15",
   "metadata": {},
   "outputs": [],
   "source": [
    "# creiamo un vettore di dimensione 2\n",
    "x = np.array([2,3])"
   ]
  },
  {
   "cell_type": "code",
   "execution_count": 5,
   "id": "9a0c901c",
   "metadata": {},
   "outputs": [
    {
     "data": {
      "text/plain": [
       "array([2, 3])"
      ]
     },
     "execution_count": 5,
     "metadata": {},
     "output_type": "execute_result"
    }
   ],
   "source": [
    "x"
   ]
  },
  {
   "cell_type": "code",
   "execution_count": 16,
   "id": "8ee0ab86",
   "metadata": {},
   "outputs": [],
   "source": [
    "# creiamo un array di dimensione 10\n",
    "x = np.array([2,3,4,5,6,7,8,9,10])"
   ]
  },
  {
   "cell_type": "code",
   "execution_count": 17,
   "id": "186f2841",
   "metadata": {},
   "outputs": [
    {
     "data": {
      "text/plain": [
       "array([ 2,  3,  4,  5,  6,  7,  8,  9, 10])"
      ]
     },
     "execution_count": 17,
     "metadata": {},
     "output_type": "execute_result"
    }
   ],
   "source": [
    "x"
   ]
  },
  {
   "cell_type": "code",
   "execution_count": 18,
   "id": "7a728aa4",
   "metadata": {},
   "outputs": [
    {
     "data": {
      "text/plain": [
       "numpy.ndarray"
      ]
     },
     "execution_count": 18,
     "metadata": {},
     "output_type": "execute_result"
    }
   ],
   "source": [
    "# vediamo il tipo vettore\n",
    "type(x)"
   ]
  },
  {
   "cell_type": "markdown",
   "id": "f759bcf6",
   "metadata": {},
   "source": [
    "# un vettore e' TYPE: NDARRAY\n",
    "# attenzione in un vettore gli elementi sono tutti dello STESSO TIPO (es tutti int oppure float, etc)"
   ]
  },
  {
   "cell_type": "code",
   "execution_count": 19,
   "id": "f9e99d4c",
   "metadata": {},
   "outputs": [],
   "source": [
    "# riprendiamo il vettore di 10 elementi\n",
    "x = np.array([2,3,4,5,6,7,8,9,10])"
   ]
  },
  {
   "cell_type": "code",
   "execution_count": 28,
   "id": "6889b307",
   "metadata": {},
   "outputs": [
    {
     "data": {
      "text/plain": [
       "4"
      ]
     },
     "execution_count": 28,
     "metadata": {},
     "output_type": "execute_result"
    }
   ],
   "source": [
    "# come faccio ad estrarre una componente?\n",
    "# semplice le posizioni degli elementi sono numerate da 0 a n-1\n",
    "# uso le [] specificando l'indice (il primo elemento ha indice 0)\n",
    "x[2]"
   ]
  },
  {
   "cell_type": "code",
   "execution_count": 29,
   "id": "34487e01",
   "metadata": {},
   "outputs": [
    {
     "data": {
      "text/plain": [
       "11"
      ]
     },
     "execution_count": 29,
     "metadata": {},
     "output_type": "execute_result"
    }
   ],
   "source": [
    "x[2]+x[5]"
   ]
  },
  {
   "cell_type": "code",
   "execution_count": 11,
   "id": "70b6babc",
   "metadata": {},
   "outputs": [
    {
     "name": "stdout",
     "output_type": "stream",
     "text": [
      "[2 1] [-1  1]\n"
     ]
    }
   ],
   "source": [
    "# creiamo due vettori bidimensionali\n",
    "v1 = np.array([2,1])\n",
    "v2 = np.array([-1,1])\n",
    "print(v1,v2)"
   ]
  },
  {
   "cell_type": "code",
   "execution_count": 57,
   "id": "5d6ec7b1",
   "metadata": {},
   "outputs": [
    {
     "data": {
      "image/png": "[encoded data removed]",
      "text/plain": [
       "<Figure size 640x480 with 1 Axes>"
      ]
     },
     "metadata": {},
     "output_type": "display_data"
    }
   ],
   "source": [
    "# plottiamo i due vettori su un diagramma cartesiano\n",
    "import matplotlib.pyplot as plt\n",
    "\n",
    "origin = np.array([0, 0]) # componente x e y del vettore nullo\n",
    "\n",
    "plt.quiver([0],[0], v1[0], v1[1], color=['b'], scale=5)\n",
    "plt.quiver([0],[0], v2[0], v2[1], color=['r'], scale=5)\n",
    "plt.show()"
   ]
  },
  {
   "cell_type": "code",
   "execution_count": 27,
   "id": "98782360",
   "metadata": {},
   "outputs": [
    {
     "name": "stdout",
     "output_type": "stream",
     "text": [
      "[2 1] [-1  1]\n"
     ]
    }
   ],
   "source": [
    "print(v1,v2)"
   ]
  },
  {
   "cell_type": "markdown",
   "id": "6d297d27",
   "metadata": {},
   "source": [
    "## NUMPY SUPPORTA TUTTE LE OPERAZIONI SUI VETTORI"
   ]
  },
  {
   "cell_type": "code",
   "execution_count": 17,
   "id": "2a16b24e",
   "metadata": {},
   "outputs": [
    {
     "name": "stdout",
     "output_type": "stream",
     "text": [
      "[2 1] [-1  1] [1 2]\n"
     ]
    }
   ],
   "source": [
    "# sommiamo i due vettori\n",
    "v3 = v1 + v2\n",
    "print(v1,v2,v3)"
   ]
  },
  {
   "cell_type": "code",
   "execution_count": 20,
   "id": "d040450f",
   "metadata": {},
   "outputs": [
    {
     "name": "stdout",
     "output_type": "stream",
     "text": [
      "[2 1] [-1  1] [3 0]\n"
     ]
    }
   ],
   "source": [
    "v4 = v1 - v2\n",
    "print(v1,v2,v4)"
   ]
  },
  {
   "cell_type": "code",
   "execution_count": 18,
   "id": "b97be5d0",
   "metadata": {},
   "outputs": [
    {
     "name": "stdout",
     "output_type": "stream",
     "text": [
      "[2 1] [4 2]\n"
     ]
    }
   ],
   "source": [
    "v5 = 2 * v1\n",
    "print(v1, v5)"
   ]
  },
  {
   "cell_type": "code",
   "execution_count": 23,
   "id": "e7b1eb45",
   "metadata": {},
   "outputs": [
    {
     "data": {
      "image/png": "[encoded data removed]",
      "text/plain": [
       "<Figure size 640x480 with 1 Axes>"
      ]
     },
     "metadata": {},
     "output_type": "display_data"
    }
   ],
   "source": [
    "origin = np.array([0, 0]) # componente x e y del vettore nullo\n",
    "\n",
    "plt.quiver([0],[0], v1[0], v1[1], color=['b'], scale=7)\n",
    "plt.quiver([0],[0], v2[0], v2[1], color=['r'], scale=7)\n",
    "plt.quiver([0],[0], v3[0], v3[1], color=['g'], scale=7)\n",
    "plt.quiver([0],[0], v4[0], v4[1], color=['c'], scale=7)\n",
    "\n",
    "\n",
    "plt.show()"
   ]
  },
  {
   "cell_type": "markdown",
   "id": "d720c7d0",
   "metadata": {},
   "source": [
    "# ORA PROVA TU"
   ]
  },
  {
   "cell_type": "markdown",
   "id": "55084b20",
   "metadata": {},
   "source": [
    "Crea il vettore [-1,3] e il vettore [3,2] e fai il plot del vettore differenza"
   ]
  },
  {
   "cell_type": "code",
   "execution_count": null,
   "id": "229784e8",
   "metadata": {},
   "outputs": [],
   "source": []
  },
  {
   "cell_type": "markdown",
   "id": "057a4181",
   "metadata": {},
   "source": [
    "# PLOTTING DI FUNZIONI"
   ]
  },
  {
   "cell_type": "markdown",
   "id": "bcad9ddc",
   "metadata": {},
   "source": [
    "Plottiamo la funzione $y=2x-1$"
   ]
  },
  {
   "cell_type": "code",
   "execution_count": 52,
   "id": "1b56948e",
   "metadata": {},
   "outputs": [],
   "source": [
    "# definiamo la funzione y = 2 * x -1 (una retta)\n",
    "def f (x):  \n",
    "    y = 2*x -1\n",
    "    return y"
   ]
  },
  {
   "cell_type": "code",
   "execution_count": 53,
   "id": "db7d74d3",
   "metadata": {},
   "outputs": [
    {
     "data": {
      "text/plain": [
       "array([-10.        ,  -9.7979798 ,  -9.5959596 ,  -9.39393939,\n",
       "        -9.19191919,  -8.98989899,  -8.78787879,  -8.58585859,\n",
       "        -8.38383838,  -8.18181818,  -7.97979798,  -7.77777778,\n",
       "        -7.57575758,  -7.37373737,  -7.17171717,  -6.96969697,\n",
       "        -6.76767677,  -6.56565657,  -6.36363636,  -6.16161616,\n",
       "        -5.95959596,  -5.75757576,  -5.55555556,  -5.35353535,\n",
       "        -5.15151515,  -4.94949495,  -4.74747475,  -4.54545455,\n",
       "        -4.34343434,  -4.14141414,  -3.93939394,  -3.73737374,\n",
       "        -3.53535354,  -3.33333333,  -3.13131313,  -2.92929293,\n",
       "        -2.72727273,  -2.52525253,  -2.32323232,  -2.12121212,\n",
       "        -1.91919192,  -1.71717172,  -1.51515152,  -1.31313131,\n",
       "        -1.11111111,  -0.90909091,  -0.70707071,  -0.50505051,\n",
       "        -0.3030303 ,  -0.1010101 ,   0.1010101 ,   0.3030303 ,\n",
       "         0.50505051,   0.70707071,   0.90909091,   1.11111111,\n",
       "         1.31313131,   1.51515152,   1.71717172,   1.91919192,\n",
       "         2.12121212,   2.32323232,   2.52525253,   2.72727273,\n",
       "         2.92929293,   3.13131313,   3.33333333,   3.53535354,\n",
       "         3.73737374,   3.93939394,   4.14141414,   4.34343434,\n",
       "         4.54545455,   4.74747475,   4.94949495,   5.15151515,\n",
       "         5.35353535,   5.55555556,   5.75757576,   5.95959596,\n",
       "         6.16161616,   6.36363636,   6.56565657,   6.76767677,\n",
       "         6.96969697,   7.17171717,   7.37373737,   7.57575758,\n",
       "         7.77777778,   7.97979798,   8.18181818,   8.38383838,\n",
       "         8.58585859,   8.78787879,   8.98989899,   9.19191919,\n",
       "         9.39393939,   9.5959596 ,   9.7979798 ,  10.        ])"
      ]
     },
     "execution_count": 53,
     "metadata": {},
     "output_type": "execute_result"
    }
   ],
   "source": [
    "# creiamo un range di 100 punti tra -10 e 10. sono i valori di x\n",
    "x = np.linspace(-10,10,100)\n",
    "x"
   ]
  },
  {
   "cell_type": "code",
   "execution_count": 54,
   "id": "0c181dfd",
   "metadata": {},
   "outputs": [
    {
     "data": {
      "text/plain": [
       "array([-2.10000000e+01, -2.05959596e+01, -2.01919192e+01, -1.97878788e+01,\n",
       "       -1.93838384e+01, -1.89797980e+01, -1.85757576e+01, -1.81717172e+01,\n",
       "       -1.77676768e+01, -1.73636364e+01, -1.69595960e+01, -1.65555556e+01,\n",
       "       -1.61515152e+01, -1.57474747e+01, -1.53434343e+01, -1.49393939e+01,\n",
       "       -1.45353535e+01, -1.41313131e+01, -1.37272727e+01, -1.33232323e+01,\n",
       "       -1.29191919e+01, -1.25151515e+01, -1.21111111e+01, -1.17070707e+01,\n",
       "       -1.13030303e+01, -1.08989899e+01, -1.04949495e+01, -1.00909091e+01,\n",
       "       -9.68686869e+00, -9.28282828e+00, -8.87878788e+00, -8.47474747e+00,\n",
       "       -8.07070707e+00, -7.66666667e+00, -7.26262626e+00, -6.85858586e+00,\n",
       "       -6.45454545e+00, -6.05050505e+00, -5.64646465e+00, -5.24242424e+00,\n",
       "       -4.83838384e+00, -4.43434343e+00, -4.03030303e+00, -3.62626263e+00,\n",
       "       -3.22222222e+00, -2.81818182e+00, -2.41414141e+00, -2.01010101e+00,\n",
       "       -1.60606061e+00, -1.20202020e+00, -7.97979798e-01, -3.93939394e-01,\n",
       "        1.01010101e-02,  4.14141414e-01,  8.18181818e-01,  1.22222222e+00,\n",
       "        1.62626263e+00,  2.03030303e+00,  2.43434343e+00,  2.83838384e+00,\n",
       "        3.24242424e+00,  3.64646465e+00,  4.05050505e+00,  4.45454545e+00,\n",
       "        4.85858586e+00,  5.26262626e+00,  5.66666667e+00,  6.07070707e+00,\n",
       "        6.47474747e+00,  6.87878788e+00,  7.28282828e+00,  7.68686869e+00,\n",
       "        8.09090909e+00,  8.49494949e+00,  8.89898990e+00,  9.30303030e+00,\n",
       "        9.70707071e+00,  1.01111111e+01,  1.05151515e+01,  1.09191919e+01,\n",
       "        1.13232323e+01,  1.17272727e+01,  1.21313131e+01,  1.25353535e+01,\n",
       "        1.29393939e+01,  1.33434343e+01,  1.37474747e+01,  1.41515152e+01,\n",
       "        1.45555556e+01,  1.49595960e+01,  1.53636364e+01,  1.57676768e+01,\n",
       "        1.61717172e+01,  1.65757576e+01,  1.69797980e+01,  1.73838384e+01,\n",
       "        1.77878788e+01,  1.81919192e+01,  1.85959596e+01,  1.90000000e+01])"
      ]
     },
     "execution_count": 54,
     "metadata": {},
     "output_type": "execute_result"
    }
   ],
   "source": [
    "# calcoliamo i corrispondenti valori di y PER OGNI PUNTO DEL VETTORE X\n",
    "# il vettore y è [f(x_1), f(x_2), f(x_3).....f(x_n)]\n",
    "y1 = f (x)\n",
    "y1"
   ]
  },
  {
   "cell_type": "code",
   "execution_count": null,
   "id": "59defa6a",
   "metadata": {},
   "outputs": [],
   "source": []
  },
  {
   "cell_type": "code",
   "execution_count": 45,
   "id": "bb256ff8",
   "metadata": {},
   "outputs": [
    {
     "data": {
      "image/png": "[encoded data removed]",
      "text/plain": [
       "<Figure size 640x480 with 1 Axes>"
      ]
     },
     "metadata": {},
     "output_type": "display_data"
    }
   ],
   "source": [
    "fig, ax = plt.subplots()\n",
    "ax.plot(x, y1)\n",
    "ax.spines['left'].set_position('zero')\n",
    "ax.spines['bottom'].set_position('zero')\n",
    "ax.spines['right'].set_color('none')\n",
    "ax.spines['top'].set_color('none')\n",
    "ax.xaxis.tick_bottom()\n",
    "ax.yaxis.tick_left()\n",
    "plt.show()\n"
   ]
  },
  {
   "cell_type": "code",
   "execution_count": 140,
   "id": "7636a594",
   "metadata": {},
   "outputs": [
    {
     "data": {
      "text/plain": [
       "array([1.00000000e+02, 9.60004081e+01, 9.20824406e+01, 8.82460973e+01,\n",
       "       8.44913784e+01, 8.08182838e+01, 7.72268136e+01, 7.37169677e+01,\n",
       "       7.02887460e+01, 6.69421488e+01, 6.36771758e+01, 6.04938272e+01,\n",
       "       5.73921028e+01, 5.43720029e+01, 5.14335272e+01, 4.85766758e+01,\n",
       "       4.58014488e+01, 4.31078461e+01, 4.04958678e+01, 3.79655137e+01,\n",
       "       3.55167840e+01, 3.31496786e+01, 3.08641975e+01, 2.86603408e+01,\n",
       "       2.65381084e+01, 2.44975003e+01, 2.25385165e+01, 2.06611570e+01,\n",
       "       1.88654219e+01, 1.71513111e+01, 1.55188246e+01, 1.39679625e+01,\n",
       "       1.24987246e+01, 1.11111111e+01, 9.80512193e+00, 8.58075707e+00,\n",
       "       7.43801653e+00, 6.37690032e+00, 5.39740843e+00, 4.49954086e+00,\n",
       "       3.68329762e+00, 2.94867871e+00, 2.29568411e+00, 1.72431385e+00,\n",
       "       1.23456790e+00, 8.26446281e-01, 4.99948985e-01, 2.55076013e-01,\n",
       "       9.18273646e-02, 1.02030405e-02, 1.02030405e-02, 9.18273646e-02,\n",
       "       2.55076013e-01, 4.99948985e-01, 8.26446281e-01, 1.23456790e+00,\n",
       "       1.72431385e+00, 2.29568411e+00, 2.94867871e+00, 3.68329762e+00,\n",
       "       4.49954086e+00, 5.39740843e+00, 6.37690032e+00, 7.43801653e+00,\n",
       "       8.58075707e+00, 9.80512193e+00, 1.11111111e+01, 1.24987246e+01,\n",
       "       1.39679625e+01, 1.55188246e+01, 1.71513111e+01, 1.88654219e+01,\n",
       "       2.06611570e+01, 2.25385165e+01, 2.44975003e+01, 2.65381084e+01,\n",
       "       2.86603408e+01, 3.08641975e+01, 3.31496786e+01, 3.55167840e+01,\n",
       "       3.79655137e+01, 4.04958678e+01, 4.31078461e+01, 4.58014488e+01,\n",
       "       4.85766758e+01, 5.14335272e+01, 5.43720029e+01, 5.73921028e+01,\n",
       "       6.04938272e+01, 6.36771758e+01, 6.69421488e+01, 7.02887460e+01,\n",
       "       7.37169677e+01, 7.72268136e+01, 8.08182838e+01, 8.44913784e+01,\n",
       "       8.82460973e+01, 9.20824406e+01, 9.60004081e+01, 1.00000000e+02])"
      ]
     },
     "execution_count": 140,
     "metadata": {},
     "output_type": "execute_result"
    }
   ],
   "source": [
    "x**2"
   ]
  },
  {
   "cell_type": "code",
   "execution_count": 63,
   "id": "45331e60",
   "metadata": {},
   "outputs": [],
   "source": [
    "def curve(x):\n",
    "    y = x**2 - 2*x -2\n",
    "    #y = np.sin(x)\n",
    "    #y = np.sin(x)*np.exp(-0.05*x)\n",
    "    return y"
   ]
  },
  {
   "cell_type": "code",
   "execution_count": 64,
   "id": "f6e94775",
   "metadata": {},
   "outputs": [
    {
     "data": {
      "image/png": "[encoded data removed]",
      "text/plain": [
       "<Figure size 640x480 with 1 Axes>"
      ]
     },
     "metadata": {},
     "output_type": "display_data"
    }
   ],
   "source": [
    "y2 = curve(x)\n",
    "fig, ax = plt.subplots()\n",
    "ax.plot(x, y2)\n",
    "ax.spines['left'].set_position('zero')\n",
    "ax.spines['bottom'].set_position('zero')\n",
    "ax.spines['right'].set_color('none')\n",
    "ax.spines['top'].set_color('none')\n",
    "ax.xaxis.tick_bottom()\n",
    "ax.yaxis.tick_left()\n",
    "plt.show()\n"
   ]
  },
  {
   "cell_type": "markdown",
   "id": "2db31618",
   "metadata": {},
   "source": [
    "# ORA PROVA TU"
   ]
  },
  {
   "cell_type": "markdown",
   "id": "25f03dc6",
   "metadata": {},
   "source": [
    "Crea la funzione $y=x^3sin(x)$ e rappresentala graficamente"
   ]
  },
  {
   "cell_type": "code",
   "execution_count": null,
   "id": "91b1e089",
   "metadata": {},
   "outputs": [],
   "source": []
  },
  {
   "cell_type": "markdown",
   "id": "1164747d",
   "metadata": {},
   "source": [
    "# RISOLVIAMO GRAFICAMENTE UN'EQUAZIONE\n",
    "risolviamo l'equazione\n"
   ]
  },
  {
   "cell_type": "code",
   "execution_count": 49,
   "id": "e20215da",
   "metadata": {},
   "outputs": [
    {
     "data": {
      "image/png": "[encoded data removed]",
      "text/plain": [
       "<Figure size 640x480 with 1 Axes>"
      ]
     },
     "metadata": {},
     "output_type": "display_data"
    }
   ],
   "source": [
    "fig, ax = plt.subplots()\n",
    "ax.plot(x, y1)\n",
    "ax.plot(x, y2)\n",
    "ax.spines['left'].set_position('zero')\n",
    "ax.spines['bottom'].set_position('zero')\n",
    "ax.spines['right'].set_color('none')\n",
    "ax.spines['top'].set_color('none')\n",
    "ax.xaxis.tick_bottom()\n",
    "ax.yaxis.tick_left()\n",
    "plt.show()"
   ]
  },
  {
   "cell_type": "code",
   "execution_count": null,
   "id": "7d6c3086",
   "metadata": {},
   "outputs": [],
   "source": []
  },
  {
   "cell_type": "markdown",
   "id": "f81dfe16",
   "metadata": {},
   "source": [
    "# APPROFONDIMENTO: variabili e oggetti"
   ]
  },
  {
   "cell_type": "markdown",
   "id": "a1c2f8a8",
   "metadata": {},
   "source": [
    "## Le variabili Python sono Puntatori (Pointers)\n",
    "\n",
    "Creare variabili e assegnargli un valore è facile, basta inserire il nome di una variabile a sinistra del segno di uguale (``=``) e il valore desiderato a destra:\n",
    "\n",
    "```piton\n",
    "# assegna 4 alla variabile x\n",
    "x = 4\n",
    "```\n",
    "\n",
    "Questo può sembrare semplice, ma vediamo meglio come opera Python quando esegue un' istruzione di questo tipo.\n",
    "Nella parte destra dell'istruzione Python crea un **OGGETTO** in memoria RAM che ha diverse informazioni tra cui il tipo dell'oggetto (type) e il valore dell'oggetto (value). \n",
    "Nel nostro caso abbiamo creato un oggetto di tipo INTEGER.\n",
    "\n",
    "<img src=\"fig/fig-variable-object-2.png\">\n",
    "\n",
    "Nella parte sinitra dell'istruzione Python crea una variabile denominata x che è un **puntatore** alla zona di memoria RAM in cui è memorizzato l'oggetto che abbiamo creato prima.\n",
    "\n",
    "<img src=\"fig/fig-variable-object-3.png\">\n",
    "\n",
    "Come possiamo vedere dalla figura sopra, la variabile x è come un 'telecomando' che ci consente di accedere alle informazioni contenute nell **oggetto** presente in memoria e quindi anche al valore 4 che avevamo assegnato. \n",
    "E' da notare come l'oggetto creato appartiene ad un insieme preciso che è l'insieme degli INTEGER. Diciamo che l'oggetto è un INTEGER TYPE"
   ]
  },
  {
   "cell_type": "code",
   "execution_count": 40,
   "id": "f39b58c7",
   "metadata": {},
   "outputs": [
    {
     "name": "stdout",
     "output_type": "stream",
     "text": [
      "4\n"
     ]
    }
   ],
   "source": [
    "x=4\n",
    "print(x)"
   ]
  },
  {
   "cell_type": "markdown",
   "id": "ce7e5b17",
   "metadata": {},
   "source": [
    "Consideriamo ora il seguente esempio"
   ]
  },
  {
   "cell_type": "code",
   "execution_count": 38,
   "id": "53391521",
   "metadata": {},
   "outputs": [
    {
     "name": "stdout",
     "output_type": "stream",
     "text": [
      "La variabile y ha il value [1, 2, 3]  ed è di tipo <class 'list'>\n"
     ]
    }
   ],
   "source": [
    "y = [1,2,3]        # y è una lista\n",
    "print('La variabile y ha il value',y,' ed è di tipo',type(y))"
   ]
  },
  {
   "cell_type": "markdown",
   "id": "1b78826e",
   "metadata": {},
   "source": [
    "Con l'istruzione precedente abbiamo creato un oggetto di tipo LIST e abbiamo inserito in questo oggetto i valori 1,2,3. Notiamo quindi che il nome della variabile è y, ma in questo caso il nostro puntatore 'punta' ad un oggetto diverso da INTEGER\n",
    "\n",
    "<img src=\"fig/fig-variable-object-1.png\">\n"
   ]
  },
  {
   "cell_type": "markdown",
   "id": "2bba02a9",
   "metadata": {},
   "source": [
    "La conseguenza di questa tecnica \"variabile come puntatore\" è che se abbiamo due nomi di variabili che puntano allo stesso oggetto *mutabile*, allora se effettuiamo un cambiamento con una variabile allora cambierà il valore anche dell'altra variabile.\n"
   ]
  },
  {
   "cell_type": "code",
   "execution_count": 3,
   "id": "b116f418",
   "metadata": {},
   "outputs": [],
   "source": [
    "x = y   # inseriamo in x il puntatore inserito in y"
   ]
  },
  {
   "cell_type": "markdown",
   "id": "63bca7ab",
   "metadata": {},
   "source": [
    "Abbiamo inserito nella variabile ``x`` il puntatore della variabile ``y``.\n",
    "Per questo motivo, se modifichiamo l'elenco tramite uno dei suoi nomi, vedremo che anche l'elenco \"altro\" verrà modificato:"
   ]
  },
  {
   "cell_type": "code",
   "execution_count": 4,
   "id": "050f1259",
   "metadata": {},
   "outputs": [
    {
     "name": "stdout",
     "output_type": "stream",
     "text": [
      "[1, 2, 3]\n"
     ]
    }
   ],
   "source": [
    "print(y) # stampiamo y"
   ]
  },
  {
   "cell_type": "code",
   "execution_count": 5,
   "id": "74811dd4",
   "metadata": {},
   "outputs": [
    {
     "name": "stdout",
     "output_type": "stream",
     "text": [
      "[1, 2, 3, 4]\n"
     ]
    }
   ],
   "source": [
    "y.append(4) # aggiungiamo 4 alla lista puntata da y\n",
    "print(y) # stampiamo la lista y"
   ]
  },
  {
   "cell_type": "markdown",
   "id": "cf1da76a",
   "metadata": {},
   "source": [
    "NB. Ora il nostro oggetto in memoria contiene un elemento in più\n",
    "\n",
    "<img src=\"fig/fig-variable-object-4.png\">\n",
    "\n"
   ]
  },
  {
   "cell_type": "code",
   "execution_count": 6,
   "id": "7f007df2",
   "metadata": {},
   "outputs": [
    {
     "name": "stdout",
     "output_type": "stream",
     "text": [
      "[1, 2, 3, 4]\n"
     ]
    }
   ],
   "source": [
    "print(x) # stampiamo la lista x"
   ]
  },
  {
   "cell_type": "markdown",
   "id": "91fbc709",
   "metadata": {},
   "source": [
    "Questo comportamento potrebbe creare confusione se si pensa erroneamente alle variabili come a un contenitore di dati.\n",
    "Ma se pensi alle variabili come **puntatori a oggetti**, allora questo comportamento ha senso.\n",
    "\n",
    "Nota anche che se usiamo \"``=``\" per assegnare un altro valore a ``x``, questo non influirà sul valore di ``y`` – l'assegnazione è semplicemente un cambiamento dell'oggetto a cui punta la variabile:"
   ]
  },
  {
   "cell_type": "code",
   "execution_count": 8,
   "id": "2e922cb4",
   "metadata": {},
   "outputs": [
    {
     "name": "stdout",
     "output_type": "stream",
     "text": [
      "[1, 2, 3, 4]\n",
      "something else\n"
     ]
    }
   ],
   "source": [
    "x = 'something else'\n",
    "print(y)  # y is unchanged\n",
    "print(x)"
   ]
  },
  {
   "cell_type": "markdown",
   "id": "43e59a23",
   "metadata": {},
   "source": [
    "<img src=\"fig/fig-variable-object-5.png\">\n"
   ]
  },
  {
   "cell_type": "markdown",
   "id": "69502a67",
   "metadata": {},
   "source": [
    "Ancora una volta, questo ha perfettamente senso se si pensa a ``x`` e ``y`` come puntatori, e all'operatore \"``=``\" come a un'operazione che cambia ciò a cui punta il nome."
   ]
  },
  {
   "cell_type": "markdown",
   "id": "9786cd2f",
   "metadata": {},
   "source": [
    "## Ogni cosa è un oggetto\n",
    "\n",
    "Python è un linguaggio di programmazione orientato agli oggetti (**OBJECT ORIENTING PROGRAMMING LANGUAGE - OOP**) e in Python TUTTO è un oggetto.\n",
    "\n",
    "Approfondiamo cosa significa. In precedenza abbiamo visto che le variabili sono semplicemente puntatori e che i nomi delle variabili stesse non hanno _informazioni di tipo associate_.\n",
    "Questo porta alcuni ad affermare erroneamente che Python è un linguaggio senza tipi. Ma non è così!\n",
    "Considera quanto segue:"
   ]
  },
  {
   "cell_type": "code",
   "execution_count": 9,
   "id": "bc02bf8b",
   "metadata": {},
   "outputs": [
    {
     "data": {
      "text/plain": [
       "int"
      ]
     },
     "execution_count": 9,
     "metadata": {},
     "output_type": "execute_result"
    }
   ],
   "source": [
    "x = 4\n",
    "type(x)"
   ]
  },
  {
   "cell_type": "code",
   "execution_count": 10,
   "id": "e4b920cf",
   "metadata": {},
   "outputs": [
    {
     "data": {
      "text/plain": [
       "str"
      ]
     },
     "execution_count": 10,
     "metadata": {},
     "output_type": "execute_result"
    }
   ],
   "source": [
    "x = 'hello'\n",
    "type(x)"
   ]
  },
  {
   "cell_type": "code",
   "execution_count": 11,
   "id": "e85dd538",
   "metadata": {},
   "outputs": [
    {
     "data": {
      "text/plain": [
       "float"
      ]
     },
     "execution_count": 11,
     "metadata": {},
     "output_type": "execute_result"
    }
   ],
   "source": [
    "x = 3.14159\n",
    "type(x)"
   ]
  },
  {
   "cell_type": "markdown",
   "id": "646dddd0",
   "metadata": {},
   "source": [
    "Python ha i tipi (**type**) tuttavia, i tipi sono collegati non ai nomi delle variabili ma *agli oggetti stessi*.\n",
    "\n",
    "Nei linguaggi di programmazione orientati agli oggetti come Python, un *oggetto* è un'entità che contiene dati insieme a METADATI e/o FUNZIONALITA' associate.\n",
    "In Python tutto è un oggetto, il che significa che ogni entità ha alcuni metadati (chiamati *attributi*) e funzionalità associate (chiamate *metodi*).\n",
    "\n",
    "<img src=\"fig/fig-variable-object-6.png\">\n"
   ]
  },
  {
   "cell_type": "markdown",
   "id": "03512031",
   "metadata": {},
   "source": [
    "Questi attributi e metodi sono accessibili tramite la sintassi del punto.\n",
    "\n",
    "Per esempio, prima abbiamo visto che le liste hanno un metodo ``append``, che aggiunge un elemento alla lista, ed è accessibile tramite la sintassi del punto (\"``.``\"):"
   ]
  },
  {
   "cell_type": "code",
   "execution_count": 32,
   "id": "955b8019",
   "metadata": {},
   "outputs": [
    {
     "name": "stdout",
     "output_type": "stream",
     "text": [
      "[1, 2, 3, 4, 5, 6, 7, 8]\n"
     ]
    }
   ],
   "source": [
    "L = [1, 2, 3, 4, 5, 6 , 7, 8]\n",
    "print(L)"
   ]
  },
  {
   "cell_type": "code",
   "execution_count": 33,
   "id": "a9e3697f",
   "metadata": {},
   "outputs": [
    {
     "name": "stdout",
     "output_type": "stream",
     "text": [
      "[1, 2, 3, 4, 5, 6, 7, 8, 21]\n"
     ]
    }
   ],
   "source": [
    "L.append(21)\n",
    "print(L)"
   ]
  },
  {
   "cell_type": "code",
   "execution_count": 34,
   "id": "5237090e",
   "metadata": {},
   "outputs": [
    {
     "name": "stdout",
     "output_type": "stream",
     "text": [
      "[21, 8, 7, 6, 5, 4, 3, 2, 1]\n"
     ]
    }
   ],
   "source": [
    "L.reverse()\n",
    "print(L)"
   ]
  },
  {
   "cell_type": "markdown",
   "id": "2c4964fa",
   "metadata": {},
   "source": [
    "I metodi sono come gli attributi, tranne per il fatto che sono funzioni che puoi chiamare usando le parentesi di apertura e chiusura."
   ]
  },
  {
   "cell_type": "code",
   "execution_count": null,
   "id": "5c8f1b03",
   "metadata": {},
   "outputs": [],
   "source": []
  }
 ],
 "metadata": {
  "@webio": {
   "lastCommId": null,
   "lastKernelId": null
  },
  "kernelspec": {
   "display_name": "Python 3 (ipykernel)",
   "language": "python",
   "name": "python3"
  },
  "language_info": {
   "codemirror_mode": {
    "name": "ipython",
    "version": 3
   },
   "file_extension": ".py",
   "mimetype": "text/x-python",
   "name": "python",
   "nbconvert_exporter": "python",
   "pygments_lexer": "ipython3",
   "version": "3.9.12"
  },
  "varInspector": {
   "cols": {
    "lenName": 16,
    "lenType": 16,
    "lenVar": 40
   },
   "kernels_config": {
    "python": {
     "delete_cmd_postfix": "",
     "delete_cmd_prefix": "del ",
     "library": "var_list.py",
     "varRefreshCmd": "print(var_dic_list())"
    },
    "r": {
     "delete_cmd_postfix": ") ",
     "delete_cmd_prefix": "rm(",
     "library": "var_list.r",
     "varRefreshCmd": "cat(var_dic_list()) "
    }
   },
   "types_to_exclude": [
    "module",
    "function",
    "builtin_function_or_method",
    "instance",
    "_Feature"
   ],
   "window_display": false
  }
 },
 "nbformat": 4,
 "nbformat_minor": 5
}
