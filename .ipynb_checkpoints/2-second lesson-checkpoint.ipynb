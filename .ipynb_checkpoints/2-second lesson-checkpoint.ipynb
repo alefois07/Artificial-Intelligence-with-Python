{
 "cells": [
  {
   "cell_type": "markdown",
   "id": "df1e31a4",
   "metadata": {},
   "source": [
    "#  A QUICK RECAP"
   ]
  },
  {
   "cell_type": "markdown",
   "id": "c118f69f",
   "metadata": {},
   "source": [
    "Nella lezione precedente abbiamo visto:\n",
    "\n",
    "    - come si assegna una variabile e le operazioni che si possono svolgere\n",
    "    - ogni variabile appartiene ad uno specifico TYPE (BOOLEAND, STR, INT, FLOAT, LIST)\n",
    "    - l'inserimento di un dato da tastiera (INPUT)\n",
    "    - come si definiscono le funzioni\n",
    "    - come si disegna una funzione (molto superficialmente)"
   ]
  },
  {
   "cell_type": "markdown",
   "id": "f50d04ad",
   "metadata": {},
   "source": [
    "ESEMPI:...."
   ]
  },
  {
   "cell_type": "code",
   "execution_count": null,
   "id": "da49fe52",
   "metadata": {},
   "outputs": [],
   "source": []
  },
  {
   "cell_type": "markdown",
   "id": "8dd5f73e",
   "metadata": {},
   "source": [
    "# CONTROLLO DI FLUSSO (CONTROL - FLOW)"
   ]
  },
  {
   "cell_type": "markdown",
   "id": "8e4ed6fd",
   "metadata": {},
   "source": [
    "Un programma è un elenco di istruzioni che vengono eseguite in sequenza. Con il flusso di controllo, puoi eseguire determinati blocchi di codice in modo **CONDIZIONATO** e/o **RIPETUTAMENTE**: questi blocchi di base possono essere combinati per creare programmi molto sofisticati"
   ]
  },
  {
   "cell_type": "code",
   "execution_count": null,
   "id": "845d3f7d",
   "metadata": {},
   "outputs": [],
   "source": []
  },
  {
   "cell_type": "markdown",
   "id": "7e6fd1b4",
   "metadata": {},
   "source": [
    "## Conditional Statements: ``if``-``elif``-``else``:\n",
    "Le istruzioni condizionali, spesso chiamate istruzioni *if-then*, consentono al programmatore di eseguire determinate parti di codice a seconda di alcune condizioni booleane.\n",
    "Un esempio di base di un'istruzione condizionale Python è questo:"
   ]
  },
  {
   "cell_type": "code",
   "execution_count": null,
   "id": "957adf4a",
   "metadata": {},
   "outputs": [],
   "source": [
    "x = 0\n",
    "if x == 0:\n",
    "    print(x, \"is zero\")"
   ]
  },
  {
   "cell_type": "markdown",
   "id": "2f8082e7",
   "metadata": {},
   "source": [
    "Possiamo esplicitare anche l'alternativa "
   ]
  },
  {
   "cell_type": "code",
   "execution_count": 10,
   "id": "2cdbba09",
   "metadata": {},
   "outputs": [
    {
     "name": "stdout",
     "output_type": "stream",
     "text": [
      "-15 x è minore di 0\n"
     ]
    }
   ],
   "source": [
    "x = -15\n",
    "\n",
    "if x > 0:\n",
    "    print(\"X è maggiore di 0\")\n",
    "else:\n",
    "    print(x, \"x è minore di 0\")"
   ]
  },
  {
   "cell_type": "code",
   "execution_count": 12,
   "id": "ee1e4ebe",
   "metadata": {},
   "outputs": [
    {
     "data": {
      "text/plain": [
       "False"
      ]
     },
     "execution_count": 12,
     "metadata": {},
     "output_type": "execute_result"
    }
   ],
   "source": []
  },
  {
   "cell_type": "markdown",
   "id": "7cfb9964",
   "metadata": {},
   "source": [
    "Possiamo esplicitare più alternative "
   ]
  },
  {
   "cell_type": "code",
   "execution_count": 2,
   "id": "1ec4e8aa",
   "metadata": {},
   "outputs": [
    {
     "name": "stdout",
     "output_type": "stream",
     "text": [
      "inserisci un numero10\n",
      "il numero è maggiore di 2\n"
     ]
    }
   ],
   "source": [
    "x = float(input(\"inserisci un numero\"))\n",
    "\n",
    "if x == 0:\n",
    "    print(\"il numero inserito è zero\")\n",
    "elif x < 0:\n",
    "    print(\"il numero inserito è negativo\")\n",
    "elif (0 < x) and (x <= 2):\n",
    "    print(\"il numero è compreso (o uguale) tra 0 e 2\")\n",
    "else:\n",
    "    print(\"il numero è maggiore di 2\")"
   ]
  },
  {
   "cell_type": "markdown",
   "id": "af69973c",
   "metadata": {},
   "source": [
    "# ORA PROVA TU\n",
    "Scrivi un conditional statement che, data una stringa in input, ci dice se la lunghezza della stringa è maggiore di 7 caratteri"
   ]
  },
  {
   "cell_type": "code",
   "execution_count": 8,
   "id": "c695abea",
   "metadata": {},
   "outputs": [
    {
     "name": "stdout",
     "output_type": "stream",
     "text": [
      "inserisci una stringa23\n",
      "La stringa è minore o uguale di 7 caratteri\n"
     ]
    }
   ],
   "source": [
    "x = input(\"inserisci una stringa\")\n",
    "if len(x) > 7:\n",
    "    print(\"la stringa è maggiore di 7 caratteri\")\n",
    "else:\n",
    "    print(\"La stringa è minore o uguale di 7 caratteri\")"
   ]
  },
  {
   "cell_type": "markdown",
   "id": "c6649eb4",
   "metadata": {},
   "source": [
    "# ORA PROVA TU\n",
    "Scriviamo una funzione che riceve due numeri interi e ci dice se il primo numero e maggiore del secondo"
   ]
  },
  {
   "cell_type": "code",
   "execution_count": 20,
   "id": "be6ec0e8",
   "metadata": {
    "hide_input": false
   },
   "outputs": [
    {
     "name": "stdout",
     "output_type": "stream",
     "text": [
      "Inserisci un numero3\n",
      "Inserisci un altro numero3\n",
      "3.0  è uguale a  3.0\n"
     ]
    }
   ],
   "source": [
    "def confronto(x,y):\n",
    "    if (x==y):\n",
    "        print(x,\" è uguale a \",y)\n",
    "    elif x < y:\n",
    "        print(x, \" è minore di \",y)\n",
    "    else:\n",
    "        print(x, \" è maggiore di \",y)\n",
    "        \n",
    "x = float(input(\"Inserisci un numero\"))\n",
    "y = float(input(\"Inserisci un altro numero\"))\n",
    "confronto(x,y)"
   ]
  },
  {
   "cell_type": "code",
   "execution_count": 15,
   "id": "a9621647",
   "metadata": {},
   "outputs": [
    {
     "name": "stdout",
     "output_type": "stream",
     "text": [
      "è minore\n"
     ]
    }
   ],
   "source": [
    "confronto(4,5)"
   ]
  },
  {
   "cell_type": "code",
   "execution_count": null,
   "id": "a8d0842b",
   "metadata": {},
   "outputs": [],
   "source": []
  },
  {
   "cell_type": "markdown",
   "id": "cb72d5ed",
   "metadata": {},
   "source": [
    "## ``for`` LOOP (CICLO)\n",
    "I loop in Python sono un modo per eseguire ripetutamente alcune istruzioni di codice.\n",
    "Quindi, per esempio, se vogliamo stampare ciascuno degli elementi in un elenco, possiamo usare un ciclo ``for``:"
   ]
  },
  {
   "cell_type": "code",
   "execution_count": 13,
   "id": "99a7dbcb",
   "metadata": {},
   "outputs": [],
   "source": [
    "a = [1,2,3,4,5]   # creo una lista"
   ]
  },
  {
   "cell_type": "code",
   "execution_count": 14,
   "id": "9b7a896e",
   "metadata": {},
   "outputs": [
    {
     "name": "stdout",
     "output_type": "stream",
     "text": [
      "1\n",
      "2\n",
      "3\n",
      "4\n",
      "5\n"
     ]
    }
   ],
   "source": [
    "for i in a:\n",
    "    print(i)"
   ]
  },
  {
   "cell_type": "code",
   "execution_count": null,
   "id": "93ed4191",
   "metadata": {},
   "outputs": [],
   "source": []
  },
  {
   "cell_type": "code",
   "execution_count": 16,
   "id": "5c066418",
   "metadata": {},
   "outputs": [
    {
     "name": "stdout",
     "output_type": "stream",
     "text": [
      "1 2 3 4 5 "
     ]
    }
   ],
   "source": [
    "# se voglio stampare sulla stessa linea\n",
    "for i in a:\n",
    "    print(i, end=' ') #"
   ]
  },
  {
   "cell_type": "code",
   "execution_count": 23,
   "id": "650345d7",
   "metadata": {},
   "outputs": [
    {
     "name": "stdout",
     "output_type": "stream",
     "text": [
      "['Corso', 'AI', 'with', 'Python']\n"
     ]
    }
   ],
   "source": [
    "b = [\"Corso\",\"AI\", \"with\", \"Python\"]\n",
    "print(b)"
   ]
  },
  {
   "cell_type": "code",
   "execution_count": 24,
   "id": "c24ed46f",
   "metadata": {},
   "outputs": [
    {
     "name": "stdout",
     "output_type": "stream",
     "text": [
      "Corso\n",
      "AI\n",
      "with\n",
      "Python\n",
      "CorsoAIwithPython\n"
     ]
    }
   ],
   "source": [
    "a=\"\"\n",
    "for i in b:\n",
    "    print(i)\n",
    "    a=a+i\n",
    "print(a)"
   ]
  },
  {
   "cell_type": "code",
   "execution_count": null,
   "id": "2a3cda70",
   "metadata": {},
   "outputs": [],
   "source": []
  },
  {
   "cell_type": "markdown",
   "id": "beb98839",
   "metadata": {},
   "source": [
    "Si noti la semplicità del ciclo for: \n",
    "\n",
    "1) specifichiamo la variabile che vogliamo usare, \n",
    "2) la sequenza su cui vogliamo eseguire il ciclo \n",
    "3) e usiamo l'operatore \"in\" per collegarli insieme in modo intuitivo e leggibile. \n",
    "\n",
    "Più precisamente, l'oggetto a DESTRA di \"in\" può essere qualsiasi ITERATORE Python.\n",
    "Un iteratore può essere pensato come una sequenza generalizzata di oggetti.\n",
    "\n",
    "Ad esempio, uno degli iteratori più comunemente usati in Python è l'oggetto range, che genera una sequenza di numeri:"
   ]
  },
  {
   "cell_type": "code",
   "execution_count": 10,
   "id": "ced65862",
   "metadata": {},
   "outputs": [
    {
     "name": "stdout",
     "output_type": "stream",
     "text": [
      "0 1 2 3 4 5 6 7 8 9 "
     ]
    }
   ],
   "source": [
    "for i in range(10):\n",
    "    print(i, end=' ')"
   ]
  },
  {
   "cell_type": "code",
   "execution_count": 31,
   "id": "1604c1e6",
   "metadata": {},
   "outputs": [
    {
     "data": {
      "text/plain": [
       "[0, 2, 4, 6, 8]"
      ]
     },
     "execution_count": 31,
     "metadata": {},
     "output_type": "execute_result"
    }
   ],
   "source": [
    "# range da 0 a 10 passo 2\n",
    "list(range(0, 10, 2))"
   ]
  },
  {
   "cell_type": "markdown",
   "id": "457ba359",
   "metadata": {},
   "source": [
    "# ORA PROVA TU\n",
    "Crea una funzione che esegue la somma di tutti i numeri presenti in una lista"
   ]
  },
  {
   "cell_type": "code",
   "execution_count": 26,
   "id": "2eeacf20",
   "metadata": {},
   "outputs": [],
   "source": [
    "def sommanumeri(x):\n",
    "    counter = 0\n",
    "    for i in x:\n",
    "        counter = counter + i\n",
    "    return counter"
   ]
  },
  {
   "cell_type": "code",
   "execution_count": 28,
   "id": "1db49b8d",
   "metadata": {},
   "outputs": [
    {
     "data": {
      "text/plain": [
       "15"
      ]
     },
     "execution_count": 28,
     "metadata": {},
     "output_type": "execute_result"
    }
   ],
   "source": [
    "a = [1,2,3,4,5]\n",
    "sommanumeri(a)"
   ]
  },
  {
   "cell_type": "markdown",
   "id": "2877ba75",
   "metadata": {},
   "source": [
    "## ``while`` LOOP¶\n",
    "L'altro tipo di ciclo in Python è un ciclo ``while``, che itera finché viene soddisfatta una CONDIZIONE:\n",
    "\n",
    "while CONDIZIONE\n",
    "\n",
    "    istruzione \n",
    "    istruzione"
   ]
  },
  {
   "cell_type": "code",
   "execution_count": 40,
   "id": "a7d99675",
   "metadata": {},
   "outputs": [
    {
     "name": "stdout",
     "output_type": "stream",
     "text": [
      "0 1 2 3 4 5 6 7 8 9 "
     ]
    }
   ],
   "source": [
    "i = 0\n",
    "while i < 10:\n",
    "    print(i, end=' ')\n",
    "    i += 1"
   ]
  },
  {
   "cell_type": "markdown",
   "id": "b7cca0c6",
   "metadata": {},
   "source": [
    "# ORA PROVA TU\n",
    "Crea una funzione che esegue la somma di tutti i numeri presenti in una lista"
   ]
  },
  {
   "cell_type": "code",
   "execution_count": 32,
   "id": "ac8fd33a",
   "metadata": {},
   "outputs": [],
   "source": [
    "def sommanumeri2(x):\n",
    "    tot = 0\n",
    "    i=0\n",
    "    while i < len(x):\n",
    "        tot = tot + x[i]\n",
    "        i = i +1 \n",
    "    return tot"
   ]
  },
  {
   "cell_type": "code",
   "execution_count": 34,
   "id": "aa6b5f74",
   "metadata": {},
   "outputs": [
    {
     "data": {
      "text/plain": [
       "10"
      ]
     },
     "execution_count": 34,
     "metadata": {},
     "output_type": "execute_result"
    }
   ],
   "source": [
    "sommanumeri2([1,2,3,4])"
   ]
  },
  {
   "cell_type": "code",
   "execution_count": null,
   "id": "b6b2fb6a",
   "metadata": {},
   "outputs": [],
   "source": []
  },
  {
   "cell_type": "markdown",
   "id": "46602ff5",
   "metadata": {},
   "source": [
    "``break`` and ``continue``: \n",
    "Esistono due istruzioni utili che possono essere utilizzate all'interno dei cicli per ottimizzare il modo in cui vengono eseguiti:\n",
    "\n",
    "L'istruzione ``break`` esce completamente dal ciclo\n",
    "L'istruzione ``continue`` salta il resto del ciclo corrente e passa all'iterazione successiva\n",
    "\n",
    "Questi possono essere usati sia nei cicli for che in quelli while."
   ]
  },
  {
   "cell_type": "code",
   "execution_count": null,
   "id": "1827a636",
   "metadata": {},
   "outputs": [],
   "source": []
  },
  {
   "cell_type": "code",
   "execution_count": null,
   "id": "1b3d163e",
   "metadata": {},
   "outputs": [],
   "source": []
  },
  {
   "cell_type": "code",
   "execution_count": 44,
   "id": "3bfc99b2",
   "metadata": {},
   "outputs": [],
   "source": [
    "# Built-In Data Structures"
   ]
  },
  {
   "cell_type": "code",
   "execution_count": null,
   "id": "0098e146",
   "metadata": {},
   "outputs": [],
   "source": []
  }
 ],
 "metadata": {
  "@webio": {
   "lastCommId": null,
   "lastKernelId": null
  },
  "hide_input": false,
  "kernelspec": {
   "display_name": "Python 3 (ipykernel)",
   "language": "python",
   "name": "python3"
  },
  "language_info": {
   "codemirror_mode": {
    "name": "ipython",
    "version": 3
   },
   "file_extension": ".py",
   "mimetype": "text/x-python",
   "name": "python",
   "nbconvert_exporter": "python",
   "pygments_lexer": "ipython3",
   "version": "3.10.8"
  },
  "varInspector": {
   "cols": {
    "lenName": 16,
    "lenType": 16,
    "lenVar": 40
   },
   "kernels_config": {
    "python": {
     "delete_cmd_postfix": "",
     "delete_cmd_prefix": "del ",
     "library": "var_list.py",
     "varRefreshCmd": "print(var_dic_list())"
    },
    "r": {
     "delete_cmd_postfix": ") ",
     "delete_cmd_prefix": "rm(",
     "library": "var_list.r",
     "varRefreshCmd": "cat(var_dic_list()) "
    }
   },
   "types_to_exclude": [
    "module",
    "function",
    "builtin_function_or_method",
    "instance",
    "_Feature"
   ],
   "window_display": false
  }
 },
 "nbformat": 4,
 "nbformat_minor": 5
}
