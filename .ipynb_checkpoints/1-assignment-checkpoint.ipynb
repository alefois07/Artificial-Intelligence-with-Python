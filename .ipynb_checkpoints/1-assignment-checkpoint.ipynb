{
 "cells": [
  {
   "cell_type": "markdown",
   "id": "ce906cbd",
   "metadata": {},
   "source": [
    "1)  Crea uno script in cui \n",
    "\n",
    "    1) l'utente inserisce da tastiera prima il nome, poi il cognome, poi l'indirizzo \n",
    "    2) Python stampa in un'unica riga NOME, COGNOME, INDIRIZZO"
   ]
  },
  {
   "cell_type": "markdown",
   "id": "c0e6db49",
   "metadata": {},
   "source": [
    "2) Crea uno script in cui l'utente inserisce "
   ]
  },
  {
   "cell_type": "markdown",
   "id": "04667e13",
   "metadata": {},
   "source": [
    "3) crea funzioni"
   ]
  },
  {
   "cell_type": "markdown",
   "id": "51b21c33",
   "metadata": {},
   "source": [
    "4) manipola vettori"
   ]
  },
  {
   "cell_type": "markdown",
   "id": "973fe022",
   "metadata": {},
   "source": [
    "5) plotta funzioni"
   ]
  }
 ],
 "metadata": {
  "@webio": {
   "lastCommId": null,
   "lastKernelId": null
  },
  "kernelspec": {
   "display_name": "Python 3 (ipykernel)",
   "language": "python",
   "name": "python3"
  },
  "language_info": {
   "codemirror_mode": {
    "name": "ipython",
    "version": 3
   },
   "file_extension": ".py",
   "mimetype": "text/x-python",
   "name": "python",
   "nbconvert_exporter": "python",
   "pygments_lexer": "ipython3",
   "version": "3.10.8"
  },
  "varInspector": {
   "cols": {
    "lenName": 16,
    "lenType": 16,
    "lenVar": 40
   },
   "kernels_config": {
    "python": {
     "delete_cmd_postfix": "",
     "delete_cmd_prefix": "del ",
     "library": "var_list.py",
     "varRefreshCmd": "print(var_dic_list())"
    },
    "r": {
     "delete_cmd_postfix": ") ",
     "delete_cmd_prefix": "rm(",
     "library": "var_list.r",
     "varRefreshCmd": "cat(var_dic_list()) "
    }
   },
   "types_to_exclude": [
    "module",
    "function",
    "builtin_function_or_method",
    "instance",
    "_Feature"
   ],
   "window_display": false
  }
 },
 "nbformat": 4,
 "nbformat_minor": 5
}
