{
 "cells": [
  {
   "cell_type": "markdown",
   "id": "ce906cbd",
   "metadata": {},
   "source": [
    "1)  Crea uno script in cui:\n",
    "    1) l'utente inserisce da tastiera prima il nome, poi il cognome, poi l'indirizzo \n",
    "    2) Python stampa in un'unica riga NOME, COGNOME, INDIRIZZO"
   ]
  },
  {
   "cell_type": "markdown",
   "id": "c0e6db49",
   "metadata": {},
   "source": [
    "2) Crea uno script in cui:\n",
    "    1) l'utente inserisce da tastiera la base e l'altezza di un rettangolo\n",
    "    2) l'interprete python comunica il perimetro e l'area del rettangolo"
   ]
  },
  {
   "cell_type": "markdown",
   "id": "04667e13",
   "metadata": {},
   "source": [
    "3) Crea la funzione $multiply(x,y)$ che ha due argomenti in input e restituisce il prodotto dei due argomenti"
   ]
  },
  {
   "cell_type": "markdown",
   "id": "c5f69d7a",
   "metadata": {},
   "source": [
    "4) Crea la funzione $multiply2(a)$ che ha come argomento una lista **a** di interi e restituisce il prodotto di tutti i numeri della lista\n",
    "(vedi soluzione in fondo al notebook)"
   ]
  },
  {
   "cell_type": "markdown",
   "id": "448c839b",
   "metadata": {},
   "source": [
    "5) Crea la funzione progaritm(a,d,n) che \n",
    "    1) stampa i primi n termini di una progressione aritmetica di ragione $d$ e termine iniziale $a$\n",
    "    2) calcola la somma dei primi n numeri della progressione aritmetica\n",
    "    \n",
    "Ricordiamo che\n",
    "- una progressione aritmetica è una successione di numeri tali che la differenza tra ciascun termine (o elemento) della successione e il suo precedente sia una costante. Tale costante viene detta ragione della progressione. Per esempio, la successione 3, 5, 7, 9, 11, ... è una progressione aritmetica di ragione 2.\n",
    "\n",
    "- la somma $S_n$ dei primi n valori di una progressione aritmetica è uguale a:\n",
    "$S_{n}={1 \\over 2}n(a+a_n),$\n",
    "\n",
    "(la soluzione è in fondo al notebook)"
   ]
  },
  {
   "cell_type": "markdown",
   "id": "706c600f",
   "metadata": {},
   "source": [
    "6) Crea la funzione $stampalista(x)$ che ha come argomento una lista di interi e stampa tutte le componenti della lista, una a una.\n",
    "(vedi soluzione in fondo al notebook)"
   ]
  },
  {
   "cell_type": "markdown",
   "id": "4da6c15d",
   "metadata": {},
   "source": [
    "7) I seguenti esercizi sono tratti dal corso Python del Prof. Nicola Cassetta. Il corso è consultabile gratuitamente all'indirizzo \n",
    "https://ncassetta.altervista.org/Tutorial_Python/\n",
    "\n",
    "ESERCIZIO 7.1: Per entrare nel sito 'Segretissimo.com' bisogna digitare una password di 8 caratteri. Create una variabile pw di tipo stringa e scrivete poi un'espressione booleana che restituisca True se pw può essere usata come password.\n",
    "\n",
    "ESERCIZIO 7.2: Ora create un'altra stringa pw2 e scrivete un'espressione booleana che restituisca True se la concatenazione di pw e pw2 è lunga esattamente 10 caratteri.\n",
    "\n",
    "ESERCIZIO 7.3: Ora create tre variabili t1, t2, t3 assegnando loro la temperatura degli ultimi tre giorni. Scrivete una funzione che vi dia la temperatura massima.\n",
    "\n",
    "ESERCIZIO 7.4 Se la temperatura massima è maggiore di 35 gradi è necessario avvisare la Protezione Civile: scrivete un'espressione booleana che restituisca True se dobbiamo farlo.\n",
    "\n",
    "Potete trovare le soluzioni all'indirizzo\n",
    "https://ncassetta.altervista.org/Tutorial_Python/Lezione_04.html\n",
    "in fondo alla pagina"
   ]
  },
  {
   "cell_type": "markdown",
   "id": "973fe022",
   "metadata": {},
   "source": [
    "7) trova le soluzione grafiche dell'equazione\n",
    "\n",
    "$0.5x^2 - (1/8)x + xsin(x) = 0$\n",
    "\n",
    "NB. Per elevare a potenza con numpy usa il comando np.power(x,n)\n",
    "per esempio x^2 è np.power(x,2)\n",
    "\n",
    "(vedi soluzione sotto)"
   ]
  },
  {
   "cell_type": "code",
   "execution_count": null,
   "id": "51af41ac",
   "metadata": {},
   "outputs": [],
   "source": []
  },
  {
   "cell_type": "markdown",
   "id": "47701662",
   "metadata": {},
   "source": [
    "# soluzioni"
   ]
  },
  {
   "cell_type": "code",
   "execution_count": 3,
   "id": "cd18c57c",
   "metadata": {},
   "outputs": [],
   "source": [
    "def progaritm(a,d,n):\n",
    "    a_n = 0\n",
    "    for i in range (0,n):\n",
    "        a_n = (a+i*d)\n",
    "        print(a_n)\n",
    "    s_n = 1/2*n*(a+a_n)\n",
    "    return s_n"
   ]
  },
  {
   "cell_type": "code",
   "execution_count": 4,
   "id": "4ad20d7a",
   "metadata": {},
   "outputs": [
    {
     "name": "stdout",
     "output_type": "stream",
     "text": [
      "3\n",
      "7\n",
      "11\n",
      "15\n",
      "19\n"
     ]
    },
    {
     "data": {
      "text/plain": [
       "55.0"
      ]
     },
     "execution_count": 4,
     "metadata": {},
     "output_type": "execute_result"
    }
   ],
   "source": [
    "progaritm(3,4,5)"
   ]
  },
  {
   "cell_type": "code",
   "execution_count": 1,
   "id": "b797aa80",
   "metadata": {},
   "outputs": [],
   "source": [
    "def multiply2(vector):  \n",
    "    total = 1\n",
    "    for x in vector:\n",
    "        total = total * x  \n",
    "    return total  "
   ]
  },
  {
   "cell_type": "code",
   "execution_count": 2,
   "id": "725f8c19",
   "metadata": {},
   "outputs": [
    {
     "data": {
      "text/plain": [
       "2880"
      ]
     },
     "execution_count": 2,
     "metadata": {},
     "output_type": "execute_result"
    }
   ],
   "source": [
    "a= [2,8,3,4,5,3]\n",
    "multiply2(a)"
   ]
  },
  {
   "cell_type": "code",
   "execution_count": 5,
   "id": "4a38ea53",
   "metadata": {},
   "outputs": [],
   "source": [
    "def stampvect(x):\n",
    "    for i in x:\n",
    "        print (i)\n",
    "\n",
    "# oppure in alternativa\n",
    "def stampvect2(x):\n",
    "    for i in range(0,len(x)):\n",
    "        print(x[i])"
   ]
  },
  {
   "cell_type": "code",
   "execution_count": 6,
   "id": "bbc178dd",
   "metadata": {},
   "outputs": [
    {
     "name": "stdout",
     "output_type": "stream",
     "text": [
      "3\n",
      "4\n",
      "12\n",
      "3\n",
      "4\n",
      "6\n",
      "7\n"
     ]
    }
   ],
   "source": [
    "x = [3,4,12,3,4,6,7]\n",
    "stampvect(x)"
   ]
  },
  {
   "cell_type": "code",
   "execution_count": 72,
   "id": "8d4d907f",
   "metadata": {},
   "outputs": [
    {
     "data": {
      "image/png": "[encoded data removed]",
      "text/plain": [
       "<Figure size 640x480 with 1 Axes>"
      ]
     },
     "metadata": {},
     "output_type": "display_data"
    }
   ],
   "source": [
    "import matplotlib.pyplot as plt\n",
    "import numpy as np\n",
    "\n",
    "\n",
    "def curve1(x):\n",
    "    y = 0.5*np.power(x,2) - (1/8)*x\n",
    "    return y\n",
    "\n",
    "def curve2(x):\n",
    "    y = x*np.sin(x)\n",
    "    return y\n",
    "\n",
    "x = np.linspace(-5,7,100)\n",
    "y1 = curve1(x)\n",
    "y2 = curve2(x)\n",
    "\n",
    "fig, ax = plt.subplots()\n",
    "ax.plot(x, y1)\n",
    "ax.plot(x, y2)\n",
    "\n",
    "# PER INGRANDIRE - RIDURRE LA FINESTRA DEL GRAFICO AGIRE SUI VALORI SEGUENTI\n",
    "ax.set_xlim([-10, 10])\n",
    "ax.set_ylim([-10, 10])\n",
    "\n",
    "\n",
    "ax.spines['left'].set_position('zero')\n",
    "ax.spines['bottom'].set_position('zero')\n",
    "ax.spines['right'].set_color('none')\n",
    "ax.spines['top'].set_color('none')\n",
    "\n",
    "ax.xaxis.tick_bottom()\n",
    "ax.yaxis.tick_left()\n",
    "plt.show()"
   ]
  }
 ],
 "metadata": {
  "@webio": {
   "lastCommId": null,
   "lastKernelId": null
  },
  "kernelspec": {
   "display_name": "Python 3 (ipykernel)",
   "language": "python",
   "name": "python3"
  },
  "language_info": {
   "codemirror_mode": {
    "name": "ipython",
    "version": 3
   },
   "file_extension": ".py",
   "mimetype": "text/x-python",
   "name": "python",
   "nbconvert_exporter": "python",
   "pygments_lexer": "ipython3",
   "version": "3.9.12"
  },
  "varInspector": {
   "cols": {
    "lenName": 16,
    "lenType": 16,
    "lenVar": 40
   },
   "kernels_config": {
    "python": {
     "delete_cmd_postfix": "",
     "delete_cmd_prefix": "del ",
     "library": "var_list.py",
     "varRefreshCmd": "print(var_dic_list())"
    },
    "r": {
     "delete_cmd_postfix": ") ",
     "delete_cmd_prefix": "rm(",
     "library": "var_list.r",
     "varRefreshCmd": "cat(var_dic_list()) "
    }
   },
   "types_to_exclude": [
    "module",
    "function",
    "builtin_function_or_method",
    "instance",
    "_Feature"
   ],
   "window_display": false
  }
 },
 "nbformat": 4,
 "nbformat_minor": 5
}
