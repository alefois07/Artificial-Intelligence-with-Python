{
 "cells": [
  {
   "cell_type": "markdown",
   "id": "2063fea1",
   "metadata": {},
   "source": [
    "<!--NAVIGATION-->\n",
    "< [Indice](Indice.ipynb)  |  [Il linguaggio Python](00-introduzione-python.ipynb)>"
   ]
  },
  {
   "cell_type": "markdown",
   "id": "db308b7c",
   "metadata": {},
   "source": [
    "# Benvenuto al Corso AI with Python.\n",
    "Iniziamo a conoscere Python e a prendere confidenza con il notebook Jupyter"
   ]
  },
  {
   "cell_type": "code",
   "execution_count": 53,
   "id": "7f033f3d",
   "metadata": {},
   "outputs": [
    {
     "name": "stdout",
     "output_type": "stream",
     "text": [
      "Hello World\n"
     ]
    }
   ],
   "source": [
    "print(\"Hello World\")      # scriviamo la prima riga di codice"
   ]
  },
  {
   "cell_type": "code",
   "execution_count": 3,
   "id": "c0bbf34f",
   "metadata": {},
   "outputs": [
    {
     "name": "stdout",
     "output_type": "stream",
     "text": [
      "10\n"
     ]
    }
   ],
   "source": [
    "a = 10  # assegnamo un valore ad una variabile\n",
    "print(a)"
   ]
  },
  {
   "cell_type": "code",
   "execution_count": 4,
   "id": "926e4053",
   "metadata": {},
   "outputs": [
    {
     "name": "stdout",
     "output_type": "stream",
     "text": [
      "Il valore di a è\n"
     ]
    }
   ],
   "source": [
    "b = \"Il valore di a è\"\n",
    "print (b)"
   ]
  },
  {
   "cell_type": "code",
   "execution_count": 49,
   "id": "c7c79d97",
   "metadata": {},
   "outputs": [
    {
     "name": "stdout",
     "output_type": "stream",
     "text": [
      "Il valore di a è 10\n"
     ]
    }
   ],
   "source": [
    "print(b,a)"
   ]
  },
  {
   "cell_type": "code",
   "execution_count": 5,
   "id": "95836378",
   "metadata": {},
   "outputs": [
    {
     "name": "stdout",
     "output_type": "stream",
     "text": [
      "il valore di a è  10\n"
     ]
    }
   ],
   "source": [
    "print(\"il valore di a è \",a)"
   ]
  },
  {
   "cell_type": "code",
   "execution_count": 6,
   "id": "f0c08aa5",
   "metadata": {},
   "outputs": [
    {
     "name": "stdout",
     "output_type": "stream",
     "text": [
      "50\n"
     ]
    }
   ],
   "source": [
    "a = 20\n",
    "b= 30\n",
    "c = a+b\n",
    "print(c)"
   ]
  },
  {
   "cell_type": "code",
   "execution_count": 9,
   "id": "118eb18c",
   "metadata": {},
   "outputs": [
    {
     "name": "stdout",
     "output_type": "stream",
     "text": [
      "Inserisci un numero naturale:5\n",
      "Il numero che hai inserito è  5\n"
     ]
    }
   ],
   "source": [
    "a = int(input(\"Inserisci un numero naturale:\"))  # inseriamo da tastiera un numero intero\n",
    "print(\"Il numero che hai inserito è \",a)"
   ]
  },
  {
   "cell_type": "code",
   "execution_count": 10,
   "id": "70880d9b",
   "metadata": {},
   "outputs": [
    {
     "name": "stdout",
     "output_type": "stream",
     "text": [
      "Inserisci la massa in kg40\n",
      "40.0 kg = 392.40000000000003 Newton\n"
     ]
    }
   ],
   "source": [
    "# calcoliamo la forza peso data la massa\n",
    "g = 9.81\n",
    "massa = float(input(\"Inserisci la massa in kg\"))  \n",
    "peso = massa * g\n",
    "\n",
    "print(massa, \"kg =\", peso, \"Newton\")"
   ]
  },
  {
   "cell_type": "markdown",
   "id": "c7e4f068",
   "metadata": {},
   "source": [
    "## ORA PROVA TU\n",
    "Osservando il programma che calcola il peso, scrivi un programma che riceve come primo input la base e come secondo input l'altezza di un triangolo, e che quindi restituisca l'area del triangolo"
   ]
  },
  {
   "cell_type": "code",
   "execution_count": null,
   "id": "242887a0",
   "metadata": {},
   "outputs": [],
   "source": []
  },
  {
   "cell_type": "markdown",
   "id": "92ec8c80",
   "metadata": {},
   "source": [
    "## LE FUNZIONI"
   ]
  },
  {
   "cell_type": "markdown",
   "id": "3980b743",
   "metadata": {},
   "source": [
    "Vediamo alcune funzioni predefinite di Python"
   ]
  },
  {
   "cell_type": "code",
   "execution_count": 15,
   "id": "69ee80e8",
   "metadata": {},
   "outputs": [
    {
     "data": {
      "text/plain": [
       "23"
      ]
     },
     "execution_count": 15,
     "metadata": {},
     "output_type": "execute_result"
    }
   ],
   "source": [
    "a = [5,8,4,5,6,7,8,9,2.6,23,-18.2]\n",
    "max(a) # estrae il massimo tra alcuni numeri"
   ]
  },
  {
   "cell_type": "code",
   "execution_count": 2,
   "id": "056c03ff",
   "metadata": {},
   "outputs": [
    {
     "data": {
      "text/plain": [
       "26"
      ]
     },
     "execution_count": 2,
     "metadata": {},
     "output_type": "execute_result"
    }
   ],
   "source": [
    "len(\"precipitevolissimevolmente\") # estrae il numero di caratteri"
   ]
  },
  {
   "cell_type": "code",
   "execution_count": 4,
   "id": "09090f07",
   "metadata": {},
   "outputs": [
    {
     "data": {
      "text/plain": [
       "3"
      ]
     },
     "execution_count": 4,
     "metadata": {},
     "output_type": "execute_result"
    }
   ],
   "source": [
    "# le funzioni si possono comporre \n",
    "max(len(\"zio\"), -2)"
   ]
  },
  {
   "cell_type": "code",
   "execution_count": 16,
   "id": "f3ec95ff",
   "metadata": {},
   "outputs": [
    {
     "data": {
      "text/plain": [
       "[5, 8, 4, 5, 6, 7, 8, 9, 2.6, 23, -18.2]"
      ]
     },
     "execution_count": 16,
     "metadata": {},
     "output_type": "execute_result"
    }
   ],
   "source": [
    "a   # stampa il contenuto di a"
   ]
  },
  {
   "cell_type": "code",
   "execution_count": 17,
   "id": "28b3f89b",
   "metadata": {},
   "outputs": [
    {
     "name": "stdout",
     "output_type": "stream",
     "text": [
      "[-18.2, 2.6, 4, 5, 5, 6, 7, 8, 8, 9, 23]\n"
     ]
    }
   ],
   "source": [
    "a.sort()     # ordiniamo a\n",
    "print(a)"
   ]
  },
  {
   "cell_type": "code",
   "execution_count": null,
   "id": "9a41677a",
   "metadata": {},
   "outputs": [],
   "source": []
  },
  {
   "cell_type": "code",
   "execution_count": 25,
   "id": "a8a758a9",
   "metadata": {},
   "outputs": [],
   "source": [
    "# proviamo a definire una nostra funzione f(x) = 2 * x\n",
    "def f(x):\n",
    "    y = 2 * x\n",
    "    return y"
   ]
  },
  {
   "cell_type": "code",
   "execution_count": 22,
   "id": "1e80e48b",
   "metadata": {},
   "outputs": [
    {
     "data": {
      "text/plain": [
       "14"
      ]
     },
     "execution_count": 22,
     "metadata": {},
     "output_type": "execute_result"
    }
   ],
   "source": [
    "f(7)"
   ]
  },
  {
   "cell_type": "code",
   "execution_count": 29,
   "id": "9dad475b",
   "metadata": {},
   "outputs": [],
   "source": [
    "# definiamo una funzioni in più variabili\n",
    "def g(x,y):\n",
    "    z = 2 * x-3 *y\n",
    "    return z"
   ]
  },
  {
   "cell_type": "code",
   "execution_count": 30,
   "id": "cf5e6c38",
   "metadata": {},
   "outputs": [
    {
     "name": "stdout",
     "output_type": "stream",
     "text": [
      "-400\n"
     ]
    }
   ],
   "source": [
    "# possiamo utilizzare le funzioni per calcoli più complessi\n",
    "x=10;y=20;z=5\n",
    "c=g(x,y)*f(z)\n",
    "print(c)"
   ]
  },
  {
   "cell_type": "code",
   "execution_count": 62,
   "id": "c9213d2d",
   "metadata": {},
   "outputs": [],
   "source": [
    "# definiamo la funzione fattoriale 4! = 4*3*2*1 - 0! = 1\n",
    "def fattoriale1 (n):\n",
    "    fact = 1\n",
    "    for i in range(1,n): # genera un iteratore da 1 a n-1\n",
    "        #print(i)\n",
    "        fact = fact*(i+1)\n",
    "    return fact"
   ]
  },
  {
   "cell_type": "code",
   "execution_count": 63,
   "id": "96c99052",
   "metadata": {},
   "outputs": [
    {
     "data": {
      "text/plain": [
       "24"
      ]
     },
     "execution_count": 63,
     "metadata": {},
     "output_type": "execute_result"
    }
   ],
   "source": [
    "fattoriale1(4)"
   ]
  },
  {
   "cell_type": "markdown",
   "id": "71a41283",
   "metadata": {},
   "source": [
    "# PER I PIÙ SMART POSSIAMO USARE LA PROGRAMMAZIONE FUNZIONALE\n"
   ]
  },
  {
   "cell_type": "code",
   "execution_count": 175,
   "id": "387ca159",
   "metadata": {},
   "outputs": [],
   "source": [
    "def fattoriale2(n):\n",
    "    if n == 0:\n",
    "        fact = 1\n",
    "    else:\n",
    "        fact = n*fattoriale2(n-1)\n",
    "    return fact    "
   ]
  },
  {
   "cell_type": "code",
   "execution_count": 176,
   "id": "9785486c",
   "metadata": {},
   "outputs": [
    {
     "data": {
      "text/plain": [
       "24"
      ]
     },
     "execution_count": 176,
     "metadata": {},
     "output_type": "execute_result"
    }
   ],
   "source": [
    "fattoriale2(4)"
   ]
  },
  {
   "cell_type": "markdown",
   "id": "7695addb",
   "metadata": {},
   "source": [
    "# ORA PROVA TU"
   ]
  },
  {
   "cell_type": "markdown",
   "id": "41b333b8",
   "metadata": {},
   "source": [
    "crea la funzione $f(x)=2*x^2$ e la funzione $g(x) = -1/sin(x)$ e poi calcola i valori della funzione ,$h(x) = g(f(x))$,\n",
    "e della funzione $s(x) = f(g(x))$"
   ]
  },
  {
   "cell_type": "code",
   "execution_count": null,
   "id": "141d8a81",
   "metadata": {},
   "outputs": [],
   "source": []
  },
  {
   "cell_type": "markdown",
   "id": "50eaf80e",
   "metadata": {},
   "source": [
    "# I VETTORI"
   ]
  },
  {
   "cell_type": "code",
   "execution_count": 82,
   "id": "d0ec3ab3",
   "metadata": {},
   "outputs": [],
   "source": [
    "import numpy as np"
   ]
  },
  {
   "cell_type": "code",
   "execution_count": 86,
   "id": "5a662e15",
   "metadata": {},
   "outputs": [],
   "source": [
    "# creiamo un vettore di dimensione 2\n",
    "x = np.array([2,3])"
   ]
  },
  {
   "cell_type": "code",
   "execution_count": 87,
   "id": "9a0c901c",
   "metadata": {},
   "outputs": [
    {
     "data": {
      "text/plain": [
       "array([2, 3])"
      ]
     },
     "execution_count": 87,
     "metadata": {},
     "output_type": "execute_result"
    }
   ],
   "source": [
    "x"
   ]
  },
  {
   "cell_type": "code",
   "execution_count": 123,
   "id": "70b6babc",
   "metadata": {},
   "outputs": [
    {
     "name": "stdout",
     "output_type": "stream",
     "text": [
      "[2 1] [-1  1]\n"
     ]
    }
   ],
   "source": [
    "# creaiamo due vettori\n",
    "v1 = np.array([2,1])\n",
    "v2 = np.array([-1,1])\n",
    "print(v1,v2)\n"
   ]
  },
  {
   "cell_type": "code",
   "execution_count": 111,
   "id": "5d6ec7b1",
   "metadata": {},
   "outputs": [
    {
     "data": {
      "image/png": "[encoded data removed]",
      "text/plain": [
       "<Figure size 432x288 with 1 Axes>"
      ]
     },
     "metadata": {
      "needs_background": "light"
     },
     "output_type": "display_data"
    }
   ],
   "source": [
    "# disegnamo i due vettori\n",
    "import matplotlib.pyplot as plt\n",
    "\n",
    "origin = np.array([0, 0]) # componente x e y del vettore nullo\n",
    "\n",
    "plt.quiver([0],[0], v1[0], v1[1], color=['b'], scale=5)\n",
    "plt.quiver([0],[0], v2[0], v2[1], color=['r'], scale=5)\n",
    "plt.show()"
   ]
  },
  {
   "cell_type": "code",
   "execution_count": 107,
   "id": "2a16b24e",
   "metadata": {},
   "outputs": [
    {
     "data": {
      "text/plain": [
       "array([1, 2])"
      ]
     },
     "execution_count": 107,
     "metadata": {},
     "output_type": "execute_result"
    }
   ],
   "source": [
    "# sommiamo i due vettori\n",
    "v3 = v1 + v2\n",
    "v3"
   ]
  },
  {
   "cell_type": "code",
   "execution_count": 117,
   "id": "e7b1eb45",
   "metadata": {},
   "outputs": [
    {
     "data": {
      "image/png": "[encoded data removed]",
      "text/plain": [
       "<Figure size 432x288 with 1 Axes>"
      ]
     },
     "metadata": {
      "needs_background": "light"
     },
     "output_type": "display_data"
    }
   ],
   "source": [
    "origin = np.array([0, 0]) # componente x e y del vettore nullo\n",
    "\n",
    "plt.quiver([0],[0], v1[0], v1[1], color=['b'], scale=7)\n",
    "plt.quiver([0],[0], v2[0], v2[1], color=['r'], scale=7)\n",
    "plt.quiver([0],[0], v3[0], v3[1], color=['r'], scale=7)\n",
    "\n",
    "plt.show()"
   ]
  },
  {
   "cell_type": "markdown",
   "id": "d720c7d0",
   "metadata": {},
   "source": [
    "# ORA PROVA TU"
   ]
  },
  {
   "cell_type": "markdown",
   "id": "55084b20",
   "metadata": {},
   "source": [
    "Crea qualche vettore e fai il plot della differenza"
   ]
  },
  {
   "cell_type": "code",
   "execution_count": null,
   "id": "229784e8",
   "metadata": {},
   "outputs": [],
   "source": []
  },
  {
   "cell_type": "markdown",
   "id": "057a4181",
   "metadata": {},
   "source": [
    "# PLOTTING DI FUNZIONI"
   ]
  },
  {
   "cell_type": "code",
   "execution_count": 125,
   "id": "1b56948e",
   "metadata": {},
   "outputs": [],
   "source": [
    "# definiamo una funzione\n",
    "def line (x, m,q):   # m coeff angolare, q intercetta\n",
    "    y = m*x + q\n",
    "    return y"
   ]
  },
  {
   "cell_type": "code",
   "execution_count": 129,
   "id": "db7d74d3",
   "metadata": {},
   "outputs": [
    {
     "data": {
      "text/plain": [
       "array([-10.        ,  -9.7979798 ,  -9.5959596 ,  -9.39393939,\n",
       "        -9.19191919,  -8.98989899,  -8.78787879,  -8.58585859,\n",
       "        -8.38383838,  -8.18181818,  -7.97979798,  -7.77777778,\n",
       "        -7.57575758,  -7.37373737,  -7.17171717,  -6.96969697,\n",
       "        -6.76767677,  -6.56565657,  -6.36363636,  -6.16161616,\n",
       "        -5.95959596,  -5.75757576,  -5.55555556,  -5.35353535,\n",
       "        -5.15151515,  -4.94949495,  -4.74747475,  -4.54545455,\n",
       "        -4.34343434,  -4.14141414,  -3.93939394,  -3.73737374,\n",
       "        -3.53535354,  -3.33333333,  -3.13131313,  -2.92929293,\n",
       "        -2.72727273,  -2.52525253,  -2.32323232,  -2.12121212,\n",
       "        -1.91919192,  -1.71717172,  -1.51515152,  -1.31313131,\n",
       "        -1.11111111,  -0.90909091,  -0.70707071,  -0.50505051,\n",
       "        -0.3030303 ,  -0.1010101 ,   0.1010101 ,   0.3030303 ,\n",
       "         0.50505051,   0.70707071,   0.90909091,   1.11111111,\n",
       "         1.31313131,   1.51515152,   1.71717172,   1.91919192,\n",
       "         2.12121212,   2.32323232,   2.52525253,   2.72727273,\n",
       "         2.92929293,   3.13131313,   3.33333333,   3.53535354,\n",
       "         3.73737374,   3.93939394,   4.14141414,   4.34343434,\n",
       "         4.54545455,   4.74747475,   4.94949495,   5.15151515,\n",
       "         5.35353535,   5.55555556,   5.75757576,   5.95959596,\n",
       "         6.16161616,   6.36363636,   6.56565657,   6.76767677,\n",
       "         6.96969697,   7.17171717,   7.37373737,   7.57575758,\n",
       "         7.77777778,   7.97979798,   8.18181818,   8.38383838,\n",
       "         8.58585859,   8.78787879,   8.98989899,   9.19191919,\n",
       "         9.39393939,   9.5959596 ,   9.7979798 ,  10.        ])"
      ]
     },
     "execution_count": 129,
     "metadata": {},
     "output_type": "execute_result"
    }
   ],
   "source": [
    "# creiamo un range di 100 punti tra -10 e 10. sono i valori di x\n",
    "x = np.linspace(-10,10,100)\n",
    "x"
   ]
  },
  {
   "cell_type": "code",
   "execution_count": 161,
   "id": "0c181dfd",
   "metadata": {},
   "outputs": [
    {
     "data": {
      "text/plain": [
       "array([-1.90000000e+01, -1.85959596e+01, -1.81919192e+01, -1.77878788e+01,\n",
       "       -1.73838384e+01, -1.69797980e+01, -1.65757576e+01, -1.61717172e+01,\n",
       "       -1.57676768e+01, -1.53636364e+01, -1.49595960e+01, -1.45555556e+01,\n",
       "       -1.41515152e+01, -1.37474747e+01, -1.33434343e+01, -1.29393939e+01,\n",
       "       -1.25353535e+01, -1.21313131e+01, -1.17272727e+01, -1.13232323e+01,\n",
       "       -1.09191919e+01, -1.05151515e+01, -1.01111111e+01, -9.70707071e+00,\n",
       "       -9.30303030e+00, -8.89898990e+00, -8.49494949e+00, -8.09090909e+00,\n",
       "       -7.68686869e+00, -7.28282828e+00, -6.87878788e+00, -6.47474747e+00,\n",
       "       -6.07070707e+00, -5.66666667e+00, -5.26262626e+00, -4.85858586e+00,\n",
       "       -4.45454545e+00, -4.05050505e+00, -3.64646465e+00, -3.24242424e+00,\n",
       "       -2.83838384e+00, -2.43434343e+00, -2.03030303e+00, -1.62626263e+00,\n",
       "       -1.22222222e+00, -8.18181818e-01, -4.14141414e-01, -1.01010101e-02,\n",
       "        3.93939394e-01,  7.97979798e-01,  1.20202020e+00,  1.60606061e+00,\n",
       "        2.01010101e+00,  2.41414141e+00,  2.81818182e+00,  3.22222222e+00,\n",
       "        3.62626263e+00,  4.03030303e+00,  4.43434343e+00,  4.83838384e+00,\n",
       "        5.24242424e+00,  5.64646465e+00,  6.05050505e+00,  6.45454545e+00,\n",
       "        6.85858586e+00,  7.26262626e+00,  7.66666667e+00,  8.07070707e+00,\n",
       "        8.47474747e+00,  8.87878788e+00,  9.28282828e+00,  9.68686869e+00,\n",
       "        1.00909091e+01,  1.04949495e+01,  1.08989899e+01,  1.13030303e+01,\n",
       "        1.17070707e+01,  1.21111111e+01,  1.25151515e+01,  1.29191919e+01,\n",
       "        1.33232323e+01,  1.37272727e+01,  1.41313131e+01,  1.45353535e+01,\n",
       "        1.49393939e+01,  1.53434343e+01,  1.57474747e+01,  1.61515152e+01,\n",
       "        1.65555556e+01,  1.69595960e+01,  1.73636364e+01,  1.77676768e+01,\n",
       "        1.81717172e+01,  1.85757576e+01,  1.89797980e+01,  1.93838384e+01,\n",
       "        1.97878788e+01,  2.01919192e+01,  2.05959596e+01,  2.10000000e+01])"
      ]
     },
     "execution_count": 161,
     "metadata": {},
     "output_type": "execute_result"
    }
   ],
   "source": [
    "# calcoliamo i corrispondenti valori di y\n",
    "m = 2  # setto un coefficiente angolare\n",
    "q = 1 # setto un'intercetta\n",
    "y1 = line (x,m,q)\n",
    "y1"
   ]
  },
  {
   "cell_type": "code",
   "execution_count": 162,
   "id": "bb256ff8",
   "metadata": {},
   "outputs": [
    {
     "data": {
      "text/plain": [
       "[<matplotlib.lines.Line2D at 0x7fe570203b20>]"
      ]
     },
     "execution_count": 162,
     "metadata": {},
     "output_type": "execute_result"
    },
    {
     "data": {
      "image/png": "[encoded data removed]",
      "text/plain": [
       "<Figure size 432x288 with 1 Axes>"
      ]
     },
     "metadata": {
      "needs_background": "light"
     },
     "output_type": "display_data"
    }
   ],
   "source": [
    "plt.plot(x,y1)"
   ]
  },
  {
   "cell_type": "code",
   "execution_count": 140,
   "id": "7636a594",
   "metadata": {},
   "outputs": [
    {
     "data": {
      "text/plain": [
       "array([1.00000000e+02, 9.60004081e+01, 9.20824406e+01, 8.82460973e+01,\n",
       "       8.44913784e+01, 8.08182838e+01, 7.72268136e+01, 7.37169677e+01,\n",
       "       7.02887460e+01, 6.69421488e+01, 6.36771758e+01, 6.04938272e+01,\n",
       "       5.73921028e+01, 5.43720029e+01, 5.14335272e+01, 4.85766758e+01,\n",
       "       4.58014488e+01, 4.31078461e+01, 4.04958678e+01, 3.79655137e+01,\n",
       "       3.55167840e+01, 3.31496786e+01, 3.08641975e+01, 2.86603408e+01,\n",
       "       2.65381084e+01, 2.44975003e+01, 2.25385165e+01, 2.06611570e+01,\n",
       "       1.88654219e+01, 1.71513111e+01, 1.55188246e+01, 1.39679625e+01,\n",
       "       1.24987246e+01, 1.11111111e+01, 9.80512193e+00, 8.58075707e+00,\n",
       "       7.43801653e+00, 6.37690032e+00, 5.39740843e+00, 4.49954086e+00,\n",
       "       3.68329762e+00, 2.94867871e+00, 2.29568411e+00, 1.72431385e+00,\n",
       "       1.23456790e+00, 8.26446281e-01, 4.99948985e-01, 2.55076013e-01,\n",
       "       9.18273646e-02, 1.02030405e-02, 1.02030405e-02, 9.18273646e-02,\n",
       "       2.55076013e-01, 4.99948985e-01, 8.26446281e-01, 1.23456790e+00,\n",
       "       1.72431385e+00, 2.29568411e+00, 2.94867871e+00, 3.68329762e+00,\n",
       "       4.49954086e+00, 5.39740843e+00, 6.37690032e+00, 7.43801653e+00,\n",
       "       8.58075707e+00, 9.80512193e+00, 1.11111111e+01, 1.24987246e+01,\n",
       "       1.39679625e+01, 1.55188246e+01, 1.71513111e+01, 1.88654219e+01,\n",
       "       2.06611570e+01, 2.25385165e+01, 2.44975003e+01, 2.65381084e+01,\n",
       "       2.86603408e+01, 3.08641975e+01, 3.31496786e+01, 3.55167840e+01,\n",
       "       3.79655137e+01, 4.04958678e+01, 4.31078461e+01, 4.58014488e+01,\n",
       "       4.85766758e+01, 5.14335272e+01, 5.43720029e+01, 5.73921028e+01,\n",
       "       6.04938272e+01, 6.36771758e+01, 6.69421488e+01, 7.02887460e+01,\n",
       "       7.37169677e+01, 7.72268136e+01, 8.08182838e+01, 8.44913784e+01,\n",
       "       8.82460973e+01, 9.20824406e+01, 9.60004081e+01, 1.00000000e+02])"
      ]
     },
     "execution_count": 140,
     "metadata": {},
     "output_type": "execute_result"
    }
   ],
   "source": [
    "x**2"
   ]
  },
  {
   "cell_type": "code",
   "execution_count": 163,
   "id": "45331e60",
   "metadata": {},
   "outputs": [],
   "source": [
    "def curve(x):\n",
    "    y = x**2 - 2*x -2\n",
    "    #y = np.sin(x)\n",
    "    #y = np.sin(x)*np.exp(-0.05*x)\n",
    "    return y"
   ]
  },
  {
   "cell_type": "code",
   "execution_count": 165,
   "id": "f6e94775",
   "metadata": {},
   "outputs": [
    {
     "data": {
      "text/plain": [
       "[<matplotlib.lines.Line2D at 0x7fe56fd94a00>]"
      ]
     },
     "execution_count": 165,
     "metadata": {},
     "output_type": "execute_result"
    },
    {
     "data": {
      "image/png": "[encoded data removed]",
      "text/plain": [
       "<Figure size 432x288 with 1 Axes>"
      ]
     },
     "metadata": {
      "needs_background": "light"
     },
     "output_type": "display_data"
    }
   ],
   "source": [
    "y2 = curve(x)\n",
    "plt.plot(x, y2)"
   ]
  },
  {
   "cell_type": "markdown",
   "id": "2db31618",
   "metadata": {},
   "source": [
    "# ORA PROVA TU"
   ]
  },
  {
   "cell_type": "markdown",
   "id": "25f03dc6",
   "metadata": {},
   "source": [
    "Crea la funzione y=x^3*sin(x) e rappresentala graficamente"
   ]
  },
  {
   "cell_type": "code",
   "execution_count": null,
   "id": "91b1e089",
   "metadata": {},
   "outputs": [],
   "source": []
  },
  {
   "cell_type": "markdown",
   "id": "1164747d",
   "metadata": {},
   "source": [
    "# RISOLVIAMO GRAFICAMENTE UN'EQUAZIONE"
   ]
  },
  {
   "cell_type": "code",
   "execution_count": 168,
   "id": "d683af72",
   "metadata": {},
   "outputs": [
    {
     "data": {
      "text/plain": [
       "[<matplotlib.lines.Line2D at 0x7fe56fcc4ca0>]"
      ]
     },
     "execution_count": 168,
     "metadata": {},
     "output_type": "execute_result"
    },
    {
     "data": {
      "image/png": "[encoded data removed]",
      "text/plain": [
       "<Figure size 432x288 with 1 Axes>"
      ]
     },
     "metadata": {
      "needs_background": "light"
     },
     "output_type": "display_data"
    }
   ],
   "source": [
    "# soluzione equazione x**2 - 2*x -2 - mx - q = 0\n",
    "# x**2 - 2*x -2 = mx + q \n",
    "\n",
    "plt.plot(x, y1)\n",
    "plt.plot(x, y2)"
   ]
  },
  {
   "cell_type": "code",
   "execution_count": null,
   "id": "f85c9fe3",
   "metadata": {},
   "outputs": [],
   "source": []
  }
 ],
 "metadata": {
  "kernelspec": {
   "display_name": "Python 3 (ipykernel)",
   "language": "python",
   "name": "python3"
  },
  "language_info": {
   "codemirror_mode": {
    "name": "ipython",
    "version": 3
   },
   "file_extension": ".py",
   "mimetype": "text/x-python",
   "name": "python",
   "nbconvert_exporter": "python",
   "pygments_lexer": "ipython3",
   "version": "3.9.12"
  },
  "varInspector": {
   "cols": {
    "lenName": 16,
    "lenType": 16,
    "lenVar": 40
   },
   "kernels_config": {
    "python": {
     "delete_cmd_postfix": "",
     "delete_cmd_prefix": "del ",
     "library": "var_list.py",
     "varRefreshCmd": "print(var_dic_list())"
    },
    "r": {
     "delete_cmd_postfix": ") ",
     "delete_cmd_prefix": "rm(",
     "library": "var_list.r",
     "varRefreshCmd": "cat(var_dic_list()) "
    }
   },
   "types_to_exclude": [
    "module",
    "function",
    "builtin_function_or_method",
    "instance",
    "_Feature"
   ],
   "window_display": false
  }
 },
 "nbformat": 4,
 "nbformat_minor": 5
}
