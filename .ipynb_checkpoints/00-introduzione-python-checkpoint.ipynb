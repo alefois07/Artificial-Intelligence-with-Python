{
 "cells": [
  {
   "cell_type": "markdown",
   "metadata": {},
   "source": [
    "<!--NAVIGATION-->\n",
    "| [Contenuti](Indice.ipynb) | [Come eseguire il codice Python](01-How-to-Run-Python-Code.ipynb) >"
   ]
  },
  {
   "cell_type": "markdown",
   "metadata": {},
   "source": [
    "<!--BOOK_INFORMATION-->\n",
    "<img align=\"left\" style=\"padding-right:10px;\" src=\"fig/cover-small.jpg\">\n",
    "*Questo notebook contiene un estratto del libro [Whirlwind Tour of Python](http://www.oreilly.com/programming/free/a-whirlwind-tour-of-python.csp) di Jake VanderPlas; il contenuto è disponibile [su GitHub](https://github.com/jakevdp/WhirlwindTourOfPython).*\n",
    "\n",
    "*Il testo e il codice sono rilasciati sotto licenza [CC0](https://github.com/jakevdp/WhirlwindTourOfPython/blob/master/LICENSE); vedi anche il progetto compagno, [Python Data Science Handbook](https://github.com/jakevdp/PythonDataScienceHandbook).*\n"
   ]
  },
  {
   "cell_type": "markdown",
   "metadata": {},
   "source": [
    "# 1. Il linguaggio Python"
   ]
  },
  {
   "cell_type": "markdown",
   "metadata": {},
   "source": [
    "Concepito alla fine degli anni '80 come linguaggio di insegnamento e scripting, Python è diventato da allora uno strumento essenziale per molti programmatori, ingegneri, ricercatori e data scientist nel mondo accademico e industriale. In qualità di astronomo concentrato sulla creazione e promozione di strumenti open source per il data science, ho scoperto che Python si adatta quasi perfettamente ai tipi di problemi che affronto quotidianamente, sia che si tratti di estrarre significato da grandi set di dati astronomici, sia ricercando dati dal Web o automatizzando le attività di ricerca quotidiane.\n",
    "\n",
    "Il fascino di Python sta nella sua semplicità e bellezza, così come nella comodità del vasto ecosistema di strumenti specifici che sono stati costruiti su di esso. Ad esempio, la maggior parte del codice Python nel calcolo scientifico e nella scienza dei dati è costruito attorno a un gruppo di pacchetti ormai consolidati quali:\n",
    "\n",
    "- [NumPy](http://numpy.org) fornisce tool di archiviazione e calcolo efficienti per array di dati multidimensionali.\n",
    "- [SciPy](http://scipy.org) contiene una vasta gamma di strumenti numerici come l'integrazione numerica e l'interpolazione.\n",
    "- [Pandas](http://pandas.pydata.org)  fornisce un oggetto DataFrame insieme a un potente set di metodi per manipolare, filtrare, raggruppare e trasformare i dati.\n",
    "- [Matplotlib](http://matplotlib.org) fornisce un'interfaccia utile per la creazione di grafici e figure di qualità, da pubblicazione.\n",
    "- [Scikit-Learn](http://scikit-learn.org) fornisce un toolkit uniforme per l'applicazione di comuni algoritmi di machine learning ai dati.\n",
    "- [IPython/Jupyter](http://jupyter.org) fornisce un terminale avanzato e un ambiente notebook interattivo utile per l'analisi esplorativa, nonché per la creazione di documenti eseguibili interattivi. Ad esempio, il manoscritto di questo rapporto è stato composto interamente con i quaderni di Jupyter.\n",
    "\n",
    "Non meno importanti sono i numerosi altri strumenti e pacchetti che li accompagnano: se c'è un compito scientifico o di analisi dei dati che vuoi eseguire, è probabile che qualcuno abbia scritto un pacchetto che lo farà per te.\n",
    "\n",
    "Per sfruttare la potenza di questo ecosistema di data science, tuttavia, è necessario aquisire prima familiarità con il linguaggio Python. Mi capita spesso di incontrare studenti e colleghi che hanno una (a volte vasta) esperienza nell'informatica in qualche linguaggio – MATLAB, IDL, R, Java, C++, ecc. – e sono alla ricerca di un breve ma completo tour del linguaggio Python che rispetti il loro livello di conoscenza piuttosto che partire da zero. Questa relazione cerca di riempire quella nicchia.\n",
    "\n",
    "In quanto tale, questo rapporto non vuole in alcun modo essere un'introduzione completa alla programmazione o un'introduzione completa al linguaggio Python stesso; se è quello che stai cercando, puoi dare un'occhiata a uno dei riferimenti consigliati elencati in \n",
    "[Risorse per l'apprendimento](16-Further-Resources.ipynb).Invece, questo fornirà un tour vorticoso di alcune delle sintassi e semantiche essenziali di Python, tipi e strutture di dati incorporati, definizioni di funzioni, istruzioni del flusso di controllo e altri aspetti del linguaggio. Il mio obiettivo è che i lettori se ne vadano con una solida base da cui partire per esplorare lo stack di data science appena delineato.\n"
   ]
  },
  {
   "cell_type": "markdown",
   "metadata": {},
   "source": [
    "## Installazione e considerazioni pratiche\n",
    "\n",
    "L'installazione di Python e della suite di librerie che consentono il calcolo scientifico è semplice sia che utilizzi Windows, Linux o Mac OS X. Questa sezione illustrerà alcune delle considerazioni durante la configurazione del computer."
   ]
  },
  {
   "cell_type": "markdown",
   "metadata": {},
   "source": [
    "### Python 2 contro Python 3\n",
    "\n",
    "Questo corso utilizza la sintassi di Python 3, che contiene miglioramenti del linguaggio non compatibili con la serie *2.x* di Python.\n",
    "Sebbene Python 3.0 sia stato rilasciato per la prima volta nel 2008, l'adozione è stata relativamente lenta, in particolare nelle comunità scientifiche e di sviluppo web.\n",
    "Ciò è principalmente dovuto al fatto che ci è voluto del tempo prima che molti dei pacchetti e dei toolkit essenziali fossero resi compatibili con i nuovi linguaggi interni.\n",
    "Dall'inizio del 2014, tuttavia, le versioni stabili degli strumenti più importanti nell'ecosistema della scienza dei dati sono state pienamente compatibili sia con Python 2 che con 3, quindi questo corso utilizzerà la più recente sintassi di Python 3."
   ]
  },
  {
   "cell_type": "markdown",
   "metadata": {},
   "source": [
    "### Installazione con conda\n",
    "\n",
    "Sebbene ci siano vari modi per installare Python, quello che suggerisco, in particolare se desideri eventualmente utilizzare gli strumenti di data science sopra menzionati, è tramite la distribuzione Anaconda multipiattaforma.\n",
    "Ci sono due versioni della distribuzione Anaconda:\n",
    "\n",
    "- [Miniconda](http://conda.pydata.org/miniconda.html) fornisce l'interprete Python stesso, insieme a uno strumento da riga di comando chiamato ``conda`` che funziona come un gestore di pacchetti multipiattaforma orientato a Python pacchetti, simili nello spirito agli strumenti ``apt`` o ``yum`` con cui gli utenti Linux potrebbero avere familiarità.\n",
    "- [Anaconda](https://www.continuum.io/downloads) include sia Python che ``conda``, e raggruppa inoltre una suite di altri pacchetti preinstallati orientati al calcolo scientifico.\n",
    "\n",
    "Tutti i pacchetti inclusi in Anaconda possono anche essere installati manualmente su Miniconda; per questo suggerisco di iniziare con Miniconda.\n"
   ]
  },
  {
   "cell_type": "markdown",
   "metadata": {},
   "source": [
    "<!--NAVIGATION-->\n",
    "| [Contenuti](Indice.ipynb) | [Come eseguire il codice Python](01-How-to-Run-Python-Code.ipynb) >"
   ]
  }
 ],
 "metadata": {
  "anaconda-cloud": {},
  "kernelspec": {
   "display_name": "Python 3 (ipykernel)",
   "language": "python",
   "name": "python3"
  },
  "language_info": {
   "codemirror_mode": {
    "name": "ipython",
    "version": 3
   },
   "file_extension": ".py",
   "mimetype": "text/x-python",
   "name": "python",
   "nbconvert_exporter": "python",
   "pygments_lexer": "ipython3",
   "version": "3.9.12"
  },
  "varInspector": {
   "cols": {
    "lenName": 16,
    "lenType": 16,
    "lenVar": 40
   },
   "kernels_config": {
    "python": {
     "delete_cmd_postfix": "",
     "delete_cmd_prefix": "del ",
     "library": "var_list.py",
     "varRefreshCmd": "print(var_dic_list())"
    },
    "r": {
     "delete_cmd_postfix": ") ",
     "delete_cmd_prefix": "rm(",
     "library": "var_list.r",
     "varRefreshCmd": "cat(var_dic_list()) "
    }
   },
   "types_to_exclude": [
    "module",
    "function",
    "builtin_function_or_method",
    "instance",
    "_Feature"
   ],
   "window_display": false
  }
 },
 "nbformat": 4,
 "nbformat_minor": 1
}
