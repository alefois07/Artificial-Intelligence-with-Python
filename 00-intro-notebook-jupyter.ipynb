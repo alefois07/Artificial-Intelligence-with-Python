{
 "cells": [
  {
   "cell_type": "markdown",
   "metadata": {},
   "source": [
    "<!--NAVIGATION-->\n",
    "| [Contenuti](Index.ipynb) | [Come eseguire il codice Python](01-How-to-Run-Python-Code.ipynb) >"
   ]
  },
  {
   "cell_type": "markdown",
   "metadata": {},
   "source": [
    "# 1. Introduzione"
   ]
  },
  {
   "cell_type": "markdown",
   "metadata": {},
   "source": [
    "Concepito alla fine degli anni '80 come linguaggio di insegnamento e scripting, Python è diventato da allora uno strumento essenziale per molti programmatori, ingegneri, ricercatori e data scientist nel mondo accademico e industriale. In qualità di astronomo concentrato sulla creazione e promozione di strumenti open source per il data science, ho scoperto che Python si adatta quasi perfettamente ai tipi di problemi che affronto quotidianamente, sia che si tratti di estrarre significato da grandi set di dati astronomici, sia ricercando dati dal Web o automatizzando le attività di ricerca quotidiane.\n",
    "\n",
    "Il fascino di Python sta nella sua semplicità e bellezza, così come nella comodità del vasto ecosistema di strumenti specifici che sono stati costruiti su di esso. Ad esempio, la maggior parte del codice Python nel calcolo scientifico e nella scienza dei dati è costruito attorno a un gruppo di pacchetti ormai consolidati quali:\n",
    "\n",
    "- [NumPy](http://numpy.org) fornisce tool di archiviazione e calcolo efficienti per array di dati multidimensionali.\n",
    "- [SciPy](http://scipy.org) contiene una vasta gamma di strumenti numerici come l'integrazione numerica e l'interpolazione.\n",
    "- [Pandas](http://pandas.pydata.org)  fornisce un oggetto DataFrame insieme a un potente set di metodi per manipolare, filtrare, raggruppare e trasformare i dati.\n",
    "- [Matplotlib](http://matplotlib.org) fornisce un'interfaccia utile per la creazione di grafici e figure di qualità, da pubblicazione.\n",
    "- [Scikit-Learn](http://scikit-learn.org) fornisce un toolkit uniforme per l'applicazione di comuni algoritmi di machine learning ai dati.\n",
    "- [IPython/Jupyter](http://jupyter.org) fornisce un terminale avanzato e un ambiente notebook interattivo utile per l'analisi esplorativa, nonché per la creazione di documenti eseguibili interattivi. Ad esempio, il manoscritto di questo rapporto è stato composto interamente con i quaderni di Jupyter.\n",
    "\n",
    "Non meno importanti sono i numerosi altri strumenti e pacchetti che li accompagnano: se c'è un compito scientifico o di analisi dei dati che vuoi eseguire, è probabile che qualcuno abbia scritto un pacchetto che lo farà per te.\n",
    "\n",
    "Per sfruttare la potenza di questo ecosistema di data science, tuttavia, è necessario aquisire prima familiarità con il linguaggio Python. Mi capita spesso di incontrare studenti e colleghi che hanno una (a volte vasta) esperienza nell'informatica in qualche linguaggio – MATLAB, IDL, R, Java, C++, ecc. – e sono alla ricerca di un breve ma completo tour del linguaggio Python che rispetti il loro livello di conoscenza piuttosto che partire da zero. Questa relazione cerca di riempire quella nicchia.\n",
    "\n",
    "In quanto tale, questo rapporto non vuole in alcun modo essere un'introduzione completa alla programmazione o un'introduzione completa al linguaggio Python stesso; se è quello che stai cercando, puoi dare un'occhiata a uno dei riferimenti consigliati elencati in \n",
    "[Risorse per l'apprendimento](16-Further-Resources.ipynb).Invece, questo fornirà un tour vorticoso di alcune delle sintassi e semantiche essenziali di Python, tipi e strutture di dati incorporati, definizioni di funzioni, istruzioni del flusso di controllo e altri aspetti del linguaggio. Il mio obiettivo è che i lettori se ne vadano con una solida base da cui partire per esplorare lo stack di data science appena delineato.\n"
   ]
  },
  {
   "cell_type": "markdown",
   "metadata": {},
   "source": [
    "## Using Code Examples\n",
    "\n",
    "Supplemental material (code examples, exercises, etc.) is available for download at https://github.com/jakevdp/WhirlwindTourOfPython/.\n",
    "This book is here to help you get your job done.\n",
    "In general, if example code is offered with this book, you may use it in your programs and documentation.\n",
    "You do not need to contact us for permission unless you’re reproducing a significant portion of the code.\n",
    "For example, writing a program that uses several chunks of code from this book does not require permission.\n",
    "Selling or distributing a CD-ROM of examples from O’Reilly books does require permission.\n",
    "Answering a question by citing this book and quoting example code does not require permission.\n",
    "Incorporating a significant amount of example code from this book into your product’s documentation does require permission.\n",
    "\n",
    "We appreciate, but do not require, attribution.\n",
    "An attribution usually includes the title, author, publisher, and ISBN.\n",
    "For example: \"A Whirlwind Tour of Python by Jake VanderPlas (O’Reilly). Copyright 2016 O’Reilly Media, Inc., 978-1-491-96465-1.\"\n",
    "\n",
    "If you feel your use of code examples falls outside fair use or the per‐ mission given above, feel free to contact us at permissions@oreilly.com."
   ]
  },
  {
   "cell_type": "markdown",
   "metadata": {},
   "source": [
    "## Installation and Practical Considerations\n",
    "\n",
    "Installing Python and the suite of libraries that enable scientific computing is straightforward whether you use Windows, Linux, or Mac OS X. This section will outline some of the considerations when setting up your computer."
   ]
  },
  {
   "cell_type": "markdown",
   "metadata": {},
   "source": [
    "### Python 2 vs Python 3\n",
    "\n",
    "This report uses the syntax of Python 3, which contains language enhancements that are not compatible with the *2.x* series of Python.\n",
    "Though Python 3.0 was first released in 2008, adoption has been relatively slow, particularly in the scientific and web development communities.\n",
    "This is primarily because it took some time for many of the essential packages and toolkits to be made compatible with the new language internals.\n",
    "Since early 2014, however, stable releases of the most important tools in the data science ecosystem have been fully-compatible with both Python 2 and 3, and so this book will use the newer Python 3 syntax.\n",
    "Even though that is the case, the vast majority of code snippets in this book will also work without modification in Python 2: in cases where a Py2-incompatible syntax is used, I will make every effort to note it explicitly."
   ]
  },
  {
   "cell_type": "markdown",
   "metadata": {},
   "source": [
    "### Installation with conda\n",
    "\n",
    "Though there are various ways to install Python, the one I would suggest – particularly if you wish to eventually use the data science tools mentioned above – is via the cross-platform Anaconda distribution.\n",
    "There are two flavors of the Anaconda distribution:\n",
    "\n",
    "- [Miniconda](http://conda.pydata.org/miniconda.html) gives you Python interpreter itself, along with a command-line tool called ``conda`` which operates as a cross-platform package manager geared toward Python packages, similar in spirit to the ``apt`` or ``yum`` tools that Linux users might be familiar with.\n",
    "- [Anaconda](https://www.continuum.io/downloads) includes both Python and ``conda``, and additionally bundles a suite of other pre-installed packages geared toward scientific computing.\n",
    "\n",
    "Any of the packages included with Anaconda can also be installed manually on top of Miniconda; for this reason I suggest starting with Miniconda.\n",
    "\n",
    "To get started, download and install the Miniconda package – make sure to choose a version with Python 3 – and then install the IPython notebook package:\n",
    "```\n",
    "[~]$ conda install ipython-notebook\n",
    "```\n",
    "For more information on ``conda``, including information about creating and using conda environments, refer to the Miniconda package documentation linked at the above page."
   ]
  },
  {
   "cell_type": "markdown",
   "metadata": {},
   "source": [
    "## The Zen of Python\n",
    "\n",
    "Python aficionados are often quick to point out how \"intuitive\", \"beautiful\", or \"fun\" Python is.\n",
    "While I tend to agree, I also recognize that beauty, intuition, and fun often go hand in hand with familiarity, and so for those familiar with other languages such florid sentiments can come across as a bit smug.\n",
    "Nevertheless, I hope that if you give Python a chance, you'll see where such impressions might come from.\n",
    "And if you *really* want to dig into the programming philosophy that drives much of the coding practice of Python power-users, a nice little Easter egg exists in the Python interpreter: simply close your eyes, meditate for a few minutes, and ``import this``:"
   ]
  },
  {
   "cell_type": "code",
   "execution_count": 1,
   "metadata": {},
   "outputs": [
    {
     "name": "stdout",
     "output_type": "stream",
     "text": [
      "The Zen of Python, by Tim Peters\n",
      "\n",
      "Beautiful is better than ugly.\n",
      "Explicit is better than implicit.\n",
      "Simple is better than complex.\n",
      "Complex is better than complicated.\n",
      "Flat is better than nested.\n",
      "Sparse is better than dense.\n",
      "Readability counts.\n",
      "Special cases aren't special enough to break the rules.\n",
      "Although practicality beats purity.\n",
      "Errors should never pass silently.\n",
      "Unless explicitly silenced.\n",
      "In the face of ambiguity, refuse the temptation to guess.\n",
      "There should be one-- and preferably only one --obvious way to do it.\n",
      "Although that way may not be obvious at first unless you're Dutch.\n",
      "Now is better than never.\n",
      "Although never is often better than *right* now.\n",
      "If the implementation is hard to explain, it's a bad idea.\n",
      "If the implementation is easy to explain, it may be a good idea.\n",
      "Namespaces are one honking great idea -- let's do more of those!\n"
     ]
    }
   ],
   "source": [
    "import this"
   ]
  },
  {
   "cell_type": "markdown",
   "metadata": {},
   "source": [
    "With that, let's start our tour of the Python language."
   ]
  },
  {
   "cell_type": "markdown",
   "metadata": {},
   "source": [
    "<!--NAVIGATION-->\n",
    "| [Contents](Index.ipynb) | [How to Run Python Code](01-How-to-Run-Python-Code.ipynb) >"
   ]
  },
  {
   "cell_type": "markdown",
   "metadata": {},
   "source": [
    "<!--BOOK_INFORMATION-->\n",
    "<img align=\"left\" style=\"padding-right:10px;\" src=\"fig/cover-small.jpg\">\n",
    "*Questo notebook contiene un estratto del libro [Whirlwind Tour of Python](http://www.oreilly.com/programming/free/a-whirlwind-tour-of-python.csp) di Jake VanderPlas; il contenuto è disponibile [su GitHub](https://github.com/jakevdp/WhirlwindTourOfPython).*\n",
    "\n",
    "*Il testo e il codice sono rilasciati sotto licenza [CC0](https://github.com/jakevdp/WhirlwindTourOfPython/blob/master/LICENSE); vedi anche il progetto compagno, [Python Data Science Handbook](https://github.com/jakevdp/PythonDataScienceHandbook).*\n"
   ]
  }
 ],
 "metadata": {
  "anaconda-cloud": {},
  "kernelspec": {
   "display_name": "Python 3 (ipykernel)",
   "language": "python",
   "name": "python3"
  },
  "language_info": {
   "codemirror_mode": {
    "name": "ipython",
    "version": 3
   },
   "file_extension": ".py",
   "mimetype": "text/x-python",
   "name": "python",
   "nbconvert_exporter": "python",
   "pygments_lexer": "ipython3",
   "version": "3.9.12"
  },
  "varInspector": {
   "cols": {
    "lenName": 16,
    "lenType": 16,
    "lenVar": 40
   },
   "kernels_config": {
    "python": {
     "delete_cmd_postfix": "",
     "delete_cmd_prefix": "del ",
     "library": "var_list.py",
     "varRefreshCmd": "print(var_dic_list())"
    },
    "r": {
     "delete_cmd_postfix": ") ",
     "delete_cmd_prefix": "rm(",
     "library": "var_list.r",
     "varRefreshCmd": "cat(var_dic_list()) "
    }
   },
   "types_to_exclude": [
    "module",
    "function",
    "builtin_function_or_method",
    "instance",
    "_Feature"
   ],
   "window_display": false
  }
 },
 "nbformat": 4,
 "nbformat_minor": 1
}
