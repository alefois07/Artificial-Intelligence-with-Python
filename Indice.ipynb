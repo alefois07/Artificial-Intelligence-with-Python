{
 "cells": [
  {
   "cell_type": "markdown",
   "metadata": {},
   "source": [
    "# Artificial Intelligence with Python"
   ]
  },
  {
   "cell_type": "markdown",
   "metadata": {},
   "source": [
    "Prof. Giandomenico Palumbo - [IIS via Roma 298](https://www.liceoguidonia.edu.it/)"
   ]
  },
  {
   "cell_type": "code",
   "execution_count": null,
   "metadata": {},
   "outputs": [],
   "source": []
  },
  {
   "cell_type": "markdown",
   "metadata": {},
   "source": [
    "Questi sono i Jupyter Notebooks relativi al mio corso Artificial Intelligence with Python.\n",
    "[*A Whirlwind Tour of Python*](http://www.oreilly.com/programming/free/a-whirlwind-tour-of-python.csp).\n",
    "Il materiale del corso è disponibile sul sito [on Github](https://github.com/giandopal/Artificial-Intelligence-with-Python).\n",
    "\n",
    "*A Whirlwind Tour of Python* è una rapida introduzione agli elementi essenziali del linguaggio Python, ideato per ricercatori e sviluppatori che hanno già familiarità con un linguaggio di programmazione.\n",
    "\n",
    "Il materiale è particolarmente rivolto a coloro che desiderano utilizzare Python per il data science e/o programmazione scientifica, e in tale veste funge da introduzione al mio altro libro, *The Python Data Science Handbook*. Questi notebooks sono adattati da lezioni e seminari che ho tenuto su questi argomenti all'Università di Washington e in varie conferenze, riunioni e meeting in tutto il mondo."
   ]
  },
  {
   "cell_type": "markdown",
   "metadata": {},
   "source": [
    "\n",
    "\n",
    "# Indice\n",
    "\n",
    "1. [Introduzione al corso Artificial Intelligence with Python](XXXX)\n",
    "2. [Il linguaggio Python](00-intro-notebook-jupyter.ipynb)\n",
    "    1. [How to Run Python Code](01-How-to-Run-Python-Code.ipynb)\n",
    "    2. [Sintassi di base di Python](02-sintassi-base-python.ipynb)\n",
    "    3. [Semantica di Python: Variabili](03-variabili-semantica.ipynb)\n",
    "    4. [Semantica di Python: Operatori](04-operatori-semantica.ipynb)\n",
    "    5. [Built-In Scalar Types](05-Built-in-Scalar-Types.ipynb)\n",
    "    6. [Built-In Data Structures](06-Built-in-Data-Structures.ipynb)\n",
    "    7. [Control Flow Statements](07-Control-Flow-Statements.ipynb)\n",
    "    8. [Defining Functions](08-Defining-Functions.ipynb)\n",
    "    9. [Errors and Exceptions](09-Errors-and-Exceptions.ipynb)\n",
    "    10. [Iterators](10-Iterators.ipynb)\n",
    "    11. [List Comprehensions](11-List-Comprehensions.ipynb)\n",
    "    12. [Generators and Generator Expressions](12-Generators.ipynb)\n",
    "    13. [Modules and Packages](13-Modules-and-Packages.ipynb)\n",
    "    14. [Strings and Regular Expressions](14-Strings-and-Regular-Expressions.ipynb)\n",
    "    15. [Preview of Data Science Tools](15-Preview-of-Data-Science-Tools.ipynb)\n",
    "    16. [Resources for Further Learning](16-Further-Resources.ipynb)\n",
    "    17. [Appendix: Code To Reproduce Figures](17-Figures.ipynb)"
   ]
  },
  {
   "cell_type": "markdown",
   "metadata": {},
   "source": [
    "## Licenza\n",
    "\n",
    "MIT License\n",
    "\n",
    "Copyright (c) 2023 Giandomenico Palumbo\n",
    "\n",
    "Permission is hereby granted, free of charge, to any person obtaining a copy\n",
    "of this software and associated documentation files (the \"Software\"), to deal\n",
    "in the Software without restriction, including without limitation the rights\n",
    "to use, copy, modify, merge, publish, distribute, sublicense, and/or sell\n",
    "copies of the Software, and to permit persons to whom the Software is\n",
    "furnished to do so, subject to the following conditions:\n",
    "\n",
    "The above copyright notice and this permission notice shall be included in all\n",
    "copies or substantial portions of the Software.\n",
    "\n",
    "THE SOFTWARE IS PROVIDED \"AS IS\", WITHOUT WARRANTY OF ANY KIND, EXPRESS OR\n",
    "IMPLIED, INCLUDING BUT NOT LIMITED TO THE WARRANTIES OF MERCHANTABILITY,\n",
    "FITNESS FOR A PARTICULAR PURPOSE AND NONINFRINGEMENT. IN NO EVENT SHALL THE\n",
    "AUTHORS OR COPYRIGHT HOLDERS BE LIABLE FOR ANY CLAIM, DAMAGES OR OTHER\n",
    "LIABILITY, WHETHER IN AN ACTION OF CONTRACT, TORT OR OTHERWISE, ARISING FROM,\n",
    "OUT OF OR IN CONNECTION WITH THE SOFTWARE OR THE USE OR OTHER DEALINGS IN THE\n",
    "SOFTWARE."
   ]
  }
 ],
 "metadata": {
  "anaconda-cloud": {},
  "kernelspec": {
   "display_name": "Python 3 (ipykernel)",
   "language": "python",
   "name": "python3"
  },
  "language_info": {
   "codemirror_mode": {
    "name": "ipython",
    "version": 3
   },
   "file_extension": ".py",
   "mimetype": "text/x-python",
   "name": "python",
   "nbconvert_exporter": "python",
   "pygments_lexer": "ipython3",
   "version": "3.9.12"
  },
  "varInspector": {
   "cols": {
    "lenName": 16,
    "lenType": 16,
    "lenVar": 40
   },
   "kernels_config": {
    "python": {
     "delete_cmd_postfix": "",
     "delete_cmd_prefix": "del ",
     "library": "var_list.py",
     "varRefreshCmd": "print(var_dic_list())"
    },
    "r": {
     "delete_cmd_postfix": ") ",
     "delete_cmd_prefix": "rm(",
     "library": "var_list.r",
     "varRefreshCmd": "cat(var_dic_list()) "
    }
   },
   "types_to_exclude": [
    "module",
    "function",
    "builtin_function_or_method",
    "instance",
    "_Feature"
   ],
   "window_display": false
  }
 },
 "nbformat": 4,
 "nbformat_minor": 1
}
