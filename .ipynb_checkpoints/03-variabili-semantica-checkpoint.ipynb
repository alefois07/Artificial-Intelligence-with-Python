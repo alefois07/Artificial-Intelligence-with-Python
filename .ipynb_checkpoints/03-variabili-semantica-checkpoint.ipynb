{
 "cells": [
  {
   "cell_type": "markdown",
   "metadata": {},
   "source": [
    "<!--NAVIGATION-->\n",
    "< [A Quick Tour of Python Language Syntax](02-Basic-Python-Syntax.ipynb) | [Contents](Index.ipynb) | [Basic Python Semantics: Operators](04-Semantics-Operators.ipynb) >"
   ]
  },
  {
   "cell_type": "markdown",
   "metadata": {},
   "source": [
    "# Python: variabili e oggetti"
   ]
  },
  {
   "cell_type": "markdown",
   "metadata": {},
   "source": [
    "In questa sezione inizieremo a vedere la semantica di base del linguaggio Python.\n",
    "Contrariamente alla *sintassi* trattata nella sezione precedente, la *semantica* di un linguaggio implica considerare il significato delle proposizioni.\n",
    "Come per la nostra discussione sulla sintassi, qui presenteremo in anteprima alcune delle costruzioni semantiche essenziali in Python per darvi un quadro di riferimento migliore per comprendere il codice nelle sezioni seguenti.\n",
    "\n",
    "Questa sezione coprirà la semantica delle *variabili* e degli *oggetti*, che sono i modi principali per archiviare, fare riferimento e operare sui dati all'interno di uno script Python."
   ]
  },
  {
   "cell_type": "markdown",
   "metadata": {},
   "source": [
    "## Le variabili Python sono Puntatori (Pointers)\n",
    "\n",
    "Creare variabili e assegnargli un valore è facile, basta inserire il nome di una variabile a sinistra del segno di uguale (``=``) e il valore desiderato a destra:\n",
    "\n",
    "```piton\n",
    "# assegna 4 alla variabile x\n",
    "x = 4\n",
    "```\n",
    "\n",
    "Questo può sembrare semplice, ma vediamo meglio come opera Python quando esegue un' istruzione di questo tipo.\n",
    "Nella parte destra dell'istruzione Python crea un **OGGETTO** in memoria RAM che ha diverse informazioni tra cui il tipo dell'oggetto (type) e il valore dell'oggetto (value). \n",
    "Nel nostro caso abbiamo creato un oggetto di tipo INTEGER.\n",
    "\n",
    "<img src=\"fig/fig-variable-object-2.png\">\n",
    "\n",
    "Nella parte sinitra dell'istruzione Python crea una variabile denominata x che è un **puntatore** alla zona di memoria RAM in cui è memorizzato l'oggetto che abbiamo creato prima.\n",
    "\n",
    "<img src=\"fig/fig-variable-object-3.png\">\n",
    "\n",
    "Come possiamo vedere dalla figura sopra, la variabile x è come un 'telecomando' che ci consente di accedere alle informazioni contenute nell **oggetto** presente in memoria e quindi anche al valore 4 che avevamo assegnato. \n",
    "E' da notare come l'oggetto creato appartiene ad un insieme preciso che è l'insieme degli INTEGER. Diciamo che l'oggetto è un INTEGER TYPE"
   ]
  },
  {
   "cell_type": "code",
   "execution_count": 40,
   "metadata": {},
   "outputs": [
    {
     "name": "stdout",
     "output_type": "stream",
     "text": [
      "4\n"
     ]
    }
   ],
   "source": [
    "x=4\n",
    "print(x)"
   ]
  },
  {
   "cell_type": "markdown",
   "metadata": {},
   "source": [
    "Consideriamo ora il seguente esempio"
   ]
  },
  {
   "cell_type": "code",
   "execution_count": 38,
   "metadata": {},
   "outputs": [
    {
     "name": "stdout",
     "output_type": "stream",
     "text": [
      "La variabile y ha il value [1, 2, 3]  ed è di tipo <class 'list'>\n"
     ]
    }
   ],
   "source": [
    "y = [1,2,3]        # y è una lista\n",
    "print('La variabile y ha il value',y,' ed è di tipo',type(y))"
   ]
  },
  {
   "cell_type": "markdown",
   "metadata": {},
   "source": [
    "Con l'istruzione precedente abbiamo creato un oggetto di tipo LIST e abbiamo inserito in questo oggetto i valori 1,2,3. Notiamo quindi che il nome della variabile è y, ma in questo caso il nostro puntatore 'punta' ad un oggetto diverso da INTEGER\n",
    "\n",
    "<img src=\"fig/fig-variable-object-1.png\">\n"
   ]
  },
  {
   "cell_type": "markdown",
   "metadata": {},
   "source": [
    "La conseguenza di questa tecnica \"variabile come puntatore\" è che se abbiamo due nomi di variabili che puntano allo stesso oggetto *mutabile*, allora se effettuiamo un cambiamento con una variabile allora cambierà il valore anche dell'altra variabile.\n"
   ]
  },
  {
   "cell_type": "code",
   "execution_count": 3,
   "metadata": {},
   "outputs": [],
   "source": [
    "x = y   # inseriamo in x il puntatore inserito in y"
   ]
  },
  {
   "cell_type": "markdown",
   "metadata": {},
   "source": [
    "Abbiamo inserito nella variabile ``x`` il puntatore della variabile ``y``.\n",
    "Per questo motivo, se modifichiamo l'elenco tramite uno dei suoi nomi, vedremo che anche l'elenco \"altro\" verrà modificato:"
   ]
  },
  {
   "cell_type": "code",
   "execution_count": 4,
   "metadata": {},
   "outputs": [
    {
     "name": "stdout",
     "output_type": "stream",
     "text": [
      "[1, 2, 3]\n"
     ]
    }
   ],
   "source": [
    "print(y) # stampiamo y"
   ]
  },
  {
   "cell_type": "code",
   "execution_count": 5,
   "metadata": {},
   "outputs": [
    {
     "name": "stdout",
     "output_type": "stream",
     "text": [
      "[1, 2, 3, 4]\n"
     ]
    }
   ],
   "source": [
    "y.append(4) # aggiungiamo 4 alla lista puntata da y\n",
    "print(y) # stampiamo la lista y"
   ]
  },
  {
   "cell_type": "markdown",
   "metadata": {},
   "source": [
    "NB. Ora il nostro oggetto in memoria contiene un elemento in più\n",
    "\n",
    "<img src=\"fig/fig-variable-object-4.png\">\n",
    "\n"
   ]
  },
  {
   "cell_type": "code",
   "execution_count": 6,
   "metadata": {},
   "outputs": [
    {
     "name": "stdout",
     "output_type": "stream",
     "text": [
      "[1, 2, 3, 4]\n"
     ]
    }
   ],
   "source": [
    "print(x) # stampiamo la lista x"
   ]
  },
  {
   "cell_type": "markdown",
   "metadata": {},
   "source": [
    "Questo comportamento potrebbe creare confusione se si pensa erroneamente alle variabili come a un contenitore di dati.\n",
    "Ma se pensi alle variabili come **puntatori a oggetti**, allora questo comportamento ha senso.\n",
    "\n",
    "Nota anche che se usiamo \"``=``\" per assegnare un altro valore a ``x``, questo non influirà sul valore di ``y`` – l'assegnazione è semplicemente un cambiamento dell'oggetto a cui punta la variabile:"
   ]
  },
  {
   "cell_type": "code",
   "execution_count": 8,
   "metadata": {},
   "outputs": [
    {
     "name": "stdout",
     "output_type": "stream",
     "text": [
      "[1, 2, 3, 4]\n",
      "something else\n"
     ]
    }
   ],
   "source": [
    "x = 'something else'\n",
    "print(y)  # y is unchanged\n",
    "print(x)"
   ]
  },
  {
   "cell_type": "markdown",
   "metadata": {},
   "source": [
    "<img src=\"fig/fig-variable-object-5.png\">\n"
   ]
  },
  {
   "cell_type": "markdown",
   "metadata": {},
   "source": [
    "Ancora una volta, questo ha perfettamente senso se si pensa a ``x`` e ``y`` come puntatori, e all'operatore \"``=``\" come a un'operazione che cambia ciò a cui punta il nome."
   ]
  },
  {
   "cell_type": "markdown",
   "metadata": {},
   "source": [
    "## Ogni cosa è un oggetto\n",
    "\n",
    "Python è un linguaggio di programmazione orientato agli oggetti (**OBJECT ORIENTING PROGRAMMING LANGUAGE - OOP**) e in Python TUTTO è un oggetto.\n",
    "\n",
    "Approfondiamo cosa significa. In precedenza abbiamo visto che le variabili sono semplicemente puntatori e che i nomi delle variabili stesse non hanno _informazioni di tipo associate_.\n",
    "Questo porta alcuni ad affermare erroneamente che Python è un linguaggio senza tipi. Ma non è così!\n",
    "Considera quanto segue:"
   ]
  },
  {
   "cell_type": "code",
   "execution_count": 9,
   "metadata": {},
   "outputs": [
    {
     "data": {
      "text/plain": [
       "int"
      ]
     },
     "execution_count": 9,
     "metadata": {},
     "output_type": "execute_result"
    }
   ],
   "source": [
    "x = 4\n",
    "type(x)"
   ]
  },
  {
   "cell_type": "code",
   "execution_count": 10,
   "metadata": {},
   "outputs": [
    {
     "data": {
      "text/plain": [
       "str"
      ]
     },
     "execution_count": 10,
     "metadata": {},
     "output_type": "execute_result"
    }
   ],
   "source": [
    "x = 'hello'\n",
    "type(x)"
   ]
  },
  {
   "cell_type": "code",
   "execution_count": 11,
   "metadata": {},
   "outputs": [
    {
     "data": {
      "text/plain": [
       "float"
      ]
     },
     "execution_count": 11,
     "metadata": {},
     "output_type": "execute_result"
    }
   ],
   "source": [
    "x = 3.14159\n",
    "type(x)"
   ]
  },
  {
   "cell_type": "markdown",
   "metadata": {},
   "source": [
    "Python ha i tipi (**type**) tuttavia, i tipi sono collegati non ai nomi delle variabili ma *agli oggetti stessi*.\n",
    "\n",
    "Nei linguaggi di programmazione orientati agli oggetti come Python, un *oggetto* è un'entità che contiene dati insieme a METADATI e/o FUNZIONALITA' associate.\n",
    "In Python tutto è un oggetto, il che significa che ogni entità ha alcuni metadati (chiamati *attributi*) e funzionalità associate (chiamate *metodi*).\n",
    "\n",
    "<img src=\"fig/fig-variable-object-6.png\">\n"
   ]
  },
  {
   "cell_type": "markdown",
   "metadata": {},
   "source": [
    "Questi attributi e metodi sono accessibili tramite la sintassi del punto.\n",
    "\n",
    "Per esempio, prima abbiamo visto che le liste hanno un metodo ``append``, che aggiunge un elemento alla lista, ed è accessibile tramite la sintassi del punto (\"``.``\"):"
   ]
  },
  {
   "cell_type": "code",
   "execution_count": 32,
   "metadata": {},
   "outputs": [
    {
     "name": "stdout",
     "output_type": "stream",
     "text": [
      "[1, 2, 3, 4, 5, 6, 7, 8]\n"
     ]
    }
   ],
   "source": [
    "L = [1, 2, 3, 4, 5, 6 , 7, 8]\n",
    "print(L)"
   ]
  },
  {
   "cell_type": "code",
   "execution_count": 33,
   "metadata": {},
   "outputs": [
    {
     "name": "stdout",
     "output_type": "stream",
     "text": [
      "[1, 2, 3, 4, 5, 6, 7, 8, 21]\n"
     ]
    }
   ],
   "source": [
    "L.append(21)\n",
    "print(L)"
   ]
  },
  {
   "cell_type": "code",
   "execution_count": 34,
   "metadata": {},
   "outputs": [
    {
     "name": "stdout",
     "output_type": "stream",
     "text": [
      "[21, 8, 7, 6, 5, 4, 3, 2, 1]\n"
     ]
    }
   ],
   "source": [
    "L.reverse()\n",
    "print(L)"
   ]
  },
  {
   "cell_type": "markdown",
   "metadata": {},
   "source": [
    "I metodi sono come gli attributi, tranne per il fatto che sono funzioni che puoi chiamare usando le parentesi di apertura e chiusura."
   ]
  },
  {
   "cell_type": "markdown",
   "metadata": {},
   "source": [
    "<!--BOOK_INFORMATION-->\n",
    "<img align=\"left\" style=\"padding-right:10px;\" src=\"fig/cover-small.jpg\">\n",
    "*Questo notebook contiene un estratto del libro [Whirlwind Tour of Python](http://www.oreilly.com/programming/free/a-whirlwind-tour-of-python.csp) di Jake VanderPlas; il contenuto è disponibile [su GitHub](https://github.com/jakevdp/WhirlwindTourOfPython).*\n",
    "\n",
    "*Il testo e il codice sono rilasciati sotto licenza [CC0](https://github.com/jakevdp/WhirlwindTourOfPython/blob/master/LICENSE); vedi anche il progetto compagno, [Python Data Science Handbook](https://github.com/jakevdp/PythonDataScienceHandbook).*"
   ]
  },
  {
   "cell_type": "markdown",
   "metadata": {},
   "source": [
    "<!--NAVIGATION-->\n",
    "< [A Quick Tour of Python Language Syntax](02-Basic-Python-Syntax.ipynb) | [Contents](Index.ipynb) | [Basic Python Semantics: Operators](04-Semantics-Operators.ipynb) >"
   ]
  }
 ],
 "metadata": {
  "@webio": {
   "lastCommId": null,
   "lastKernelId": null
  },
  "anaconda-cloud": {},
  "kernelspec": {
   "display_name": "Python 3 (ipykernel)",
   "language": "python",
   "name": "python3"
  },
  "language_info": {
   "codemirror_mode": {
    "name": "ipython",
    "version": 3
   },
   "file_extension": ".py",
   "mimetype": "text/x-python",
   "name": "python",
   "nbconvert_exporter": "python",
   "pygments_lexer": "ipython3",
   "version": "3.9.12"
  },
  "varInspector": {
   "cols": {
    "lenName": 16,
    "lenType": 16,
    "lenVar": 40
   },
   "kernels_config": {
    "python": {
     "delete_cmd_postfix": "",
     "delete_cmd_prefix": "del ",
     "library": "var_list.py",
     "varRefreshCmd": "print(var_dic_list())"
    },
    "r": {
     "delete_cmd_postfix": ") ",
     "delete_cmd_prefix": "rm(",
     "library": "var_list.r",
     "varRefreshCmd": "cat(var_dic_list()) "
    }
   },
   "types_to_exclude": [
    "module",
    "function",
    "builtin_function_or_method",
    "instance",
    "_Feature"
   ],
   "window_display": false
  }
 },
 "nbformat": 4,
 "nbformat_minor": 1
}
