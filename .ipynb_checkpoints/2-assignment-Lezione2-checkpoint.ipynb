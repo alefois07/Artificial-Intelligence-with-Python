{
 "cells": [
  {
   "cell_type": "markdown",
   "id": "c0f15e63",
   "metadata": {},
   "source": [
    "1. Scrivi una funzione che data una lista di numeri interi, conta quanti elementi della lista sono compresi (in senso stretto) in un intervallo specificato\n",
    "(in senso stretto significa che se il numero è uguale all'estremo dell'intervallo allora non deve essere conteggiato)\n",
    "\n",
    "Esempio \n",
    "\n",
    "inserisci lista: [10,20...99]\n",
    "\n",
    "specifica estremo sx intervallo: 40\n",
    "\n",
    "specifica estremo dx intervallo: 100\n",
    "\n",
    "<img src=\"fig/rangelist.png\">\n",
    "\n"
   ]
  },
  {
   "cell_type": "code",
   "execution_count": null,
   "id": "1216cbe4",
   "metadata": {},
   "outputs": [],
   "source": [
    "2. <img src=\"fig/listofwords.png\">\n"
   ]
  }
 ],
 "metadata": {
  "hide_input": false,
  "kernelspec": {
   "display_name": "Python 3 (ipykernel)",
   "language": "python",
   "name": "python3"
  },
  "language_info": {
   "codemirror_mode": {
    "name": "ipython",
    "version": 3
   },
   "file_extension": ".py",
   "mimetype": "text/x-python",
   "name": "python",
   "nbconvert_exporter": "python",
   "pygments_lexer": "ipython3",
   "version": "3.10.8"
  },
  "varInspector": {
   "cols": {
    "lenName": 16,
    "lenType": 16,
    "lenVar": 40
   },
   "kernels_config": {
    "python": {
     "delete_cmd_postfix": "",
     "delete_cmd_prefix": "del ",
     "library": "var_list.py",
     "varRefreshCmd": "print(var_dic_list())"
    },
    "r": {
     "delete_cmd_postfix": ") ",
     "delete_cmd_prefix": "rm(",
     "library": "var_list.r",
     "varRefreshCmd": "cat(var_dic_list()) "
    }
   },
   "types_to_exclude": [
    "module",
    "function",
    "builtin_function_or_method",
    "instance",
    "_Feature"
   ],
   "window_display": false
  }
 },
 "nbformat": 4,
 "nbformat_minor": 5
}
