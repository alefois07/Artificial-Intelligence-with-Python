{
 "cells": [
  {
   "cell_type": "markdown",
   "metadata": {},
   "source": [
    "<!--NAVIGATION-->\n",
    "| [Indice](Indice.ipynb) | [Semantica di Python: Variabili](03-variabili-semantica.ipynb)>"
   ]
  },
  {
   "cell_type": "markdown",
   "metadata": {},
   "source": [
    "<!--BOOK_INFORMATION-->\n",
    "<img align=\"left\" style=\"padding-right:10px;\" src=\"fig/cover-small.jpg\">\n",
    "*Questo notebook contiene un estratto del libro [Whirlwind Tour of Python](http://www.oreilly.com/programming/free/a-whirlwind-tour-of-python.csp) di Jake VanderPlas; il contenuto è disponibile [su GitHub](https://github.com/jakevdp/WhirlwindTourOfPython).*\n",
    "\n",
    "*Il testo e il codice sono rilasciati sotto licenza [CC0](https://github.com/jakevdp/WhirlwindTourOfPython/blob/master/LICENSE); vedi anche il progetto compagno, [Python Data Science Handbook](https://github.com/jakevdp/PythonDataScienceHandbook).*\n"
   ]
  },
  {
   "cell_type": "markdown",
   "metadata": {},
   "source": [
    "# La SINTASSI di Python "
   ]
  },
  {
   "cell_type": "markdown",
   "metadata": {},
   "source": [
    "Python è stato originariamente sviluppato come linguaggio didattico, ma la sua facilità d'uso e la sua chiara sintassi lo hanno portato ad essere adottato sia dai principianti che dagli esperti.\n",
    "La chiarezza della sintassi di Python ha portato alcuni a chiamarlo \"pseudocodice eseguibile\", e in effetti è più semplice comprendere uno script Python piuttosto che leggere uno script simile scritto, diciamo, in C.\n",
    "Ora inizieremo a vedere le caratteristiche principali della **SINTASSI di Python**.\n",
    "\n",
    "La sintassi si riferisce alla _struttura del linguaggio_ (cioè, ciò che costituisce un programma correttamente formato).\n",
    "Per il momento, non ci concentreremo sulla semantica – il significato delle parole e dei simboli all'interno della sintassi – ma torneremo su questo in un secondo momento.\n",
    "\n",
    "Si consideri il seguente esempio di codice:"
   ]
  },
  {
   "cell_type": "code",
   "execution_count": 9,
   "metadata": {},
   "outputs": [
    {
     "name": "stdout",
     "output_type": "stream",
     "text": [
      "lower: [0, 1, 2, 3, 4]\n",
      "upper: [5, 6, 7, 8, 9]\n"
     ]
    }
   ],
   "source": [
    "# impostiamo un punto di mezzo\n",
    "midpoint = 5         # assegnamo alla variabile midpoint il valore 5\n",
    "\n",
    "# creiamo due liste vuote\n",
    "lower = []; upper = []     # creiamo due liste vuote\n",
    "\n",
    "# dividiamo i numeri di alti e bassi. \n",
    "for i in range(10):  # ripete per 10 volte le istruzioni successive\n",
    "                     # assegnando progressivamente a i valori 0,1,2,3,4...9.\n",
    "    if (i < midpoint):     # se i è minore di 5\n",
    "        lower.append(i)    # allora inserisci i nella lista lower\n",
    "    else:                  # altrimenti \n",
    "        upper.append(i)    # inserisci i nella lista upper\n",
    "        \n",
    "print(\"lower:\", lower)     # stampa la lista lower\n",
    "print(\"upper:\", upper)     # stampa la lista upper"
   ]
  },
  {
   "cell_type": "code",
   "execution_count": null,
   "metadata": {},
   "outputs": [],
   "source": []
  },
  {
   "cell_type": "markdown",
   "metadata": {},
   "source": [
    "Questo semplice script illustra in modo compatto molti degli aspetti importanti della sintassi di Python.\n",
    "Esaminiamolo e discutiamo alcune delle caratteristiche sintattiche di Python"
   ]
  },
  {
   "cell_type": "markdown",
   "metadata": {},
   "source": [
    "## I commenti sono marcati dal simbolo ``#``\n",
    "Lo script parte con il comando:\n",
    "``` python\n",
    "# impostiamo un punto di mezzo\n",
    "```\n",
    "I commenti in Python sono indicati da un cancelletto (``#``), e qualsiasi scritta sulla riga che segue il cancelletto viene ignorata dall'interprete.\n",
    "Ciò significa, ad esempio, che puoi avere commenti autonomi come quello appena mostrato, così come commenti in linea che seguono un'istruzione. Per esempio:\n",
    "\n",
    "``` python\n",
    "midpoint = 5         # assegnamo alla variabile midpoint il valore 5\n",
    "```"
   ]
  },
  {
   "cell_type": "markdown",
   "metadata": {},
   "source": [
    "## Il fine riga termina uno '_Statement_' (istruzione)\n",
    "La riga successiva di codice è\n",
    "``` python\n",
    "midpoint = 5\n",
    "```\n",
    "Questa è _assignment operation_ (un'operazione di assegnazione), in cui abbiamo creato una variabile chiamata ``midpoint`` e le abbiamo assegnato il valore ``5``.\n",
    "Si noti che la fine di questa affermazione è semplicemente _contrassegnata dalla fine della riga_.\n",
    "Questo è in contrasto con linguaggi come C e C++, dove ogni istruzione deve terminare con un punto e virgola (``;``).\n",
    "\n",
    "In Python, se desideri che un'istruzione continui alla riga successiva, è possibile utilizzare il marcatore \"``\\``\" come indicato nella seguente cella:"
   ]
  },
  {
   "cell_type": "code",
   "execution_count": 2,
   "metadata": {},
   "outputs": [],
   "source": [
    "x = 1 + 2 + 3 + 4 +\\\n",
    "    5 + 6 + 7 + 8"
   ]
  },
  {
   "cell_type": "markdown",
   "metadata": {},
   "source": [
    "È anche possibile continuare le espressioni sulla riga successiva tra parentesi, senza utilizzare il marcatore \"``\\``\":"
   ]
  },
  {
   "cell_type": "code",
   "execution_count": 10,
   "metadata": {},
   "outputs": [],
   "source": [
    "x = (1 + 2 + 3 + 4 +\n",
    "     5 + 6 + 7 + 8)"
   ]
  },
  {
   "cell_type": "markdown",
   "metadata": {},
   "source": [
    "La maggior parte delle guide di stile Python raccomandano la seconda versione della continuazione di riga (tra parentesi) rispetto alla prima (uso del marcatore \"``\\``\")."
   ]
  },
  {
   "cell_type": "markdown",
   "metadata": {},
   "source": [
    "## Il punto e virgola (_punto e virgola_) opzionalmente può terminare una dichiarazione\n",
    "A volte può essere utile mettere più istruzioni su una singola riga.\n",
    "La parte successiva dello script è\n",
    "``` piton\n",
    "lower = []; upper = []     # creiamo due liste vuote\n",
    "```\n",
    "Questo esempio mostra come il punto e virgola (``;``) può essere usato facoltativamente in Python per mettere due istruzioni su una singola riga.\n",
    "Funzionalmente, questo è del tutto equivalente alla scrittura\n",
    "``` piton\n",
    "lower = []\n",
    "upper = []\n",
    "```\n",
    "L'uso di un punto e virgola per mettere più istruzioni su una singola riga è generalmente **sconsigliato** dalla maggior parte delle guide di stile Python, anche se occasionalmente si rivela conveniente."
   ]
  },
  {
   "cell_type": "markdown",
   "metadata": {},
   "source": [
    "## Rientro: gli spazi bianchi sono importanti!\n",
    "Successivamente, arriviamo al blocco principale di codice:\n",
    "``` Piton\n",
    "for i in range(10):\n",
    "    if i < midpoint:\n",
    "        lower.append(i)\n",
    "    else:\n",
    "        upper.append(i)\n",
    "```\n",
    "Questa è un'istruzione di flusso di controllo composta che include un ciclo e un condizionale: esamineremo questi tipi di istruzioni più avanti.\n",
    "Per ora, notiamo come gli spazi bianchi siano significativi!\n",
    "\n",
    "Nei linguaggi di programmazione, un *blocco* di codice è un insieme di istruzioni che dovrebbero essere trattate come un'unità.\n",
    "\n",
    "In Python, i blocchi di codice sono indicati dal *rientro*:\n",
    "``` python\n",
    "for i in range(100):\n",
    "    # indentation indicates code block\n",
    "    total += i\n",
    "```\n",
    "In Python, i blocchi di codice indentati sono sempre preceduti da due punti (``:``) sulla riga precedente."
   ]
  },
  {
   "cell_type": "markdown",
   "metadata": {},
   "source": [
    "L'uso dell'indentazione aiuta a rafforzare lo stile uniforme e leggibile che molti trovano attraente nel codice Python.\n",
    "Ma potrebbe essere fonte di confusione per i non iniziati; ad esempio, i seguenti due snippet produrranno risultati diversi:\n",
    "```python\n",
    ">>> if x < 4:         >>> if x < 4:\n",
    "...     y = x * 2     ...     y = x * 2\n",
    "...     print(x)      ... print(x)\n",
    "```\n",
    "Nello snippet sulla sinistra, ``print(x)`` è un blocco indentato e sarà eseguito solo se ``x`` è minore di ``4``.\n",
    "Nello snippet sulla destra ``print(x)`` è fuori dal blocco e sarà eseguito a prescindere dal valore di ``x``!"
   ]
  },
  {
   "cell_type": "markdown",
   "metadata": {},
   "source": [
    "L'uso in Python di spazi bianchi significativi è spesso sorprendente per i programmatori che sono abituati ad altri linguaggi, ma in pratica può portare a un codice molto più coerente e leggibile rispetto ai linguaggi che non impongono l'indentazione dei blocchi di codice.\n",
    "\n",
    "Considera infine che la *quantità* di spazio bianco utilizzato per indentare i blocchi di codice dipende dall'utente, a condizione che sia coerente in tutto lo script.\n",
    "Per convenzione, la maggior parte delle guide di stile consiglia di far rientrare i blocchi di codice di quattro spazi, e questa è la convenzione che seguiremo in questo corso.\n",
    "Si noti che molti editor di testo come Emacs e Vim contengono modalità Python che eseguono automaticamente il rientro a quattro spazi."
   ]
  },
  {
   "cell_type": "markdown",
   "metadata": {},
   "source": [
    "## Gli spazi bianchi *dentro* le righe non contano\n",
    "Mentre il mantra degli *spazi bianchi significativi* vale per gli spazi bianchi *prima* delle righe (che indicano un blocco di codice), gli spazi bianchi *all'interno* delle righe di codice Python non hanno importanza.\n",
    "Ad esempio, tutte e tre queste espressioni sono equivalenti:"
   ]
  },
  {
   "cell_type": "code",
   "execution_count": 1,
   "metadata": {},
   "outputs": [],
   "source": [
    "x=1+2\n",
    "x = 1 + 2\n",
    "x             =        1    +                2"
   ]
  },
  {
   "cell_type": "markdown",
   "metadata": {},
   "source": [
    "L'abuso di questa flessibilità può portare a problemi di leggibilità del codice: infatti, l'abuso di spazi bianchi è spesso uno dei mezzi principali per offuscare intenzionalmente il codice.\n",
    "L'uso efficace degli spazi bianchi può portare a un codice molto più leggibile,\n",
    "specialmente nei casi in cui gli operatori si susseguono, confronta le seguenti due espressioni per l'elevazione a potenza di un numero negativo:\n",
    "``` python\n",
    "x=10**-2\n",
    "```\n",
    "to\n",
    "``` python\n",
    "x = 10 ** -2\n",
    "```\n",
    "Trovo la seconda versione con spazi molto più facilmente leggibile a colpo d'occhio.\n",
    "La maggior parte delle guide di stile Python consiglia di utilizzare un singolo spazio attorno agli operatori binari e nessuno spazio attorno agli operatori unari."
   ]
  },
  {
   "cell_type": "markdown",
   "metadata": {},
   "source": [
    "## Le parentesi servono per raggruppare o chiamare\n",
    "\n",
    "Nel frammento di codice successivo, vediamo due usi delle parentesi.\n",
    "In primo luogo, possono essere utilizzati nel modo tipico per raggruppare affermazioni o operazioni matematiche:"
   ]
  },
  {
   "cell_type": "code",
   "execution_count": 5,
   "metadata": {},
   "outputs": [
    {
     "data": {
      "text/plain": [
       "14"
      ]
     },
     "execution_count": 5,
     "metadata": {},
     "output_type": "execute_result"
    }
   ],
   "source": [
    "2 * (3 + 4)"
   ]
  },
  {
   "cell_type": "markdown",
   "metadata": {},
   "source": [
    "Possono anche essere usati per indicare che una *funzione* viene chiamata.\n",
    "Nello snippet successivo, la funzione ``print()`` viene utilizzata per visualizzare il contenuto di una variabile (vedere la barra laterale).\n",
    "La chiamata alla funzione è indicata da una coppia di parentesi aperte e chiuse, con gli *argomenti* della funzione contenuti all'interno di:"
   ]
  },
  {
   "cell_type": "code",
   "execution_count": 6,
   "metadata": {},
   "outputs": [
    {
     "name": "stdout",
     "output_type": "stream",
     "text": [
      "first value: 1\n"
     ]
    }
   ],
   "source": [
    "print('first value:', 1)"
   ]
  },
  {
   "cell_type": "code",
   "execution_count": 7,
   "metadata": {},
   "outputs": [
    {
     "name": "stdout",
     "output_type": "stream",
     "text": [
      "second value: 2\n"
     ]
    }
   ],
   "source": [
    "print('second value:', 2)"
   ]
  },
  {
   "cell_type": "markdown",
   "metadata": {},
   "source": [
    "Alcune funzioni possono essere chiamate senza alcun argomento, nel qual caso le parentesi di apertura e chiusura devono ancora essere utilizzate per indicare una valutazione di funzione.\n",
    "Un esempio di ciò è il metodo ``sort`` delle liste:"
   ]
  },
  {
   "cell_type": "code",
   "execution_count": 8,
   "metadata": {},
   "outputs": [
    {
     "name": "stdout",
     "output_type": "stream",
     "text": [
      "[1, 2, 3, 4]\n"
     ]
    }
   ],
   "source": [
    "L = [4,2,3,1]\n",
    "L.sort()\n",
    "print(L)"
   ]
  },
  {
   "cell_type": "markdown",
   "metadata": {},
   "source": [
    "Il \"``()``\" dopo ``sort`` indica che la funzione dovrebbe essere eseguita, ed è richiesta anche se non sono necessari argomenti."
   ]
  },
  {
   "cell_type": "markdown",
   "metadata": {},
   "source": [
    "## Finire e imparare di più\n",
    "\n",
    "Abbiamo visto brevemente le caratteristiche essenziali della sintassi di Python; il suo scopo è darti un buon quadro di riferimento per quando leggerai il codice nelle sezioni successive.\n",
    "Diverse volte abbiamo menzionato le \"guide di stile\" di Python, che possono aiutare i team a scrivere codice in uno stile coerente.\n",
    "La guida di stile più utilizzata in Python è nota come PEP8 e può essere trovata su https://www.python.org/dev/peps/pep-0008/.\n",
    "I suggerimenti di stile contengono la saggezza di molti guru di Python e la maggior parte dei suggerimenti va oltre la semplice pedanteria: sono consigli basati sull'esperienza che possono aiutare a evitare piccoli errori e bug nel codice."
   ]
  }
 ],
 "metadata": {
  "anaconda-cloud": {},
  "kernelspec": {
   "display_name": "Python 3 (ipykernel)",
   "language": "python",
   "name": "python3"
  },
  "language_info": {
   "codemirror_mode": {
    "name": "ipython",
    "version": 3
   },
   "file_extension": ".py",
   "mimetype": "text/x-python",
   "name": "python",
   "nbconvert_exporter": "python",
   "pygments_lexer": "ipython3",
   "version": "3.9.12"
  },
  "varInspector": {
   "cols": {
    "lenName": 16,
    "lenType": 16,
    "lenVar": 40
   },
   "kernels_config": {
    "python": {
     "delete_cmd_postfix": "",
     "delete_cmd_prefix": "del ",
     "library": "var_list.py",
     "varRefreshCmd": "print(var_dic_list())"
    },
    "r": {
     "delete_cmd_postfix": ") ",
     "delete_cmd_prefix": "rm(",
     "library": "var_list.r",
     "varRefreshCmd": "cat(var_dic_list()) "
    }
   },
   "types_to_exclude": [
    "module",
    "function",
    "builtin_function_or_method",
    "instance",
    "_Feature"
   ],
   "window_display": false
  }
 },
 "nbformat": 4,
 "nbformat_minor": 1
}
