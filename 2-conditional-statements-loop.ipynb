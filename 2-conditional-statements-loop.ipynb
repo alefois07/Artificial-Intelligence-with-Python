{
 "cells": [
  {
   "cell_type": "markdown",
   "id": "05b83f5f",
   "metadata": {},
   "source": [
    "<!--NAVIGATION-->\n",
    "< [Indice](indice.ipynb)  |  [Indice](indice.ipynb)>"
   ]
  },
  {
   "cell_type": "markdown",
   "id": "df1e31a4",
   "metadata": {},
   "source": [
    "#  A QUICK RECAP"
   ]
  },
  {
   "cell_type": "markdown",
   "id": "c118f69f",
   "metadata": {},
   "source": [
    "Nella lezione precedente abbiamo visto:\n",
    "\n",
    "    - come si assegna una variabile e le operazioni che si possono svolgere\n",
    "    - ogni variabile appartiene ad uno specifico TYPE (BOOLEAND, STR, INT, FLOAT, LIST)\n",
    "    - l'inserimento di un dato da tastiera (INPUT)\n",
    "    - come si definiscono le funzioni\n",
    "    - come si disegna una funzione (molto superficialmente)"
   ]
  },
  {
   "cell_type": "markdown",
   "id": "f50d04ad",
   "metadata": {},
   "source": [
    "ESEMPI:...."
   ]
  },
  {
   "cell_type": "code",
   "execution_count": null,
   "id": "da49fe52",
   "metadata": {},
   "outputs": [],
   "source": []
  },
  {
   "cell_type": "markdown",
   "id": "8dd5f73e",
   "metadata": {},
   "source": [
    "# CONTROLLO DI FLUSSO (CONTROL - FLOW)"
   ]
  },
  {
   "cell_type": "markdown",
   "id": "8e4ed6fd",
   "metadata": {},
   "source": [
    "Un programma è un elenco di istruzioni che vengono eseguite in sequenza. Con il flusso di controllo, puoi eseguire determinati blocchi di codice in modo **CONDIZIONATO** e/o **RIPETUTAMENTE**: questi blocchi di base possono essere combinati per creare programmi molto sofisticati"
   ]
  },
  {
   "cell_type": "code",
   "execution_count": null,
   "id": "845d3f7d",
   "metadata": {},
   "outputs": [],
   "source": []
  },
  {
   "cell_type": "markdown",
   "id": "7e6fd1b4",
   "metadata": {},
   "source": [
    "## Conditional Statements: ``if``-``elif``-``else``:\n",
    "Le istruzioni condizionali, spesso chiamate istruzioni *if-then*, consentono al programmatore di eseguire determinate parti di codice a seconda di alcune condizioni booleane.\n",
    "Un esempio di base di un'istruzione condizionale Python è questo:"
   ]
  },
  {
   "cell_type": "code",
   "execution_count": null,
   "id": "6138ba9d",
   "metadata": {},
   "outputs": [],
   "source": [
    "x = 0\n",
    "if x == 0:\n",
    "    print(x, \"is zero\")"
   ]
  },
  {
   "cell_type": "markdown",
   "id": "2f8082e7",
   "metadata": {},
   "source": [
    "Possiamo esplicitare anche l'alternativa "
   ]
  },
  {
   "cell_type": "code",
   "execution_count": 10,
   "id": "2cdbba09",
   "metadata": {},
   "outputs": [
    {
     "name": "stdout",
     "output_type": "stream",
     "text": [
      "-15 x è minore di 0\n"
     ]
    }
   ],
   "source": [
    "x = -15\n",
    "\n",
    "if x > 0:\n",
    "    print(\"X è maggiore di 0\")\n",
    "else:\n",
    "    print(x, \"x è minore di 0\")"
   ]
  },
  {
   "cell_type": "code",
   "execution_count": 12,
   "id": "8153c25b",
   "metadata": {},
   "outputs": [
    {
     "data": {
      "text/plain": [
       "False"
      ]
     },
     "execution_count": 12,
     "metadata": {},
     "output_type": "execute_result"
    }
   ],
   "source": []
  },
  {
   "cell_type": "markdown",
   "id": "7cfb9964",
   "metadata": {},
   "source": [
    "Possiamo esplicitare più alternative "
   ]
  },
  {
   "cell_type": "code",
   "execution_count": 2,
   "id": "1ec4e8aa",
   "metadata": {},
   "outputs": [
    {
     "name": "stdout",
     "output_type": "stream",
     "text": [
      "inserisci un numero10\n",
      "il numero è maggiore di 2\n"
     ]
    }
   ],
   "source": [
    "x = float(input(\"inserisci un numero\"))\n",
    "\n",
    "if x == 0:\n",
    "    print(\"il numero inserito è zero\")\n",
    "elif x < 0:\n",
    "    print(\"il numero inserito è negativo\")\n",
    "elif (0 < x) and (x <= 2):\n",
    "    print(\"il numero è compreso (o uguale) tra 0 e 2\")\n",
    "else:\n",
    "    print(\"il numero è maggiore di 2\")"
   ]
  },
  {
   "cell_type": "markdown",
   "id": "f020ab65",
   "metadata": {},
   "source": [
    "# ORA PROVA TU\n",
    "Scrivi un conditional statement che, data una stringa in input, ci dice se la lunghezza della stringa è maggiore di 7 caratteri"
   ]
  },
  {
   "cell_type": "code",
   "execution_count": null,
   "id": "fc678c83",
   "metadata": {},
   "outputs": [],
   "source": []
  },
  {
   "cell_type": "code",
   "execution_count": 3,
   "id": "81469a44",
   "metadata": {
    "hide_input": false
   },
   "outputs": [
    {
     "name": "stdout",
     "output_type": "stream",
     "text": [
      "inserisci una stringa3\n",
      "La stringa è minore o uguale di 7 caratteri\n"
     ]
    }
   ],
   "source": [
    "x = input(\"inserisci una stringa\")\n",
    "if len(x) > 7:\n",
    "    print(\"la stringa è maggiore di 7 caratteri\")\n",
    "else:\n",
    "    print(\"La stringa è minore o uguale di 7 caratteri\")"
   ]
  },
  {
   "cell_type": "code",
   "execution_count": null,
   "id": "9b03eba9",
   "metadata": {},
   "outputs": [],
   "source": []
  },
  {
   "cell_type": "markdown",
   "id": "c6649eb4",
   "metadata": {},
   "source": [
    "# ORA PROVA TU\n",
    "Scriviamo una funzione che riceve due numeri interi e ci dice se il primo numero e maggiore del secondo"
   ]
  },
  {
   "cell_type": "code",
   "execution_count": 20,
   "id": "be6ec0e8",
   "metadata": {
    "hide_input": false
   },
   "outputs": [
    {
     "name": "stdout",
     "output_type": "stream",
     "text": [
      "Inserisci un numero3\n",
      "Inserisci un altro numero3\n",
      "3.0  è uguale a  3.0\n"
     ]
    }
   ],
   "source": [
    "def confronto(x,y):\n",
    "    if (x==y):\n",
    "        print(x,\" è uguale a \",y)\n",
    "    elif x < y:\n",
    "        print(x, \" è minore di \",y)\n",
    "    else:\n",
    "        print(x, \" è maggiore di \",y)\n",
    "        \n",
    "x = float(input(\"Inserisci un numero\"))\n",
    "y = float(input(\"Inserisci un altro numero\"))\n",
    "confronto(x,y)"
   ]
  },
  {
   "cell_type": "code",
   "execution_count": 15,
   "id": "a9621647",
   "metadata": {},
   "outputs": [
    {
     "name": "stdout",
     "output_type": "stream",
     "text": [
      "è minore\n"
     ]
    }
   ],
   "source": [
    "confronto(4,5)"
   ]
  },
  {
   "cell_type": "code",
   "execution_count": null,
   "id": "7e2f473b",
   "metadata": {},
   "outputs": [],
   "source": []
  },
  {
   "cell_type": "markdown",
   "id": "cb72d5ed",
   "metadata": {},
   "source": [
    "## ``for`` LOOP (CICLO)\n",
    "I loop in Python sono un modo per eseguire ripetutamente alcune istruzioni di codice.\n",
    "Quindi, per esempio, se vogliamo stampare ciascuno degli elementi in un elenco, possiamo usare un ciclo ``for``:"
   ]
  },
  {
   "cell_type": "code",
   "execution_count": 13,
   "id": "99a7dbcb",
   "metadata": {},
   "outputs": [],
   "source": [
    "a = [1,2,3,4,5]   # creo una lista"
   ]
  },
  {
   "cell_type": "code",
   "execution_count": 14,
   "id": "fbad9a9e",
   "metadata": {},
   "outputs": [
    {
     "name": "stdout",
     "output_type": "stream",
     "text": [
      "1\n",
      "2\n",
      "3\n",
      "4\n",
      "5\n"
     ]
    }
   ],
   "source": [
    "for i in a:\n",
    "    print(i)"
   ]
  },
  {
   "cell_type": "code",
   "execution_count": null,
   "id": "43f3c956",
   "metadata": {},
   "outputs": [],
   "source": []
  },
  {
   "cell_type": "code",
   "execution_count": 16,
   "id": "5c066418",
   "metadata": {},
   "outputs": [
    {
     "name": "stdout",
     "output_type": "stream",
     "text": [
      "1 2 3 4 5 "
     ]
    }
   ],
   "source": [
    "# se voglio stampare sulla stessa linea\n",
    "for i in a:\n",
    "    print(i, end=' ') #"
   ]
  },
  {
   "cell_type": "code",
   "execution_count": 23,
   "id": "377bae0f",
   "metadata": {},
   "outputs": [
    {
     "name": "stdout",
     "output_type": "stream",
     "text": [
      "['Corso', 'AI', 'with', 'Python']\n"
     ]
    }
   ],
   "source": [
    "b = [\"Corso\",\"AI\", \"with\", \"Python\"]\n",
    "print(b)"
   ]
  },
  {
   "cell_type": "code",
   "execution_count": 24,
   "id": "19b453b6",
   "metadata": {},
   "outputs": [
    {
     "name": "stdout",
     "output_type": "stream",
     "text": [
      "Corso\n",
      "AI\n",
      "with\n",
      "Python\n",
      "CorsoAIwithPython\n"
     ]
    }
   ],
   "source": [
    "a=\"\"\n",
    "for i in b:\n",
    "    print(i)\n",
    "    a=a+i\n",
    "print(a)"
   ]
  },
  {
   "cell_type": "code",
   "execution_count": null,
   "id": "94f241ee",
   "metadata": {},
   "outputs": [],
   "source": []
  },
  {
   "cell_type": "markdown",
   "id": "beb98839",
   "metadata": {},
   "source": [
    "Si noti la semplicità del ciclo for: \n",
    "\n",
    "1) specifichiamo la variabile che vogliamo usare, \n",
    "2) la sequenza su cui vogliamo eseguire il ciclo \n",
    "3) e usiamo l'operatore \"in\" per collegarli insieme in modo intuitivo e leggibile. \n",
    "\n",
    "Più precisamente, l'oggetto a DESTRA di \"in\" può essere qualsiasi ITERATORE Python.\n",
    "Un iteratore può essere pensato come una sequenza generalizzata di oggetti.\n",
    "\n",
    "Ad esempio, uno degli iteratori più comunemente usati in Python è l'oggetto range, che genera una sequenza di numeri:"
   ]
  },
  {
   "cell_type": "code",
   "execution_count": 10,
   "id": "ced65862",
   "metadata": {},
   "outputs": [
    {
     "name": "stdout",
     "output_type": "stream",
     "text": [
      "0 1 2 3 4 5 6 7 8 9 "
     ]
    }
   ],
   "source": [
    "for i in range(10):\n",
    "    print(i, end=' ')"
   ]
  },
  {
   "cell_type": "code",
   "execution_count": 31,
   "id": "1604c1e6",
   "metadata": {},
   "outputs": [
    {
     "data": {
      "text/plain": [
       "[0, 2, 4, 6, 8]"
      ]
     },
     "execution_count": 31,
     "metadata": {},
     "output_type": "execute_result"
    }
   ],
   "source": [
    "# range da 0 a 10 passo 2\n",
    "list(range(0, 10, 2))"
   ]
  },
  {
   "cell_type": "markdown",
   "id": "457ba359",
   "metadata": {},
   "source": [
    "# ESEMPIO 1\n",
    "Creiamo una funzione che esegue la somma di tutti i numeri presenti in una lista"
   ]
  },
  {
   "cell_type": "code",
   "execution_count": 26,
   "id": "2eeacf20",
   "metadata": {},
   "outputs": [],
   "source": [
    "def sommanumeri(x):\n",
    "    counter = 0\n",
    "    for i in x:\n",
    "        counter = counter + i\n",
    "    return counter"
   ]
  },
  {
   "cell_type": "code",
   "execution_count": 28,
   "id": "164b2dcd",
   "metadata": {},
   "outputs": [
    {
     "data": {
      "text/plain": [
       "15"
      ]
     },
     "execution_count": 28,
     "metadata": {},
     "output_type": "execute_result"
    }
   ],
   "source": [
    "a = [1,2,3,4,5]\n",
    "sommanumeri(a)"
   ]
  },
  {
   "cell_type": "markdown",
   "id": "95591ed0",
   "metadata": {},
   "source": [
    "# ESEMPIO 2\n",
    "Scriviamo una funzione Python che prende due liste e restituisce True se hanno almeno un elemento in comune"
   ]
  },
  {
   "cell_type": "code",
   "execution_count": 43,
   "id": "9310d70e",
   "metadata": {},
   "outputs": [],
   "source": [
    "def checklist(l1,l2):\n",
    "    common = False\n",
    "    count= 0\n",
    "    for i in l1:\n",
    "        for j in l2:\n",
    "            if i == j:\n",
    "                common = True\n",
    "                count = count+1\n",
    "                print(\"Trovati, \", count,\" elementi comuni\")\n",
    "    return common"
   ]
  },
  {
   "cell_type": "code",
   "execution_count": 42,
   "id": "9b13cadf",
   "metadata": {},
   "outputs": [
    {
     "name": "stdout",
     "output_type": "stream",
     "text": [
      "Trovati,  1  elementi comuni\n",
      "Trovati,  2  elementi comuni\n",
      "Trovati,  3  elementi comuni\n"
     ]
    },
    {
     "data": {
      "text/plain": [
       "True"
      ]
     },
     "execution_count": 42,
     "metadata": {},
     "output_type": "execute_result"
    }
   ],
   "source": [
    "l1 = [1,2,3,4,5,6]\n",
    "l2 = [1,2,3,7,8,9]\n",
    "checklist(l1,l2)"
   ]
  },
  {
   "cell_type": "markdown",
   "id": "42c68e6e",
   "metadata": {},
   "source": [
    "# ESEMPIO 3\n",
    "Scrivi un programma Python per ottenere la frequenza degli elementi di una lista\n",
    "\n",
    "\n",
    "<img src=\"fig/frequency of elements.png\">\n"
   ]
  },
  {
   "cell_type": "code",
   "execution_count": 45,
   "id": "dc37fc43",
   "metadata": {},
   "outputs": [],
   "source": [
    "a=[1,2,3,3,3,3,3,2,2,2,1,1,4,5,6,7]"
   ]
  },
  {
   "cell_type": "code",
   "execution_count": 46,
   "id": "58ac2a33",
   "metadata": {},
   "outputs": [
    {
     "data": {
      "text/plain": [
       "{1, 2, 3, 4, 5, 6, 7}"
      ]
     },
     "execution_count": 46,
     "metadata": {},
     "output_type": "execute_result"
    }
   ],
   "source": [
    "set(a)"
   ]
  },
  {
   "cell_type": "code",
   "execution_count": null,
   "id": "951551ec",
   "metadata": {},
   "outputs": [],
   "source": []
  },
  {
   "cell_type": "code",
   "execution_count": 51,
   "id": "4c6e638e",
   "metadata": {},
   "outputs": [],
   "source": [
    "def listFrequence(l):\n",
    "    a = set(l)\n",
    "    for i in a:\n",
    "        count=0\n",
    "        for j in l:\n",
    "            if i == j:\n",
    "                count = count+1\n",
    "        print(\"Elemento \",i,\" presente \", count)\n",
    "\n",
    "    "
   ]
  },
  {
   "cell_type": "code",
   "execution_count": 52,
   "id": "5f32dc80",
   "metadata": {},
   "outputs": [
    {
     "name": "stdout",
     "output_type": "stream",
     "text": [
      "Elemento  1  presente  3\n",
      "Elemento  2  presente  4\n",
      "Elemento  3  presente  5\n",
      "Elemento  4  presente  1\n",
      "Elemento  5  presente  1\n",
      "Elemento  6  presente  1\n",
      "Elemento  7  presente  1\n"
     ]
    }
   ],
   "source": [
    "listFrequence(a)"
   ]
  },
  {
   "cell_type": "markdown",
   "id": "601a3275",
   "metadata": {},
   "source": [
    "# APPROFONDIMENTO: I python OBJECTS"
   ]
  },
  {
   "cell_type": "code",
   "execution_count": null,
   "id": "e3654d77",
   "metadata": {},
   "outputs": [],
   "source": []
  },
  {
   "cell_type": "markdown",
   "id": "ad3dfb6d",
   "metadata": {},
   "source": [
    "Vedi notebook \"Hello world\""
   ]
  },
  {
   "cell_type": "code",
   "execution_count": 53,
   "id": "3bfc99b2",
   "metadata": {},
   "outputs": [],
   "source": [
    "a= [1,2,3,4,5,6,7]"
   ]
  },
  {
   "cell_type": "markdown",
   "id": "fd6a7443",
   "metadata": {},
   "source": [
    "# CONOSCIAMO I FIELDS E I METODI"
   ]
  },
  {
   "cell_type": "code",
   "execution_count": 56,
   "id": "fde7c7c2",
   "metadata": {},
   "outputs": [],
   "source": [
    "a.append(2)   #metodo append"
   ]
  },
  {
   "cell_type": "code",
   "execution_count": null,
   "id": "8826fda4",
   "metadata": {},
   "outputs": [],
   "source": []
  },
  {
   "cell_type": "code",
   "execution_count": 57,
   "id": "0098e146",
   "metadata": {},
   "outputs": [
    {
     "data": {
      "text/plain": [
       "[1, 2, 3, 4, 5, 6, 7, 2, 2]"
      ]
     },
     "execution_count": 57,
     "metadata": {},
     "output_type": "execute_result"
    }
   ],
   "source": [
    "a"
   ]
  },
  {
   "cell_type": "code",
   "execution_count": 63,
   "id": "2151607a",
   "metadata": {},
   "outputs": [
    {
     "data": {
      "text/plain": [
       "list"
      ]
     },
     "execution_count": 63,
     "metadata": {},
     "output_type": "execute_result"
    }
   ],
   "source": [
    "a.__class__   # fields "
   ]
  }
 ],
 "metadata": {
  "@webio": {
   "lastCommId": null,
   "lastKernelId": null
  },
  "hide_input": false,
  "kernelspec": {
   "display_name": "Python 3 (ipykernel)",
   "language": "python",
   "name": "python3"
  },
  "language_info": {
   "codemirror_mode": {
    "name": "ipython",
    "version": 3
   },
   "file_extension": ".py",
   "mimetype": "text/x-python",
   "name": "python",
   "nbconvert_exporter": "python",
   "pygments_lexer": "ipython3",
   "version": "3.10.8"
  },
  "varInspector": {
   "cols": {
    "lenName": 16,
    "lenType": 16,
    "lenVar": 40
   },
   "kernels_config": {
    "python": {
     "delete_cmd_postfix": "",
     "delete_cmd_prefix": "del ",
     "library": "var_list.py",
     "varRefreshCmd": "print(var_dic_list())"
    },
    "r": {
     "delete_cmd_postfix": ") ",
     "delete_cmd_prefix": "rm(",
     "library": "var_list.r",
     "varRefreshCmd": "cat(var_dic_list()) "
    }
   },
   "types_to_exclude": [
    "module",
    "function",
    "builtin_function_or_method",
    "instance",
    "_Feature"
   ],
   "window_display": false
  }
 },
 "nbformat": 4,
 "nbformat_minor": 5
}
